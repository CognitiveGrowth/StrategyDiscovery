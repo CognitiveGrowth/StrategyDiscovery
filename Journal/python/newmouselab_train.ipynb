{
 "cells": [
  {
   "cell_type": "code",
   "execution_count": 6,
   "metadata": {},
   "outputs": [],
   "source": [
    "%matplotlib inline\n",
    "import matplotlib.pyplot as plt\n",
    "import numpy as np\n",
    "import pandas as pd\n",
    "import seaborn as sns\n",
    "import scipy.stats\n",
    "from scipy.stats import norm\n",
    "import scipy.integrate as integrate\n",
    "\n",
    "import gym\n",
    "from gym import spaces\n",
    "\n",
    "import random\n",
    "import itertools as it\n",
    "from joblib import Parallel, delayed\n",
    "from toolz import memoize\n",
    "from contracts import contract\n",
    "from collections import namedtuple, defaultdict, deque, Counter\n",
    "\n",
    "import warnings\n",
    "warnings.filterwarnings(\"ignore\", \n",
    "                        message=\"The objective has been evaluated at this point before.\")\n",
    "\n",
    "from agents import Agent\n",
    "from newmouselab import NewMouselabEnv\n",
    "from policies import FixedPlanPolicy, LiederPolicy\n",
    "from evaluation import *\n",
    "from distributions import cmax, smax, sample, expectation, Normal, PointMass, SampleDist, TruncatedNormal, Categorical"
   ]
  },
  {
   "cell_type": "code",
   "execution_count": 2,
   "metadata": {},
   "outputs": [
    {
     "ename": "ModuleNotFoundError",
     "evalue": "No module named 'ipyparallel'",
     "output_type": "error",
     "traceback": [
      "\u001b[0;31m---------------------------------------------------------------------------\u001b[0m",
      "\u001b[0;31mModuleNotFoundError\u001b[0m                       Traceback (most recent call last)",
      "\u001b[0;32m<ipython-input-2-8926d2011088>\u001b[0m in \u001b[0;36m<module>\u001b[0;34m()\u001b[0m\n\u001b[0;32m----> 1\u001b[0;31m \u001b[0;32mimport\u001b[0m \u001b[0mipyparallel\u001b[0m \u001b[0;32mas\u001b[0m \u001b[0mipp\u001b[0m\u001b[0;34m\u001b[0m\u001b[0m\n\u001b[0m\u001b[1;32m      2\u001b[0m \u001b[0mrc\u001b[0m \u001b[0;34m=\u001b[0m \u001b[0mipp\u001b[0m\u001b[0;34m.\u001b[0m\u001b[0mClient\u001b[0m\u001b[0;34m(\u001b[0m\u001b[0mprofile\u001b[0m\u001b[0;34m=\u001b[0m\u001b[0;34m'default'\u001b[0m\u001b[0;34m,\u001b[0m \u001b[0mcluster_id\u001b[0m\u001b[0;34m=\u001b[0m\u001b[0;34m''\u001b[0m\u001b[0;34m)\u001b[0m\u001b[0;34m\u001b[0m\u001b[0m\n\u001b[1;32m      3\u001b[0m \u001b[0mipp\u001b[0m\u001b[0;34m.\u001b[0m\u001b[0mregister_joblib_backend\u001b[0m\u001b[0;34m(\u001b[0m\u001b[0;34m)\u001b[0m\u001b[0;34m\u001b[0m\u001b[0m\n",
      "\u001b[0;31mModuleNotFoundError\u001b[0m: No module named 'ipyparallel'"
     ]
    }
   ],
   "source": [
    "import ipyparallel as ipp \n",
    "rc = ipp.Client(profile='default', cluster_id='')\n",
    "ipp.register_joblib_backend()"
   ]
  },
  {
   "cell_type": "markdown",
   "metadata": {},
   "source": [
    "# Mouselab Environment"
   ]
  },
  {
   "cell_type": "code",
   "execution_count": 7,
   "metadata": {},
   "outputs": [],
   "source": [
    "gambles = 4\n",
    "attributes = 4\n",
    "reward = Normal(2,1)\n",
    "cost=0.03\n",
    "env = NewMouselabEnv(gambles, attributes, reward, cost)"
   ]
  },
  {
   "cell_type": "code",
   "execution_count": 8,
   "metadata": {},
   "outputs": [
    {
     "data": {
      "text/plain": [
       "array([-0.03 ,  0.1  ,  0.199,  0.649,  2.   ])"
      ]
     },
     "execution_count": 8,
     "metadata": {},
     "output_type": "execute_result"
    }
   ],
   "source": [
    "env.action_features(4)"
   ]
  },
  {
   "cell_type": "code",
   "execution_count": 9,
   "metadata": {},
   "outputs": [],
   "source": [
    "attributes = 4\n",
    "env = NewMouselabEnv(gambles, attributes, reward, cost, alpha=0.15)"
   ]
  },
  {
   "cell_type": "code",
   "execution_count": 10,
   "metadata": {},
   "outputs": [
    {
     "data": {
      "text/plain": [
       "array([  1.405e-02,   5.263e-09,   1.576e-04,   9.858e-01])"
      ]
     },
     "execution_count": 10,
     "metadata": {},
     "output_type": "execute_result"
    }
   ],
   "source": [
    "env._state[0].ground_truth"
   ]
  },
  {
   "cell_type": "code",
   "execution_count": 11,
   "metadata": {
    "collapsed": true
   },
   "outputs": [],
   "source": [
    "attributes = 4\n",
    "env = NewMouselabEnv(gambles, attributes, reward, cost, alpha=1.5)"
   ]
  },
  {
   "cell_type": "code",
   "execution_count": 12,
   "metadata": {},
   "outputs": [
    {
     "data": {
      "text/plain": [
       "array([ 0.664,  0.011,  0.136,  0.189])"
      ]
     },
     "execution_count": 12,
     "metadata": {},
     "output_type": "execute_result"
    }
   ],
   "source": [
    "env._state[0].ground_truth"
   ]
  },
  {
   "cell_type": "code",
   "execution_count": 13,
   "metadata": {
    "scrolled": false
   },
   "outputs": [
    {
     "data": {
      "text/plain": [
       "array([-0.03 ,  0.1  ,  0.199,  0.608,  2.   ])"
      ]
     },
     "execution_count": 13,
     "metadata": {},
     "output_type": "execute_result"
    }
   ],
   "source": [
    "env.action_features(4)"
   ]
  },
  {
   "cell_type": "code",
   "execution_count": 14,
   "metadata": {
    "collapsed": true
   },
   "outputs": [],
   "source": [
    "state = env.reset()"
   ]
  },
  {
   "cell_type": "code",
   "execution_count": 15,
   "metadata": {},
   "outputs": [
    {
     "data": {
      "text/plain": [
       "[0, 1, 2, 3, 4, 5, 6, 7, 8, 9, 10, 11, 12, 13, 14, 15, 16, 17, 18, 19, 20]"
      ]
     },
     "execution_count": 15,
     "metadata": {},
     "output_type": "execute_result"
    }
   ],
   "source": [
    "list(env.actions(state))"
   ]
  },
  {
   "cell_type": "markdown",
   "metadata": {},
   "source": [
    "## Time features"
   ]
  },
  {
   "cell_type": "code",
   "execution_count": 16,
   "metadata": {
    "collapsed": true
   },
   "outputs": [],
   "source": [
    "import datetime"
   ]
  },
  {
   "cell_type": "code",
   "execution_count": 17,
   "metadata": {},
   "outputs": [
    {
     "data": {
      "text/plain": [
       "array([ 0.25,  0.25,  0.25,  0.25])"
      ]
     },
     "execution_count": 17,
     "metadata": {},
     "output_type": "execute_result"
    }
   ],
   "source": [
    "env.dist"
   ]
  },
  {
   "cell_type": "markdown",
   "metadata": {},
   "source": [
    "### VPI_all"
   ]
  },
  {
   "cell_type": "code",
   "execution_count": 24,
   "metadata": {},
   "outputs": [
    {
     "name": "stdout",
     "output_type": "stream",
     "text": [
      "0:00:00.000176\n",
      "0.607749360206\n"
     ]
    }
   ],
   "source": [
    "a = datetime.datetime.now()\n",
    "b = []\n",
    "for i in range(100):\n",
    "    b.append(env.vpi())\n",
    "t = datetime.datetime.now() - a\n",
    "print(t)\n",
    "print(np.mean(b))"
   ]
  },
  {
   "cell_type": "markdown",
   "metadata": {},
   "source": [
    "### VPI_action"
   ]
  },
  {
   "cell_type": "code",
   "execution_count": 25,
   "metadata": {
    "scrolled": true
   },
   "outputs": [
    {
     "name": "stdout",
     "output_type": "stream",
     "text": [
      "0:00:00.000160\n",
      "0.199471140201\n"
     ]
    }
   ],
   "source": [
    "a = datetime.datetime.now()\n",
    "b = []\n",
    "for i in range(100):\n",
    "    b.append(env.vpi_action(2))\n",
    "t = datetime.datetime.now() - a\n",
    "print(t)\n",
    "print(np.mean(b))"
   ]
  },
  {
   "cell_type": "markdown",
   "metadata": {},
   "source": [
    "### Myopic_VOI"
   ]
  },
  {
   "cell_type": "code",
   "execution_count": 26,
   "metadata": {},
   "outputs": [
    {
     "name": "stdout",
     "output_type": "stream",
     "text": [
      "0:00:00.085242\n",
      "0.0\n"
     ]
    }
   ],
   "source": [
    "a = datetime.datetime.now()\n",
    "b = []\n",
    "for i in range(100):\n",
    "    b.append(env.myopic_voi(0))\n",
    "t = datetime.datetime.now() - a\n",
    "print(t)\n",
    "print(np.mean(b))"
   ]
  },
  {
   "cell_type": "markdown",
   "metadata": {},
   "source": [
    "# Training"
   ]
  },
  {
   "cell_type": "code",
   "execution_count": 27,
   "metadata": {
    "collapsed": true
   },
   "outputs": [],
   "source": [
    "def hd_dist(attributes):\n",
    "    dist = [1,]*attributes\n",
    "    dist[0] = np.random.randint(85,97)\n",
    "    for i in range(1,attributes-1):\n",
    "        dist[i] += np.random.randint(0,100-np.sum(dist))\n",
    "    dist[-1] += 100-np.sum(dist)\n",
    "    dist = np.around(np.array(dist)/100,decimals=2)\n",
    "    np.random.shuffle(dist)\n",
    "    return dist"
   ]
  },
  {
   "cell_type": "code",
   "execution_count": 28,
   "metadata": {
    "collapsed": true
   },
   "outputs": [],
   "source": [
    "for _ in range(1000):\n",
    "    if np.max(hd_dist(4)) < 0.85:\n",
    "        print('goshdarn')\n",
    "        break"
   ]
  },
  {
   "cell_type": "code",
   "execution_count": 29,
   "metadata": {
    "collapsed": true
   },
   "outputs": [],
   "source": [
    "def ld_dist(attributes):\n",
    "    constrain = True\n",
    "    while constrain:\n",
    "        dist = [np.random.randint(10,50) for _ in range(attributes)]\n",
    "        dist = np.around(np.array(dist)/sum(dist),decimals=2)\n",
    "        constrain = np.min(dist) <= 0.10 or np.max(dist) >= 0.40\n",
    "    np.random.shuffle(dist)\n",
    "    return dist"
   ]
  },
  {
   "cell_type": "code",
   "execution_count": 30,
   "metadata": {
    "collapsed": true
   },
   "outputs": [],
   "source": [
    "for _ in range(1000):\n",
    "    dist = ld_dist(4)\n",
    "    if np.min(dist) <= 0.10 or np.max(dist) >= 0.40:\n",
    "        print('goshdarn')\n",
    "        break"
   ]
  },
  {
   "cell_type": "markdown",
   "metadata": {},
   "source": [
    "## High Stakes 1 cents"
   ]
  },
  {
   "cell_type": "code",
   "execution_count": 36,
   "metadata": {
    "collapsed": true
   },
   "outputs": [],
   "source": [
    "gambles = 7\n",
    "attributes = 4\n",
    "high_stakes = Normal((9.99+0.01)/2, 0.3*(9.99-0.01))\n",
    "low_stakes = Normal((0.25+0.01)/2, 0.3*(0.25-0.01))\n",
    "reward = high_stakes\n",
    "cost=.03\n",
    "\n",
    "#set to 20 for sanity check\n",
    "n_train = 20\n",
    "n_test = 20\n",
    "\n",
    "train_envs_hd = [NewMouselabEnv(gambles, attributes, reward, cost, alpha=0.15) for _ in range(n_train)]\n",
    "train_envs_ld = [NewMouselabEnv(gambles, attributes, reward, cost, alpha=1.5) for _ in range(n_train)]\n",
    "train_envs = train_envs_hd+train_envs_ld \n",
    "\n",
    "test_envs_hd = [NewMouselabEnv(gambles, attributes, reward, cost, alpha=0.15) for _ in range(n_train)]\n",
    "test_envs_ld = [NewMouselabEnv(gambles, attributes, reward, cost, alpha=1.5) for _ in range(n_train)]\n",
    "test_envs = test_envs_hd+test_envs_ld \n",
    "\n",
    "term_action = train_envs[0].term_action"
   ]
  },
  {
   "cell_type": "code",
   "execution_count": 37,
   "metadata": {},
   "outputs": [
    {
     "name": "stdout",
     "output_type": "stream",
     "text": [
      "[ 16.916   0.384   0.324   0.293   1.   ] -> 7.132 in 131 sec\n",
      "[ 13.286   0.327   0.222   0.451   1.   ] -> 7.229 in 175 sec\n",
      "[ 28.946   0.225   0.465   0.31    1.   ] -> 6.688 in 117 sec\n",
      "[ 17.473   0.854   0.066   0.08    1.   ] -> 5.312 in 47 sec\n"
     ]
    },
    {
     "name": "stderr",
     "output_type": "stream",
     "text": [
      "/Users/sayangul/anaconda/lib/python3.6/site-packages/scipy/stats/_distn_infrastructure.py:1652: RuntimeWarning: divide by zero encountered in double_scalars\n",
      "  x = np.asarray((x - loc)/scale, dtype=dtyp)\n",
      "/Users/sayangul/anaconda/lib/python3.6/site-packages/scipy/integrate/quadpack.py:385: IntegrationWarning: The occurrence of roundoff error is detected, which prevents \n",
      "  the requested tolerance from being achieved.  The error may be \n",
      "  underestimated.\n",
      "  warnings.warn(msg, IntegrationWarning)\n",
      "/Users/sayangul/anaconda/lib/python3.6/site-packages/scipy/stats/_distn_infrastructure.py:1735: RuntimeWarning: divide by zero encountered in double_scalars\n",
      "  x = np.asarray((x - loc)/scale, dtype=dtyp)\n"
     ]
    },
    {
     "name": "stdout",
     "output_type": "stream",
     "text": [
      "[ 1.586  0.336  0.314  0.351  1.   ] -> 7.562 in 225 sec\n",
      "[ 29.38    0.392   0.226   0.382   1.   ] -> 6.626 in 117 sec\n",
      "[ 4.43   0.37   0.083  0.547  1.   ] -> 7.55 in 277 sec\n",
      "[ 16.134   0.285   0.182   0.533   1.   ] -> 7.324 in 171 sec\n"
     ]
    },
    {
     "name": "stderr",
     "output_type": "stream",
     "text": [
      "/Users/sayangul/anaconda/lib/python3.6/site-packages/scipy/stats/_distn_infrastructure.py:1652: RuntimeWarning: divide by zero encountered in double_scalars\n",
      "  x = np.asarray((x - loc)/scale, dtype=dtyp)\n",
      "/Users/sayangul/anaconda/lib/python3.6/site-packages/scipy/integrate/quadpack.py:385: IntegrationWarning: The occurrence of roundoff error is detected, which prevents \n",
      "  the requested tolerance from being achieved.  The error may be \n",
      "  underestimated.\n",
      "  warnings.warn(msg, IntegrationWarning)\n",
      "/Users/sayangul/anaconda/lib/python3.6/site-packages/scipy/stats/_distn_infrastructure.py:1735: RuntimeWarning: divide by zero encountered in double_scalars\n",
      "  x = np.asarray((x - loc)/scale, dtype=dtyp)\n"
     ]
    },
    {
     "name": "stdout",
     "output_type": "stream",
     "text": [
      "[ 14.228   0.472   0.016   0.513   1.   ] -> 7.054 in 262 sec\n",
      "[ 18.751   0.275   0.421   0.304   1.   ] -> 7.069 in 122 sec\n",
      "[ 1.   0.   0.5  0.5  1. ] -> 7.381 in 353 sec\n",
      "[ 1.     0.548  0.     0.452  1.   ] -> 7.416 in 311 sec\n",
      "[ 1.     0.     0.597  0.403  1.   ] -> 7.378 in 350 sec\n"
     ]
    },
    {
     "name": "stderr",
     "output_type": "stream",
     "text": [
      "/Users/sayangul/anaconda/lib/python3.6/site-packages/scipy/stats/_distn_infrastructure.py:1652: RuntimeWarning: divide by zero encountered in double_scalars\n",
      "  x = np.asarray((x - loc)/scale, dtype=dtyp)\n",
      "/Users/sayangul/anaconda/lib/python3.6/site-packages/scipy/integrate/quadpack.py:385: IntegrationWarning: The occurrence of roundoff error is detected, which prevents \n",
      "  the requested tolerance from being achieved.  The error may be \n",
      "  underestimated.\n",
      "  warnings.warn(msg, IntegrationWarning)\n",
      "/Users/sayangul/anaconda/lib/python3.6/site-packages/scipy/stats/_distn_infrastructure.py:1735: RuntimeWarning: divide by zero encountered in double_scalars\n",
      "  x = np.asarray((x - loc)/scale, dtype=dtyp)\n"
     ]
    },
    {
     "name": "stdout",
     "output_type": "stream",
     "text": [
      "[ 1.  0.  0.  1.  1.] -> 7.126 in 302 sec\n"
     ]
    },
    {
     "name": "stderr",
     "output_type": "stream",
     "text": [
      "/Users/sayangul/anaconda/lib/python3.6/site-packages/scipy/stats/_distn_infrastructure.py:1652: RuntimeWarning: divide by zero encountered in double_scalars\n",
      "  x = np.asarray((x - loc)/scale, dtype=dtyp)\n",
      "/Users/sayangul/anaconda/lib/python3.6/site-packages/scipy/integrate/quadpack.py:385: IntegrationWarning: The occurrence of roundoff error is detected, which prevents \n",
      "  the requested tolerance from being achieved.  The error may be \n",
      "  underestimated.\n",
      "  warnings.warn(msg, IntegrationWarning)\n",
      "/Users/sayangul/anaconda/lib/python3.6/site-packages/scipy/stats/_distn_infrastructure.py:1735: RuntimeWarning: divide by zero encountered in double_scalars\n",
      "  x = np.asarray((x - loc)/scale, dtype=dtyp)\n"
     ]
    },
    {
     "name": "stdout",
     "output_type": "stream",
     "text": [
      "[ 1.     0.333  0.333  0.333  1.   ] -> 7.598 in 228 sec\n",
      "[ 1.     0.333  0.333  0.333  1.   ] -> 7.581 in 230 sec\n"
     ]
    },
    {
     "name": "stderr",
     "output_type": "stream",
     "text": [
      "/Users/sayangul/anaconda/lib/python3.6/site-packages/scipy/stats/_distn_infrastructure.py:1652: RuntimeWarning: divide by zero encountered in double_scalars\n",
      "  x = np.asarray((x - loc)/scale, dtype=dtyp)\n",
      "/Users/sayangul/anaconda/lib/python3.6/site-packages/scipy/integrate/quadpack.py:385: IntegrationWarning: The occurrence of roundoff error is detected, which prevents \n",
      "  the requested tolerance from being achieved.  The error may be \n",
      "  underestimated.\n",
      "  warnings.warn(msg, IntegrationWarning)\n",
      "/Users/sayangul/anaconda/lib/python3.6/site-packages/scipy/stats/_distn_infrastructure.py:1735: RuntimeWarning: divide by zero encountered in double_scalars\n",
      "  x = np.asarray((x - loc)/scale, dtype=dtyp)\n"
     ]
    },
    {
     "name": "stdout",
     "output_type": "stream",
     "text": [
      "[ 1.     0.333  0.333  0.333  1.   ] -> 7.559 in 227 sec\n",
      "[ 1.     0.241  0.38   0.38   1.   ] -> 7.591 in 229 sec\n",
      "[ 1.051  0.314  0.354  0.332  1.   ] -> 7.559 in 234 sec\n",
      "[ 1.   0.5  0.   0.5  1. ] -> 7.418 in 307 sec\n",
      "BO: [ 1.     0.333  0.333  0.333  1.   ] -> 7.598 in 4421 sec\n",
      "1:13:40.535829\n"
     ]
    }
   ],
   "source": [
    "a = datetime.datetime.now()\n",
    "# bop2 = bo_policy(train_envs, max_cost=max_obs, n_jobs=20, n_calls=20, x0=[1., 1., 0., 0.])\n",
    "bo_pol, result = bo_policy(train_envs, max_cost=30, n_jobs=20, n_calls=20,\n",
    "                           verbose=1, normalize_voi=True, return_result=True)\n",
    "t = datetime.datetime.now() - a\n",
    "print(t)"
   ]
  },
  {
   "cell_type": "code",
   "execution_count": 38,
   "metadata": {},
   "outputs": [
    {
     "data": {
      "text/plain": [
       "<matplotlib.axes._subplots.AxesSubplot at 0x11c667080>"
      ]
     },
     "execution_count": 38,
     "metadata": {},
     "output_type": "execute_result"
    },
    {
     "data": {
      "image/png": "[encoded data removed]",
      "text/plain": [
       "<Figure size 432x288 with 1 Axes>"
      ]
     },
     "metadata": {},
     "output_type": "display_data"
    }
   ],
   "source": [
    "from skopt.plots import plot_convergence, plot_evaluations, plot_objective\n",
    "plot_convergence(result)"
   ]
  },
  {
   "cell_type": "code",
   "execution_count": 39,
   "metadata": {},
   "outputs": [
    {
     "data": {
      "text/plain": [
       "array([ 1.   ,  0.333,  0.333,  0.333,  1.   ])"
      ]
     },
     "execution_count": 39,
     "metadata": {},
     "output_type": "execute_result"
    }
   ],
   "source": [
    "bo_pol.theta"
   ]
  },
  {
   "cell_type": "code",
   "execution_count": 40,
   "metadata": {
    "collapsed": true
   },
   "outputs": [],
   "source": [
    "# np.save('high_stakes_3cents',bo_pol.theta)"
   ]
  },
  {
   "cell_type": "code",
   "execution_count": 41,
   "metadata": {},
   "outputs": [],
   "source": [
    "a = datetime.datetime.now()\n",
    "bo_utils = get_util(bo_pol, test_envs, parallel=Parallel(n_jobs=20),return_mean=False)\n",
    "t = datetime.datetime.now() - a"
   ]
  },
  {
   "cell_type": "code",
   "execution_count": 42,
   "metadata": {
    "scrolled": true
   },
   "outputs": [
    {
     "data": {
      "text/plain": [
       "7.4526281335915865"
      ]
     },
     "execution_count": 42,
     "metadata": {},
     "output_type": "execute_result"
    }
   ],
   "source": [
    "np.mean(bo_utils)"
   ]
  },
  {
   "cell_type": "code",
   "execution_count": 43,
   "metadata": {},
   "outputs": [],
   "source": [
    "mg_pol = LiederPolicy([1, 1, 0, 0, 1])\n",
    "a = datetime.datetime.now()\n",
    "mg_utils = get_util(mg_pol, test_envs, parallel=Parallel(n_jobs=20),return_mean=False)\n",
    "t = datetime.datetime.now() - a"
   ]
  },
  {
   "cell_type": "code",
   "execution_count": 44,
   "metadata": {},
   "outputs": [
    {
     "data": {
      "text/plain": [
       "6.5474745857125978"
      ]
     },
     "execution_count": 44,
     "metadata": {},
     "output_type": "execute_result"
    }
   ],
   "source": [
    "np.mean(mg_utils)"
   ]
  },
  {
   "cell_type": "code",
   "execution_count": 38,
   "metadata": {},
   "outputs": [
    {
     "data": {
      "text/plain": [
       "Ttest_indResult(statistic=nan, pvalue=nan)"
      ]
     },
     "execution_count": 38,
     "metadata": {},
     "output_type": "execute_result"
    }
   ],
   "source": [
    "from scipy.stats import ttest_ind\n",
    "ttest_ind(bo_utils,mg_utils)"
   ]
  },
  {
   "cell_type": "code",
   "execution_count": 39,
   "metadata": {},
   "outputs": [
    {
     "data": {
      "text/plain": [
       "Ttest_relResult(statistic=nan, pvalue=nan)"
      ]
     },
     "execution_count": 39,
     "metadata": {},
     "output_type": "execute_result"
    }
   ],
   "source": [
    "from scipy.stats import ttest_rel\n",
    "ttest_rel(bo_utils,mg_utils)"
   ]
  },
  {
   "cell_type": "code",
   "execution_count": 45,
   "metadata": {
    "collapsed": true
   },
   "outputs": [],
   "source": [
    "no_pol = FixedPlanPolicy([term_action])\n",
    "a = datetime.datetime.now()\n",
    "no_utils = get_util(no_pol, test_envs, parallel=Parallel(n_jobs=20),return_mean=False)\n",
    "t = datetime.datetime.now() - a"
   ]
  },
  {
   "cell_type": "code",
   "execution_count": 46,
   "metadata": {
    "scrolled": true
   },
   "outputs": [
    {
     "data": {
      "text/plain": [
       "5.0"
      ]
     },
     "execution_count": 46,
     "metadata": {},
     "output_type": "execute_result"
    }
   ],
   "source": [
    "np.mean(no_utils)"
   ]
  },
  {
   "cell_type": "code",
   "execution_count": 47,
   "metadata": {
    "collapsed": true
   },
   "outputs": [],
   "source": [
    "fo_pol = FixedPlanPolicy(range(term_action+1))\n",
    "a = datetime.datetime.now()\n",
    "fo_utils = get_util(fo_pol, test_envs, parallel=Parallel(n_jobs=20),return_mean=False)\n",
    "t = datetime.datetime.now() - a"
   ]
  },
  {
   "cell_type": "code",
   "execution_count": 48,
   "metadata": {},
   "outputs": [
    {
     "data": {
      "text/plain": [
       "6.8361839361895447"
      ]
     },
     "execution_count": 48,
     "metadata": {},
     "output_type": "execute_result"
    }
   ],
   "source": [
    "np.mean(fo_utils)"
   ]
  },
  {
   "cell_type": "code",
   "execution_count": 44,
   "metadata": {
    "collapsed": true
   },
   "outputs": [],
   "source": [
    "utils = [bo_utils,mg_utils,no_utils,fo_utils]\n",
    "policies = ['bo','metagreedy','none','full-obs']\n",
    "d_list = []\n",
    "for u,p in zip(utils,policies):\n",
    "    for result in u:\n",
    "        d_list.append({'util':result,'stakes':'high','cost':0.03,'policy':p})"
   ]
  },
  {
   "cell_type": "code",
   "execution_count": 39,
   "metadata": {},
   "outputs": [
    {
     "data": {
      "text/plain": [
       "5.0"
      ]
     },
     "execution_count": 39,
     "metadata": {},
     "output_type": "execute_result"
    }
   ],
   "source": [
    "df[df['policy'] == 'metagreedy'].util.mean()"
   ]
  },
  {
   "cell_type": "markdown",
   "metadata": {},
   "source": [
    "## Individual Policies 1 cents"
   ]
  },
  {
   "cell_type": "code",
   "execution_count": 59,
   "metadata": {
    "collapsed": true
   },
   "outputs": [],
   "source": [
    "gambles = 7\n",
    "attributes = 4\n",
    "high_stakes = TruncatedNormal((9.99+0.01)/2, 0.3*(9.99-0.01),0.01,9.99)\n",
    "low_stakes = TruncatedNormal((0.25+0.01)/2, 0.3*(0.25-0.01),0.01,0.25)\n",
    "cost=.01\n",
    "\n",
    "#set to 20 for sanity check\n",
    "n_train = 500\n",
    "# n_test = 500\n",
    "\n",
    "train_hs_hd = [OldMouselabEnv(gambles, hd_dist(attributes), high_stakes, cost) for _ in range(n_train)]\n",
    "train_hs_ld = [OldMouselabEnv(gambles, ld_dist(attributes), high_stakes, cost) for _ in range(n_train)]\n",
    "train_ls_hd = [OldMouselabEnv(gambles, hd_dist(attributes), low_stakes, cost) for _ in range(n_train)]\n",
    "train_ls_ld = [OldMouselabEnv(gambles, ld_dist(attributes), low_stakes, cost) for _ in range(n_train)]\n",
    "\n",
    "test_hs_hd = [OldMouselabEnv(gambles, hd_dist(attributes), high_stakes, cost) for _ in range(n_train)]\n",
    "test_hs_ld = [OldMouselabEnv(gambles, ld_dist(attributes), high_stakes, cost) for _ in range(n_train)]\n",
    "test_ls_hd = [OldMouselabEnv(gambles, hd_dist(attributes), low_stakes, cost) for _ in range(n_train)]\n",
    "test_ls_ld = [OldMouselabEnv(gambles, ld_dist(attributes), low_stakes, cost) for _ in range(n_train)]\n",
    "\n",
    "term_action = train_hs_hd[0].term_action"
   ]
  },
  {
   "cell_type": "code",
   "execution_count": null,
   "metadata": {
    "scrolled": true
   },
   "outputs": [
    {
     "name": "stdout",
     "output_type": "stream",
     "text": [
      "[ 18.192   0.331   0.337   0.332   1.   ] -> 7.787 in 146 sec\n",
      "[ 19.083   0.52    0.403   0.077   1.   ] -> 7.784 in 136 sec\n",
      "[ 8.907  0.27   0.459  0.271  1.   ] -> 7.789 in 157 sec\n",
      "[ 12.391   0.459   0.185   0.356   1.   ] -> 7.788 in 155 sec\n",
      "[ 11.679   0.486   0.071   0.442   1.   ] -> 7.789 in 156 sec\n",
      "[ 14.735   0.4     0.26    0.339   1.   ] -> 7.786 in 150 sec\n",
      "[ 21.898   0.31    0.286   0.404   1.   ] -> 7.78 in 145 sec\n",
      "[ 4.071  0.339  0.133  0.528  1.   ] -> 7.789 in 163 sec\n",
      "[ 7.28   0.222  0.532  0.246  1.   ] -> 7.788 in 160 sec\n",
      "[ 7.447  0.222  0.519  0.259  1.   ] -> 7.787 in 161 sec\n",
      "[ 1.     0.333  0.333  0.333  1.   ] -> 7.789 in 169 sec\n",
      "[ 1.3    0.82   0.165  0.014  1.   ] -> 7.789 in 165 sec\n",
      "[ 1.098  0.     0.067  0.933  1.   ] -> 7.654 in 318 sec\n",
      "[ 30.   1.   0.   0.   1.] -> 7.667 in 121 sec\n",
      "[ 2.024  0.448  0.318  0.234  1.   ] -> 7.79 in 165 sec\n"
     ]
    }
   ],
   "source": [
    "bo_pol, result = bo_policy(train_hs_hd, max_cost=30, n_jobs=100, n_calls=20,\n",
    "                           verbose=1, normalize_voi=True, return_result=True)\n",
    "np.save('data/hs_hd_1cents-2',bo_pol.theta)"
   ]
  },
  {
   "cell_type": "code",
   "execution_count": null,
   "metadata": {
    "collapsed": true
   },
   "outputs": [],
   "source": [
    "hs_hd_utils = get_util(bo_pol, test_hs_hd, parallel=Parallel(n_jobs=100),return_mean=False)"
   ]
  },
  {
   "cell_type": "code",
   "execution_count": null,
   "metadata": {
    "collapsed": true
   },
   "outputs": [],
   "source": [
    "d_list = []\n",
    "for result in hs_hd_utils:\n",
    "    d_list.append({'util':result,'stakes':'high','cost':cost,'disp':'high'})\n",
    "df = pd.DataFrame(d_list)\n",
    "df.to_hdf('data/hs_hd_1cents_results-2','results')"
   ]
  },
  {
   "cell_type": "code",
   "execution_count": 18,
   "metadata": {},
   "outputs": [
    {
     "data": {
      "text/plain": [
       "7.816494466110364"
      ]
     },
     "execution_count": 18,
     "metadata": {},
     "output_type": "execute_result"
    }
   ],
   "source": [
    "df2 = pd.read_hdf('data/hs_hd_1cents_results-2','results')\n",
    "df2.util.mean()"
   ]
  },
  {
   "cell_type": "code",
   "execution_count": null,
   "metadata": {
    "collapsed": true,
    "scrolled": true
   },
   "outputs": [],
   "source": [
    "bo_pol, result = bo_policy(train_hs_ld, max_cost=30, n_jobs=100, n_calls=20,\n",
    "                           verbose=1, normalize_voi=True, return_result=True)\n",
    "np.save('data/hs_ld_1cents-2',bo_pol.theta)"
   ]
  },
  {
   "cell_type": "code",
   "execution_count": null,
   "metadata": {
    "collapsed": true
   },
   "outputs": [],
   "source": [
    "hs_ld_utils = get_util(bo_pol, test_hs_ld, parallel=Parallel(n_jobs=100),return_mean=False)"
   ]
  },
  {
   "cell_type": "code",
   "execution_count": null,
   "metadata": {
    "collapsed": true
   },
   "outputs": [],
   "source": [
    "d_list = []\n",
    "for result in hs_ld_utils:\n",
    "    d_list.append({'util':result,'stakes':'high','cost':cost,'disp':'low'})\n",
    "df = pd.DataFrame(d_list)\n",
    "df.to_hdf('data/hs_ld_1cents_results-2','results')"
   ]
  },
  {
   "cell_type": "code",
   "execution_count": 19,
   "metadata": {},
   "outputs": [
    {
     "data": {
      "text/plain": [
       "6.525158221767088"
      ]
     },
     "execution_count": 19,
     "metadata": {},
     "output_type": "execute_result"
    }
   ],
   "source": [
    "df2 = pd.read_hdf('data/hs_ld_1cents_results-2','results')\n",
    "df2.util.mean()"
   ]
  },
  {
   "cell_type": "code",
   "execution_count": null,
   "metadata": {
    "collapsed": true,
    "scrolled": true
   },
   "outputs": [],
   "source": [
    "bo_pol, result = bo_policy(train_ls_hd, max_cost=30, n_jobs=100, n_calls=20,\n",
    "                           verbose=1, normalize_voi=True, return_result=True)\n",
    "np.save('data/ls_hd_1cents-2',bo_pol.theta)"
   ]
  },
  {
   "cell_type": "code",
   "execution_count": null,
   "metadata": {
    "collapsed": true
   },
   "outputs": [],
   "source": [
    "ls_hd_utils = get_util(bo_pol, test_ls_hd, parallel=Parallel(n_jobs=100),return_mean=False)"
   ]
  },
  {
   "cell_type": "code",
   "execution_count": null,
   "metadata": {
    "collapsed": true
   },
   "outputs": [],
   "source": [
    "d_list = []\n",
    "for result in ls_hd_utils:\n",
    "    d_list.append({'util':result,'stakes':'low','cost':cost,'disp':'high'})\n",
    "df = pd.DataFrame(d_list)\n",
    "df.to_hdf('data/ls_hd_1cents_results-2','results')"
   ]
  },
  {
   "cell_type": "code",
   "execution_count": 20,
   "metadata": {},
   "outputs": [
    {
     "data": {
      "text/plain": [
       "0.1552926010921473"
      ]
     },
     "execution_count": 20,
     "metadata": {},
     "output_type": "execute_result"
    }
   ],
   "source": [
    "df2 = pd.read_hdf('data/ls_hd_1cents_results-2','results')\n",
    "df2.util.mean()"
   ]
  },
  {
   "cell_type": "code",
   "execution_count": null,
   "metadata": {
    "collapsed": true,
    "scrolled": true
   },
   "outputs": [],
   "source": [
    "bo_pol, result = bo_policy(train_ls_ld, max_cost=30, n_jobs=100, n_calls=20,\n",
    "                           verbose=1, normalize_voi=True, return_result=True)\n",
    "np.save('data/ls_ld_1cents-2',bo_pol.theta)"
   ]
  },
  {
   "cell_type": "code",
   "execution_count": null,
   "metadata": {
    "collapsed": true
   },
   "outputs": [],
   "source": [
    "ls_ld_utils = get_util(bo_pol, test_ls_ld, parallel=Parallel(n_jobs=100),return_mean=False)"
   ]
  },
  {
   "cell_type": "code",
   "execution_count": null,
   "metadata": {
    "collapsed": true
   },
   "outputs": [],
   "source": [
    "d_list = []\n",
    "for result in ls_ld_utils:\n",
    "    d_list.append({'util':result,'stakes':'low','cost':cost,'disp':'low'})\n",
    "df = pd.DataFrame(d_list)\n",
    "df.to_hdf('data/ls_ld_1cents_results-2','results')"
   ]
  },
  {
   "cell_type": "code",
   "execution_count": 21,
   "metadata": {},
   "outputs": [
    {
     "data": {
      "text/plain": [
       "0.13000000000000103"
      ]
     },
     "execution_count": 21,
     "metadata": {},
     "output_type": "execute_result"
    }
   ],
   "source": [
    "df2 = pd.read_hdf('data/ls_ld_1cents_results-2','results')\n",
    "df2.util.mean()"
   ]
  },
  {
   "cell_type": "markdown",
   "metadata": {},
   "source": [
    "## High Stakes 1 cents"
   ]
  },
  {
   "cell_type": "code",
   "execution_count": 60,
   "metadata": {},
   "outputs": [
    {
     "data": {
      "text/plain": [
       "[2.4259942112319113, 0.67950073753337825, 0.0, 0.32049926246662169, 1.0]"
      ]
     },
     "execution_count": 60,
     "metadata": {},
     "output_type": "execute_result"
    }
   ],
   "source": [
    "theta = list(np.load('data/high_stakes_1cents-prev.npy'))\n",
    "theta"
   ]
  },
  {
   "cell_type": "code",
   "execution_count": 22,
   "metadata": {
    "collapsed": true
   },
   "outputs": [],
   "source": [
    "gambles = 7\n",
    "attributes = 4\n",
    "# reward = Normal(0,1)\n",
    "# max_obs=30\n",
    "high_stakes = TruncatedNormal((9.99+0.01)/2, 0.3*(9.99-0.01),0.01,9.99)\n",
    "low_stakes = TruncatedNormal((0.25+0.01)/2, 0.3*(0.25-0.01),0.01,0.25)\n",
    "reward = high_stakes\n",
    "cost=.01\n",
    "\n",
    "#set to 20 for sanity check\n",
    "n_train = 250\n",
    "n_test = 250\n",
    "\n",
    "train_envs_hd = [OldMouselabEnv(gambles, hd_dist(attributes), reward, cost) for _ in range(n_train)]\n",
    "train_envs_ld = [OldMouselabEnv(gambles, ld_dist(attributes), reward, cost) for _ in range(n_train)]\n",
    "train_envs = train_envs_hd+train_envs_ld \n",
    "\n",
    "test_envs_hd =  [OldMouselabEnv(gambles, hd_dist(attributes), reward, cost) for _ in range(n_train)]\n",
    "test_envs_ld = [OldMouselabEnv(gambles, ld_dist(attributes), reward, cost) for _ in range(n_train)]\n",
    "test_envs = test_envs_hd+test_envs_ld \n",
    "\n",
    "term_action = train_envs[0].term_action"
   ]
  },
  {
   "cell_type": "code",
   "execution_count": 30,
   "metadata": {
    "collapsed": true
   },
   "outputs": [],
   "source": [
    "for env in train_envs_ld:\n",
    "    dist = env.dist\n",
    "    if np.min(dist) <= 0.10 or np.max(dist) >= 0.40:\n",
    "        print('goshdarn')\n",
    "        break"
   ]
  },
  {
   "cell_type": "code",
   "execution_count": null,
   "metadata": {
    "collapsed": true,
    "scrolled": true
   },
   "outputs": [],
   "source": [
    "a = datetime.datetime.now()\n",
    "# bop2 = bo_policy(train_envs, max_cost=max_obs, n_jobs=20, n_calls=20, x0=[1., 1., 0., 0.])\n",
    "bo_pol, result = bo_policy(train_envs, max_cost=30, n_jobs=100, n_calls=20, x0=theta[:-1],\n",
    "                           verbose=1, normalize_voi=True, return_result=True)\n",
    "t = datetime.datetime.now() - a\n",
    "print(t)"
   ]
  },
  {
   "cell_type": "code",
   "execution_count": null,
   "metadata": {
    "collapsed": true
   },
   "outputs": [],
   "source": [
    "# bo_pol_theta = np.load('low_stakes_0.5cents-2.npy')\n",
    "# bo_pol = LiederPolicy(list(bo_pol_theta))"
   ]
  },
  {
   "cell_type": "code",
   "execution_count": null,
   "metadata": {
    "collapsed": true
   },
   "outputs": [],
   "source": [
    "from skopt.plots import plot_convergence, plot_evaluations, plot_objective\n",
    "plot_convergence(result)"
   ]
  },
  {
   "cell_type": "code",
   "execution_count": null,
   "metadata": {
    "collapsed": true
   },
   "outputs": [],
   "source": [
    "bo_pol.theta"
   ]
  },
  {
   "cell_type": "code",
   "execution_count": null,
   "metadata": {
    "collapsed": true
   },
   "outputs": [],
   "source": [
    "np.save('data/high_stakes_trunc_1cents-6',bo_pol.theta)"
   ]
  },
  {
   "cell_type": "code",
   "execution_count": null,
   "metadata": {
    "collapsed": true
   },
   "outputs": [],
   "source": [
    "a = datetime.datetime.now()\n",
    "bo_utils = get_util(bo_pol, test_envs, parallel=Parallel(n_jobs=100),return_mean=False)\n",
    "t = datetime.datetime.now() - a"
   ]
  },
  {
   "cell_type": "code",
   "execution_count": null,
   "metadata": {
    "collapsed": true,
    "scrolled": true
   },
   "outputs": [],
   "source": [
    "np.mean(bo_utils)"
   ]
  },
  {
   "cell_type": "code",
   "execution_count": null,
   "metadata": {
    "collapsed": true
   },
   "outputs": [],
   "source": [
    "mg_pol = LiederPolicy([1, 1, 0, 0, 1])\n",
    "a = datetime.datetime.now()\n",
    "mg_utils = get_util(mg_pol, test_envs, parallel=Parallel(n_jobs=100),return_mean=False)\n",
    "t = datetime.datetime.now() - a"
   ]
  },
  {
   "cell_type": "code",
   "execution_count": null,
   "metadata": {
    "collapsed": true
   },
   "outputs": [],
   "source": [
    "np.mean(mg_utils)"
   ]
  },
  {
   "cell_type": "code",
   "execution_count": null,
   "metadata": {
    "collapsed": true
   },
   "outputs": [],
   "source": [
    "from scipy.stats import ttest_ind\n",
    "ttest_ind(bo_utils,mg_utils)"
   ]
  },
  {
   "cell_type": "code",
   "execution_count": null,
   "metadata": {
    "collapsed": true
   },
   "outputs": [],
   "source": [
    "from scipy.stats import ttest_rel\n",
    "ttest_rel(bo_utils,mg_utils)"
   ]
  },
  {
   "cell_type": "code",
   "execution_count": null,
   "metadata": {
    "collapsed": true
   },
   "outputs": [],
   "source": [
    "no_pol = FixedPlanPolicy([term_action])\n",
    "a = datetime.datetime.now()\n",
    "no_utils = get_util(no_pol, test_envs, parallel=Parallel(n_jobs=100),return_mean=False)\n",
    "t = datetime.datetime.now() - a"
   ]
  },
  {
   "cell_type": "code",
   "execution_count": null,
   "metadata": {
    "collapsed": true,
    "scrolled": true
   },
   "outputs": [],
   "source": [
    "np.mean(no_utils)"
   ]
  },
  {
   "cell_type": "code",
   "execution_count": null,
   "metadata": {
    "collapsed": true
   },
   "outputs": [],
   "source": [
    "fo_pol = FixedPlanPolicy(range(term_action+1))\n",
    "a = datetime.datetime.now()\n",
    "fo_utils = get_util(fo_pol, test_envs, parallel=Parallel(n_jobs=100),return_mean=False)\n",
    "t = datetime.datetime.now() - a"
   ]
  },
  {
   "cell_type": "code",
   "execution_count": null,
   "metadata": {
    "collapsed": true
   },
   "outputs": [],
   "source": [
    "np.mean(fo_utils)"
   ]
  },
  {
   "cell_type": "code",
   "execution_count": null,
   "metadata": {
    "collapsed": true
   },
   "outputs": [],
   "source": [
    "utils = [bo_utils,mg_utils,no_utils,fo_utils]\n",
    "policies = ['bo','metagreedy','none','full-obs']\n",
    "d_list = []\n",
    "for u,p in zip(utils,policies):\n",
    "    for result in u:\n",
    "        d_list.append({'util':result,'stakes':'high','cost':cost,'policy':p})"
   ]
  },
  {
   "cell_type": "code",
   "execution_count": null,
   "metadata": {
    "collapsed": true
   },
   "outputs": [],
   "source": [
    "df = pd.DataFrame(d_list)\n",
    "df"
   ]
  },
  {
   "cell_type": "code",
   "execution_count": null,
   "metadata": {
    "collapsed": true
   },
   "outputs": [],
   "source": [
    "df[df['policy'] == 'metagreedy'].util.mean()"
   ]
  },
  {
   "cell_type": "code",
   "execution_count": null,
   "metadata": {
    "collapsed": true
   },
   "outputs": [],
   "source": [
    "df.to_hdf('data/high_stakes_trunc_1cents_results-6','results')"
   ]
  },
  {
   "cell_type": "code",
   "execution_count": null,
   "metadata": {
    "collapsed": true
   },
   "outputs": [],
   "source": [
    "df2 = pd.read_hdf('data/high_stakes_trunc_1cents_results-6','results')"
   ]
  },
  {
   "cell_type": "code",
   "execution_count": null,
   "metadata": {
    "collapsed": true,
    "scrolled": true
   },
   "outputs": [],
   "source": [
    "df2[df2['policy']=='metagreedy'].util.mean()"
   ]
  },
  {
   "cell_type": "code",
   "execution_count": null,
   "metadata": {
    "collapsed": true
   },
   "outputs": [],
   "source": [
    "df2.groupby('policy').util.mean()"
   ]
  },
  {
   "cell_type": "markdown",
   "metadata": {},
   "source": [
    "## Validation"
   ]
  },
  {
   "cell_type": "code",
   "execution_count": 23,
   "metadata": {
    "collapsed": true
   },
   "outputs": [],
   "source": [
    "filenames = ['high_stakes_1cents.npy', 'high_stakes_trunc_1cents.npy', 'high_stakes_trunc_1cents-2.npy', \n",
    "             'high_stakes_trunc_1cents-3.npy','low_stakes_1cents-previous.npy','high_stakes_1cents-prev.npy',\n",
    "             'high_stakes_trunc_1cents-4.npy','high_stakes_trunc_1cents-5.npy']\n",
    "high_stakes = TruncatedNormal((9.99+0.01)/2, 0.3*(9.99-0.01),0.01,9.99)\n",
    "reward = high_stakes\n",
    "n_train = 250\n",
    "cost=.01\n",
    "test_envs_hd =  [OldMouselabEnv(gambles, hd_dist(attributes), reward, cost) for _ in range(n_train*4)]\n",
    "test_envs_ld = [OldMouselabEnv(gambles, ld_dist(attributes), reward, cost) for _ in range(n_train*4)]"
   ]
  },
  {
   "cell_type": "code",
   "execution_count": null,
   "metadata": {},
   "outputs": [
    {
     "name": "stdout",
     "output_type": "stream",
     "text": [
      "[ 1.     0.405  0.405  0.19   1.   ]\n"
     ]
    }
   ],
   "source": [
    "val_util = []\n",
    "d_list = []\n",
    "for polfil in filenames:\n",
    "    bo_pol_theta = np.load('data/'+polfil)\n",
    "    print(bo_pol_theta)\n",
    "    bo_pol = LiederPolicy(list(bo_pol_theta))\n",
    "    \n",
    "    polutil_hd = get_util(bo_pol, test_envs_hd, parallel=Parallel(n_jobs=20),return_mean=False)\n",
    "    print(np.mean(polutil_hd))\n",
    "    for result in polutil_hd:\n",
    "        d_list.append({'util':result,'disp':'hd','policy':polfil})\n",
    "        \n",
    "    polutil_ld = get_util(bo_pol, test_envs_ld, parallel=Parallel(n_jobs=20),return_mean=False)\n",
    "    print(np.mean(polutil_ld))\n",
    "    for result in polutil_ld:\n",
    "        d_list.append({'util':result,'disp':'ld','policy':polfil})\n",
    "        \n",
    "    val_util.append(np.mean(polutil_hd))\n",
    "    val_util.append(np.mean(polutil_ld))\n",
    "df_comb = pd.DataFrame(d_list)\n",
    "df_comb.to_hdf('data/high_stakes_val_1cents_comb_results-2','results')"
   ]
  },
  {
   "cell_type": "code",
   "execution_count": 2,
   "metadata": {
    "collapsed": true
   },
   "outputs": [],
   "source": [
    "df_comb = pd.read_hdf('data/high_stakes_val_1cents_comb_results-2','results')"
   ]
  },
  {
   "cell_type": "code",
   "execution_count": 3,
   "metadata": {
    "scrolled": true
   },
   "outputs": [
    {
     "data": {
      "text/plain": [
       "policy\n",
       "high_stakes_1cents-prev.npy       7.144511\n",
       "high_stakes_1cents.npy            7.147967\n",
       "high_stakes_trunc_1cents-2.npy    7.150941\n",
       "high_stakes_trunc_1cents-3.npy    7.146371\n",
       "high_stakes_trunc_1cents-4.npy    7.151704\n",
       "high_stakes_trunc_1cents-5.npy    7.142104\n",
       "high_stakes_trunc_1cents.npy      7.144583\n",
       "low_stakes_1cents-previous.npy    7.147655\n",
       "Name: util, dtype: float64"
      ]
     },
     "execution_count": 3,
     "metadata": {},
     "output_type": "execute_result"
    }
   ],
   "source": [
    "df_comb.groupby('policy').util.mean()"
   ]
  },
  {
   "cell_type": "code",
   "execution_count": 20,
   "metadata": {
    "collapsed": true
   },
   "outputs": [],
   "source": [
    "df = df_comb"
   ]
  },
  {
   "cell_type": "code",
   "execution_count": 24,
   "metadata": {
    "collapsed": true
   },
   "outputs": [],
   "source": [
    "std_errs = [df[df['policy'] == polfil].util.std()*1.96/np.sqrt(2000) for polfil in filenames]"
   ]
  },
  {
   "cell_type": "code",
   "execution_count": 25,
   "metadata": {},
   "outputs": [
    {
     "data": {
      "text/plain": [
       "[0.050122603757208006,\n",
       " 0.049106754648099042,\n",
       " 0.049012554706031226,\n",
       " 0.049144514404010485,\n",
       " 0.04912032261528021,\n",
       " 0.049904411383318838,\n",
       " 0.049521653169151546,\n",
       " 0.048995628300695711]"
      ]
     },
     "execution_count": 25,
     "metadata": {},
     "output_type": "execute_result"
    }
   ],
   "source": [
    "std_errs"
   ]
  },
  {
   "cell_type": "code",
   "execution_count": 26,
   "metadata": {
    "collapsed": true
   },
   "outputs": [],
   "source": [
    "means = [df[df['policy'] == polfil].util.mean() for polfil in filenames]"
   ]
  },
  {
   "cell_type": "code",
   "execution_count": 27,
   "metadata": {},
   "outputs": [
    {
     "data": {
      "text/plain": [
       "[7.147966594908242,\n",
       " 7.14458275114287,\n",
       " 7.150940572407325,\n",
       " 7.146371440329115,\n",
       " 7.147655161304414,\n",
       " 7.144510512735714,\n",
       " 7.151704452947731,\n",
       " 7.142104427826357]"
      ]
     },
     "execution_count": 27,
     "metadata": {},
     "output_type": "execute_result"
    }
   ],
   "source": [
    "means"
   ]
  },
  {
   "cell_type": "markdown",
   "metadata": {},
   "source": [
    "## Low Stakes 1 cents"
   ]
  },
  {
   "cell_type": "code",
   "execution_count": 89,
   "metadata": {
    "collapsed": true
   },
   "outputs": [],
   "source": [
    "gambles = 7\n",
    "attributes = 4\n",
    "# reward = Normal(0,1)\n",
    "# max_obs=30\n",
    "high_stakes = TruncatedNormal((9.99+0.01)/2, 0.3*(9.99-0.01),0.01,9.99)\n",
    "low_stakes = TruncatedNormal((0.25+0.01)/2, 0.3*(0.25-0.01),0.01,0.25)\n",
    "reward = low_stakes\n",
    "cost=.01\n",
    "\n",
    "#set to 20 for sanity check\n",
    "n_train = 250\n",
    "n_test = 250\n",
    "\n",
    "train_envs_hd = [OldMouselabEnv(gambles, hd_dist(attributes), reward, cost) for _ in range(n_train)]\n",
    "train_envs_ld = [OldMouselabEnv(gambles, ld_dist(attributes), reward, cost) for _ in range(n_train)]\n",
    "train_envs = train_envs_hd+train_envs_ld \n",
    "\n",
    "test_envs_hd =  [OldMouselabEnv(gambles, hd_dist(attributes), reward, cost) for _ in range(n_train)]\n",
    "test_envs_ld = [OldMouselabEnv(gambles, ld_dist(attributes), reward, cost) for _ in range(n_train)]\n",
    "test_envs = test_envs_hd+test_envs_ld \n",
    "\n",
    "term_action = train_envs[0].term_action"
   ]
  },
  {
   "cell_type": "code",
   "execution_count": 90,
   "metadata": {
    "collapsed": true
   },
   "outputs": [],
   "source": [
    "for env in train_envs_ld:\n",
    "    dist = env.dist\n",
    "    if np.min(dist) <= 0.10 or np.max(dist) >= 0.40:\n",
    "        print('goshdarn')\n",
    "        break"
   ]
  },
  {
   "cell_type": "code",
   "execution_count": 91,
   "metadata": {
    "scrolled": true
   },
   "outputs": [
    {
     "name": "stdout",
     "output_type": "stream",
     "text": [
      "[ 18.192   0.331   0.337   0.332   1.   ] -> 0.13 in 39 sec\n",
      "[ 19.083   0.52    0.403   0.077   1.   ] -> 0.13 in 39 sec\n",
      "[ 8.907  0.27   0.459  0.271  1.   ] -> 0.13 in 39 sec\n",
      "[ 12.391   0.459   0.185   0.356   1.   ] -> 0.13 in 39 sec\n",
      "[ 11.679   0.486   0.071   0.442   1.   ] -> 0.13 in 39 sec\n",
      "[ 14.735   0.4     0.26    0.339   1.   ] -> 0.13 in 39 sec\n",
      "[ 21.898   0.31    0.286   0.404   1.   ] -> 0.13 in 39 sec\n",
      "[ 4.071  0.339  0.133  0.528  1.   ] -> 0.142 in 81 sec\n",
      "[ 7.28   0.222  0.532  0.246  1.   ] -> 0.13 in 39 sec\n",
      "[ 7.447  0.222  0.519  0.259  1.   ] -> 0.13 in 39 sec\n",
      "[ 1.  0.  0.  1.  1.] -> -0.01 in 433 sec\n",
      "[ 30.      0.333   0.333   0.333   1.   ] -> 0.13 in 39 sec\n",
      "[ 1.     0.375  0.251  0.375  1.   ] -> 0.123 in 205 sec\n",
      "[ 30.    0.5   0.5   0.    1. ] -> 0.13 in 39 sec\n",
      "[ 19.032   0.129   0.806   0.065   1.   ] -> 0.13 in 39 sec\n",
      "[ 30.      0.452   0.096   0.452   1.   ] -> 0.13 in 39 sec\n",
      "[ 1.     0.318  0.     0.682  1.   ] -> 0.11 in 244 sec\n",
      "[ 1.  1.  0.  0.  1.] -> 0.141 in 109 sec\n",
      "[ 1.    0.36  0.64  0.    1.  ] -> 0.139 in 139 sec\n",
      "[ 30.      0.717   0.      0.283   1.   ] -> 0.13 in 39 sec\n",
      "BO: [ 4.071  0.339  0.133  0.528  1.   ] -> 0.142 in 1763 sec\n",
      "0:29:23.171311\n"
     ]
    }
   ],
   "source": [
    "a = datetime.datetime.now()\n",
    "# bop2 = bo_policy(train_envs, max_cost=max_obs, n_jobs=20, n_calls=20, x0=[1., 1., 0., 0.])\n",
    "bo_pol, result = bo_policy(train_envs, max_cost=30, n_jobs=100, n_calls=20,\n",
    "                           verbose=1, normalize_voi=True, return_result=True)\n",
    "t = datetime.datetime.now() - a\n",
    "print(t)"
   ]
  },
  {
   "cell_type": "code",
   "execution_count": 92,
   "metadata": {
    "collapsed": true
   },
   "outputs": [],
   "source": [
    "# bo_pol_theta = np.load('low_stakes_0.5cents-2.npy')\n",
    "# bo_pol = LiederPolicy(list(bo_pol_theta))"
   ]
  },
  {
   "cell_type": "code",
   "execution_count": 93,
   "metadata": {},
   "outputs": [
    {
     "data": {
      "text/plain": [
       "<matplotlib.axes._subplots.AxesSubplot at 0x2b531df7d550>"
      ]
     },
     "execution_count": 93,
     "metadata": {},
     "output_type": "execute_result"
    },
    {
     "name": "stderr",
     "output_type": "stream",
     "text": [
      "/global/software/sl-7.x86_64/modules/langs/python/3.6/lib/python3.6/site-packages/matplotlib/font_manager.py:1297: UserWarning: findfont: Font family ['sans-serif'] not found. Falling back to DejaVu Sans\n",
      "  (prop.get_family(), self.defaultFamily[fontext]))\n"
     ]
    },
    {
     "data": {
      "image/png": "[encoded data removed]",
      "text/plain": [
       "<matplotlib.figure.Figure at 0x2b536bf58828>"
      ]
     },
     "metadata": {},
     "output_type": "display_data"
    }
   ],
   "source": [
    "from skopt.plots import plot_convergence, plot_evaluations, plot_objective\n",
    "plot_convergence(result)"
   ]
  },
  {
   "cell_type": "code",
   "execution_count": 94,
   "metadata": {
    "scrolled": true
   },
   "outputs": [
    {
     "data": {
      "text/plain": [
       "array([ 4.071,  0.339,  0.133,  0.528,  1.   ])"
      ]
     },
     "execution_count": 94,
     "metadata": {},
     "output_type": "execute_result"
    }
   ],
   "source": [
    "bo_pol.theta"
   ]
  },
  {
   "cell_type": "code",
   "execution_count": 95,
   "metadata": {
    "collapsed": true
   },
   "outputs": [],
   "source": [
    "np.save('data/low_stakes_trunc_1cents-6',bo_pol.theta)"
   ]
  },
  {
   "cell_type": "code",
   "execution_count": 96,
   "metadata": {
    "collapsed": true
   },
   "outputs": [],
   "source": [
    "a = datetime.datetime.now()\n",
    "bo_utils = get_util(bo_pol, test_envs, parallel=Parallel(n_jobs=100),return_mean=False)\n",
    "t = datetime.datetime.now() - a"
   ]
  },
  {
   "cell_type": "code",
   "execution_count": 97,
   "metadata": {
    "scrolled": true
   },
   "outputs": [
    {
     "data": {
      "text/plain": [
       "0.14169658196955048"
      ]
     },
     "execution_count": 97,
     "metadata": {},
     "output_type": "execute_result"
    }
   ],
   "source": [
    "np.mean(bo_utils)"
   ]
  },
  {
   "cell_type": "code",
   "execution_count": 98,
   "metadata": {
    "collapsed": true
   },
   "outputs": [],
   "source": [
    "mg_pol = LiederPolicy([1, 1, 0, 0, 1])\n",
    "a = datetime.datetime.now()\n",
    "mg_utils = get_util(mg_pol, test_envs, parallel=Parallel(n_jobs=100),return_mean=False)\n",
    "t = datetime.datetime.now() - a"
   ]
  },
  {
   "cell_type": "code",
   "execution_count": 99,
   "metadata": {},
   "outputs": [
    {
     "data": {
      "text/plain": [
       "0.14241048998277861"
      ]
     },
     "execution_count": 99,
     "metadata": {},
     "output_type": "execute_result"
    }
   ],
   "source": [
    "np.mean(mg_utils)"
   ]
  },
  {
   "cell_type": "code",
   "execution_count": 100,
   "metadata": {},
   "outputs": [
    {
     "data": {
      "text/plain": [
       "Ttest_indResult(statistic=-0.3804105282777559, pvalue=0.70372164993800035)"
      ]
     },
     "execution_count": 100,
     "metadata": {},
     "output_type": "execute_result"
    }
   ],
   "source": [
    "from scipy.stats import ttest_ind\n",
    "ttest_ind(bo_utils,mg_utils)"
   ]
  },
  {
   "cell_type": "code",
   "execution_count": 101,
   "metadata": {},
   "outputs": [
    {
     "data": {
      "text/plain": [
       "Ttest_relResult(statistic=-0.59531649292444955, pvalue=0.55190181269268335)"
      ]
     },
     "execution_count": 101,
     "metadata": {},
     "output_type": "execute_result"
    }
   ],
   "source": [
    "from scipy.stats import ttest_rel\n",
    "ttest_rel(bo_utils,mg_utils)"
   ]
  },
  {
   "cell_type": "code",
   "execution_count": 102,
   "metadata": {
    "collapsed": true
   },
   "outputs": [],
   "source": [
    "no_pol = FixedPlanPolicy([term_action])\n",
    "a = datetime.datetime.now()\n",
    "no_utils = get_util(no_pol, test_envs, parallel=Parallel(n_jobs=100),return_mean=False)\n",
    "t = datetime.datetime.now() - a"
   ]
  },
  {
   "cell_type": "code",
   "execution_count": 103,
   "metadata": {
    "scrolled": true
   },
   "outputs": [
    {
     "data": {
      "text/plain": [
       "0.12999999999999998"
      ]
     },
     "execution_count": 103,
     "metadata": {},
     "output_type": "execute_result"
    }
   ],
   "source": [
    "np.mean(no_utils)"
   ]
  },
  {
   "cell_type": "code",
   "execution_count": 104,
   "metadata": {
    "collapsed": true
   },
   "outputs": [],
   "source": [
    "fo_pol = FixedPlanPolicy(range(term_action+1))\n",
    "a = datetime.datetime.now()\n",
    "fo_utils = get_util(fo_pol, test_envs, parallel=Parallel(n_jobs=100),return_mean=False)\n",
    "t = datetime.datetime.now() - a"
   ]
  },
  {
   "cell_type": "code",
   "execution_count": 105,
   "metadata": {},
   "outputs": [
    {
     "data": {
      "text/plain": [
       "-0.096061964254237783"
      ]
     },
     "execution_count": 105,
     "metadata": {},
     "output_type": "execute_result"
    }
   ],
   "source": [
    "np.mean(fo_utils)"
   ]
  },
  {
   "cell_type": "code",
   "execution_count": 106,
   "metadata": {
    "collapsed": true
   },
   "outputs": [],
   "source": [
    "utils = [bo_utils,mg_utils,no_utils,fo_utils]\n",
    "policies = ['bo','metagreedy','none','full-obs']\n",
    "d_list = []\n",
    "for u,p in zip(utils,policies):\n",
    "    for result in u:\n",
    "        d_list.append({'util':result,'stakes':'low','cost':cost,'policy':p})"
   ]
  },
  {
   "cell_type": "code",
   "execution_count": 107,
   "metadata": {},
   "outputs": [
    {
     "data": {
      "text/html": [
       "<div>\n",
       "<table border=\"1\" class=\"dataframe\">\n",
       "  <thead>\n",
       "    <tr style=\"text-align: right;\">\n",
       "      <th></th>\n",
       "      <th>cost</th>\n",
       "      <th>policy</th>\n",
       "      <th>stakes</th>\n",
       "      <th>util</th>\n",
       "    </tr>\n",
       "  </thead>\n",
       "  <tbody>\n",
       "    <tr>\n",
       "      <th>0</th>\n",
       "      <td>0.01</td>\n",
       "      <td>bo</td>\n",
       "      <td>low</td>\n",
       "      <td>0.098143</td>\n",
       "    </tr>\n",
       "    <tr>\n",
       "      <th>1</th>\n",
       "      <td>0.01</td>\n",
       "      <td>bo</td>\n",
       "      <td>low</td>\n",
       "      <td>0.099230</td>\n",
       "    </tr>\n",
       "    <tr>\n",
       "      <th>2</th>\n",
       "      <td>0.01</td>\n",
       "      <td>bo</td>\n",
       "      <td>low</td>\n",
       "      <td>0.105363</td>\n",
       "    </tr>\n",
       "    <tr>\n",
       "      <th>3</th>\n",
       "      <td>0.01</td>\n",
       "      <td>bo</td>\n",
       "      <td>low</td>\n",
       "      <td>0.133515</td>\n",
       "    </tr>\n",
       "    <tr>\n",
       "      <th>4</th>\n",
       "      <td>0.01</td>\n",
       "      <td>bo</td>\n",
       "      <td>low</td>\n",
       "      <td>0.197038</td>\n",
       "    </tr>\n",
       "    <tr>\n",
       "      <th>5</th>\n",
       "      <td>0.01</td>\n",
       "      <td>bo</td>\n",
       "      <td>low</td>\n",
       "      <td>0.203924</td>\n",
       "    </tr>\n",
       "    <tr>\n",
       "      <th>6</th>\n",
       "      <td>0.01</td>\n",
       "      <td>bo</td>\n",
       "      <td>low</td>\n",
       "      <td>0.142094</td>\n",
       "    </tr>\n",
       "    <tr>\n",
       "      <th>7</th>\n",
       "      <td>0.01</td>\n",
       "      <td>bo</td>\n",
       "      <td>low</td>\n",
       "      <td>0.128683</td>\n",
       "    </tr>\n",
       "    <tr>\n",
       "      <th>8</th>\n",
       "      <td>0.01</td>\n",
       "      <td>bo</td>\n",
       "      <td>low</td>\n",
       "      <td>0.168572</td>\n",
       "    </tr>\n",
       "    <tr>\n",
       "      <th>9</th>\n",
       "      <td>0.01</td>\n",
       "      <td>bo</td>\n",
       "      <td>low</td>\n",
       "      <td>0.080000</td>\n",
       "    </tr>\n",
       "    <tr>\n",
       "      <th>10</th>\n",
       "      <td>0.01</td>\n",
       "      <td>bo</td>\n",
       "      <td>low</td>\n",
       "      <td>0.179445</td>\n",
       "    </tr>\n",
       "    <tr>\n",
       "      <th>11</th>\n",
       "      <td>0.01</td>\n",
       "      <td>bo</td>\n",
       "      <td>low</td>\n",
       "      <td>0.093369</td>\n",
       "    </tr>\n",
       "    <tr>\n",
       "      <th>12</th>\n",
       "      <td>0.01</td>\n",
       "      <td>bo</td>\n",
       "      <td>low</td>\n",
       "      <td>0.214322</td>\n",
       "    </tr>\n",
       "    <tr>\n",
       "      <th>13</th>\n",
       "      <td>0.01</td>\n",
       "      <td>bo</td>\n",
       "      <td>low</td>\n",
       "      <td>0.119211</td>\n",
       "    </tr>\n",
       "    <tr>\n",
       "      <th>14</th>\n",
       "      <td>0.01</td>\n",
       "      <td>bo</td>\n",
       "      <td>low</td>\n",
       "      <td>0.137761</td>\n",
       "    </tr>\n",
       "    <tr>\n",
       "      <th>15</th>\n",
       "      <td>0.01</td>\n",
       "      <td>bo</td>\n",
       "      <td>low</td>\n",
       "      <td>0.207722</td>\n",
       "    </tr>\n",
       "    <tr>\n",
       "      <th>16</th>\n",
       "      <td>0.01</td>\n",
       "      <td>bo</td>\n",
       "      <td>low</td>\n",
       "      <td>0.129093</td>\n",
       "    </tr>\n",
       "    <tr>\n",
       "      <th>17</th>\n",
       "      <td>0.01</td>\n",
       "      <td>bo</td>\n",
       "      <td>low</td>\n",
       "      <td>0.195643</td>\n",
       "    </tr>\n",
       "    <tr>\n",
       "      <th>18</th>\n",
       "      <td>0.01</td>\n",
       "      <td>bo</td>\n",
       "      <td>low</td>\n",
       "      <td>0.180858</td>\n",
       "    </tr>\n",
       "    <tr>\n",
       "      <th>19</th>\n",
       "      <td>0.01</td>\n",
       "      <td>bo</td>\n",
       "      <td>low</td>\n",
       "      <td>0.113142</td>\n",
       "    </tr>\n",
       "    <tr>\n",
       "      <th>20</th>\n",
       "      <td>0.01</td>\n",
       "      <td>bo</td>\n",
       "      <td>low</td>\n",
       "      <td>0.197591</td>\n",
       "    </tr>\n",
       "    <tr>\n",
       "      <th>21</th>\n",
       "      <td>0.01</td>\n",
       "      <td>bo</td>\n",
       "      <td>low</td>\n",
       "      <td>0.149454</td>\n",
       "    </tr>\n",
       "    <tr>\n",
       "      <th>22</th>\n",
       "      <td>0.01</td>\n",
       "      <td>bo</td>\n",
       "      <td>low</td>\n",
       "      <td>0.129301</td>\n",
       "    </tr>\n",
       "    <tr>\n",
       "      <th>23</th>\n",
       "      <td>0.01</td>\n",
       "      <td>bo</td>\n",
       "      <td>low</td>\n",
       "      <td>0.129976</td>\n",
       "    </tr>\n",
       "    <tr>\n",
       "      <th>24</th>\n",
       "      <td>0.01</td>\n",
       "      <td>bo</td>\n",
       "      <td>low</td>\n",
       "      <td>0.129598</td>\n",
       "    </tr>\n",
       "    <tr>\n",
       "      <th>25</th>\n",
       "      <td>0.01</td>\n",
       "      <td>bo</td>\n",
       "      <td>low</td>\n",
       "      <td>0.173316</td>\n",
       "    </tr>\n",
       "    <tr>\n",
       "      <th>26</th>\n",
       "      <td>0.01</td>\n",
       "      <td>bo</td>\n",
       "      <td>low</td>\n",
       "      <td>0.167613</td>\n",
       "    </tr>\n",
       "    <tr>\n",
       "      <th>27</th>\n",
       "      <td>0.01</td>\n",
       "      <td>bo</td>\n",
       "      <td>low</td>\n",
       "      <td>0.092203</td>\n",
       "    </tr>\n",
       "    <tr>\n",
       "      <th>28</th>\n",
       "      <td>0.01</td>\n",
       "      <td>bo</td>\n",
       "      <td>low</td>\n",
       "      <td>0.179529</td>\n",
       "    </tr>\n",
       "    <tr>\n",
       "      <th>29</th>\n",
       "      <td>0.01</td>\n",
       "      <td>bo</td>\n",
       "      <td>low</td>\n",
       "      <td>0.177619</td>\n",
       "    </tr>\n",
       "    <tr>\n",
       "      <th>...</th>\n",
       "      <td>...</td>\n",
       "      <td>...</td>\n",
       "      <td>...</td>\n",
       "      <td>...</td>\n",
       "    </tr>\n",
       "    <tr>\n",
       "      <th>1970</th>\n",
       "      <td>0.01</td>\n",
       "      <td>full-obs</td>\n",
       "      <td>low</td>\n",
       "      <td>-0.116642</td>\n",
       "    </tr>\n",
       "    <tr>\n",
       "      <th>1971</th>\n",
       "      <td>0.01</td>\n",
       "      <td>full-obs</td>\n",
       "      <td>low</td>\n",
       "      <td>-0.113954</td>\n",
       "    </tr>\n",
       "    <tr>\n",
       "      <th>1972</th>\n",
       "      <td>0.01</td>\n",
       "      <td>full-obs</td>\n",
       "      <td>low</td>\n",
       "      <td>-0.141848</td>\n",
       "    </tr>\n",
       "    <tr>\n",
       "      <th>1973</th>\n",
       "      <td>0.01</td>\n",
       "      <td>full-obs</td>\n",
       "      <td>low</td>\n",
       "      <td>-0.113657</td>\n",
       "    </tr>\n",
       "    <tr>\n",
       "      <th>1974</th>\n",
       "      <td>0.01</td>\n",
       "      <td>full-obs</td>\n",
       "      <td>low</td>\n",
       "      <td>-0.122507</td>\n",
       "    </tr>\n",
       "    <tr>\n",
       "      <th>1975</th>\n",
       "      <td>0.01</td>\n",
       "      <td>full-obs</td>\n",
       "      <td>low</td>\n",
       "      <td>-0.098940</td>\n",
       "    </tr>\n",
       "    <tr>\n",
       "      <th>1976</th>\n",
       "      <td>0.01</td>\n",
       "      <td>full-obs</td>\n",
       "      <td>low</td>\n",
       "      <td>-0.096534</td>\n",
       "    </tr>\n",
       "    <tr>\n",
       "      <th>1977</th>\n",
       "      <td>0.01</td>\n",
       "      <td>full-obs</td>\n",
       "      <td>low</td>\n",
       "      <td>-0.121890</td>\n",
       "    </tr>\n",
       "    <tr>\n",
       "      <th>1978</th>\n",
       "      <td>0.01</td>\n",
       "      <td>full-obs</td>\n",
       "      <td>low</td>\n",
       "      <td>-0.086954</td>\n",
       "    </tr>\n",
       "    <tr>\n",
       "      <th>1979</th>\n",
       "      <td>0.01</td>\n",
       "      <td>full-obs</td>\n",
       "      <td>low</td>\n",
       "      <td>-0.114757</td>\n",
       "    </tr>\n",
       "    <tr>\n",
       "      <th>1980</th>\n",
       "      <td>0.01</td>\n",
       "      <td>full-obs</td>\n",
       "      <td>low</td>\n",
       "      <td>-0.098694</td>\n",
       "    </tr>\n",
       "    <tr>\n",
       "      <th>1981</th>\n",
       "      <td>0.01</td>\n",
       "      <td>full-obs</td>\n",
       "      <td>low</td>\n",
       "      <td>-0.114475</td>\n",
       "    </tr>\n",
       "    <tr>\n",
       "      <th>1982</th>\n",
       "      <td>0.01</td>\n",
       "      <td>full-obs</td>\n",
       "      <td>low</td>\n",
       "      <td>-0.138285</td>\n",
       "    </tr>\n",
       "    <tr>\n",
       "      <th>1983</th>\n",
       "      <td>0.01</td>\n",
       "      <td>full-obs</td>\n",
       "      <td>low</td>\n",
       "      <td>-0.093620</td>\n",
       "    </tr>\n",
       "    <tr>\n",
       "      <th>1984</th>\n",
       "      <td>0.01</td>\n",
       "      <td>full-obs</td>\n",
       "      <td>low</td>\n",
       "      <td>-0.090125</td>\n",
       "    </tr>\n",
       "    <tr>\n",
       "      <th>1985</th>\n",
       "      <td>0.01</td>\n",
       "      <td>full-obs</td>\n",
       "      <td>low</td>\n",
       "      <td>-0.119952</td>\n",
       "    </tr>\n",
       "    <tr>\n",
       "      <th>1986</th>\n",
       "      <td>0.01</td>\n",
       "      <td>full-obs</td>\n",
       "      <td>low</td>\n",
       "      <td>-0.108028</td>\n",
       "    </tr>\n",
       "    <tr>\n",
       "      <th>1987</th>\n",
       "      <td>0.01</td>\n",
       "      <td>full-obs</td>\n",
       "      <td>low</td>\n",
       "      <td>-0.066141</td>\n",
       "    </tr>\n",
       "    <tr>\n",
       "      <th>1988</th>\n",
       "      <td>0.01</td>\n",
       "      <td>full-obs</td>\n",
       "      <td>low</td>\n",
       "      <td>-0.107095</td>\n",
       "    </tr>\n",
       "    <tr>\n",
       "      <th>1989</th>\n",
       "      <td>0.01</td>\n",
       "      <td>full-obs</td>\n",
       "      <td>low</td>\n",
       "      <td>-0.095667</td>\n",
       "    </tr>\n",
       "    <tr>\n",
       "      <th>1990</th>\n",
       "      <td>0.01</td>\n",
       "      <td>full-obs</td>\n",
       "      <td>low</td>\n",
       "      <td>-0.131628</td>\n",
       "    </tr>\n",
       "    <tr>\n",
       "      <th>1991</th>\n",
       "      <td>0.01</td>\n",
       "      <td>full-obs</td>\n",
       "      <td>low</td>\n",
       "      <td>-0.128461</td>\n",
       "    </tr>\n",
       "    <tr>\n",
       "      <th>1992</th>\n",
       "      <td>0.01</td>\n",
       "      <td>full-obs</td>\n",
       "      <td>low</td>\n",
       "      <td>-0.108204</td>\n",
       "    </tr>\n",
       "    <tr>\n",
       "      <th>1993</th>\n",
       "      <td>0.01</td>\n",
       "      <td>full-obs</td>\n",
       "      <td>low</td>\n",
       "      <td>-0.087889</td>\n",
       "    </tr>\n",
       "    <tr>\n",
       "      <th>1994</th>\n",
       "      <td>0.01</td>\n",
       "      <td>full-obs</td>\n",
       "      <td>low</td>\n",
       "      <td>-0.105174</td>\n",
       "    </tr>\n",
       "    <tr>\n",
       "      <th>1995</th>\n",
       "      <td>0.01</td>\n",
       "      <td>full-obs</td>\n",
       "      <td>low</td>\n",
       "      <td>-0.049895</td>\n",
       "    </tr>\n",
       "    <tr>\n",
       "      <th>1996</th>\n",
       "      <td>0.01</td>\n",
       "      <td>full-obs</td>\n",
       "      <td>low</td>\n",
       "      <td>-0.097568</td>\n",
       "    </tr>\n",
       "    <tr>\n",
       "      <th>1997</th>\n",
       "      <td>0.01</td>\n",
       "      <td>full-obs</td>\n",
       "      <td>low</td>\n",
       "      <td>-0.139646</td>\n",
       "    </tr>\n",
       "    <tr>\n",
       "      <th>1998</th>\n",
       "      <td>0.01</td>\n",
       "      <td>full-obs</td>\n",
       "      <td>low</td>\n",
       "      <td>-0.167519</td>\n",
       "    </tr>\n",
       "    <tr>\n",
       "      <th>1999</th>\n",
       "      <td>0.01</td>\n",
       "      <td>full-obs</td>\n",
       "      <td>low</td>\n",
       "      <td>-0.131405</td>\n",
       "    </tr>\n",
       "  </tbody>\n",
       "</table>\n",
       "<p>2000 rows × 4 columns</p>\n",
       "</div>"
      ],
      "text/plain": [
       "      cost    policy stakes      util\n",
       "0     0.01        bo    low  0.098143\n",
       "1     0.01        bo    low  0.099230\n",
       "2     0.01        bo    low  0.105363\n",
       "3     0.01        bo    low  0.133515\n",
       "4     0.01        bo    low  0.197038\n",
       "5     0.01        bo    low  0.203924\n",
       "6     0.01        bo    low  0.142094\n",
       "7     0.01        bo    low  0.128683\n",
       "8     0.01        bo    low  0.168572\n",
       "9     0.01        bo    low  0.080000\n",
       "10    0.01        bo    low  0.179445\n",
       "11    0.01        bo    low  0.093369\n",
       "12    0.01        bo    low  0.214322\n",
       "13    0.01        bo    low  0.119211\n",
       "14    0.01        bo    low  0.137761\n",
       "15    0.01        bo    low  0.207722\n",
       "16    0.01        bo    low  0.129093\n",
       "17    0.01        bo    low  0.195643\n",
       "18    0.01        bo    low  0.180858\n",
       "19    0.01        bo    low  0.113142\n",
       "20    0.01        bo    low  0.197591\n",
       "21    0.01        bo    low  0.149454\n",
       "22    0.01        bo    low  0.129301\n",
       "23    0.01        bo    low  0.129976\n",
       "24    0.01        bo    low  0.129598\n",
       "25    0.01        bo    low  0.173316\n",
       "26    0.01        bo    low  0.167613\n",
       "27    0.01        bo    low  0.092203\n",
       "28    0.01        bo    low  0.179529\n",
       "29    0.01        bo    low  0.177619\n",
       "...    ...       ...    ...       ...\n",
       "1970  0.01  full-obs    low -0.116642\n",
       "1971  0.01  full-obs    low -0.113954\n",
       "1972  0.01  full-obs    low -0.141848\n",
       "1973  0.01  full-obs    low -0.113657\n",
       "1974  0.01  full-obs    low -0.122507\n",
       "1975  0.01  full-obs    low -0.098940\n",
       "1976  0.01  full-obs    low -0.096534\n",
       "1977  0.01  full-obs    low -0.121890\n",
       "1978  0.01  full-obs    low -0.086954\n",
       "1979  0.01  full-obs    low -0.114757\n",
       "1980  0.01  full-obs    low -0.098694\n",
       "1981  0.01  full-obs    low -0.114475\n",
       "1982  0.01  full-obs    low -0.138285\n",
       "1983  0.01  full-obs    low -0.093620\n",
       "1984  0.01  full-obs    low -0.090125\n",
       "1985  0.01  full-obs    low -0.119952\n",
       "1986  0.01  full-obs    low -0.108028\n",
       "1987  0.01  full-obs    low -0.066141\n",
       "1988  0.01  full-obs    low -0.107095\n",
       "1989  0.01  full-obs    low -0.095667\n",
       "1990  0.01  full-obs    low -0.131628\n",
       "1991  0.01  full-obs    low -0.128461\n",
       "1992  0.01  full-obs    low -0.108204\n",
       "1993  0.01  full-obs    low -0.087889\n",
       "1994  0.01  full-obs    low -0.105174\n",
       "1995  0.01  full-obs    low -0.049895\n",
       "1996  0.01  full-obs    low -0.097568\n",
       "1997  0.01  full-obs    low -0.139646\n",
       "1998  0.01  full-obs    low -0.167519\n",
       "1999  0.01  full-obs    low -0.131405\n",
       "\n",
       "[2000 rows x 4 columns]"
      ]
     },
     "execution_count": 107,
     "metadata": {},
     "output_type": "execute_result"
    }
   ],
   "source": [
    "df = pd.DataFrame(d_list)\n",
    "df"
   ]
  },
  {
   "cell_type": "code",
   "execution_count": 108,
   "metadata": {},
   "outputs": [
    {
     "data": {
      "text/plain": [
       "0.14241048998277894"
      ]
     },
     "execution_count": 108,
     "metadata": {},
     "output_type": "execute_result"
    }
   ],
   "source": [
    "df[df['policy'] == 'metagreedy'].util.mean()"
   ]
  },
  {
   "cell_type": "code",
   "execution_count": 109,
   "metadata": {
    "collapsed": true
   },
   "outputs": [],
   "source": [
    "df.to_hdf('data/low_stakes_trunc_1cents_results-6','results')"
   ]
  },
  {
   "cell_type": "code",
   "execution_count": 110,
   "metadata": {
    "collapsed": true
   },
   "outputs": [],
   "source": [
    "df2 = pd.read_hdf('data/low_stakes_trunc_1cents_results-6','results')"
   ]
  },
  {
   "cell_type": "code",
   "execution_count": 111,
   "metadata": {
    "scrolled": true
   },
   "outputs": [
    {
     "data": {
      "text/plain": [
       "0.141696581969551"
      ]
     },
     "execution_count": 111,
     "metadata": {},
     "output_type": "execute_result"
    }
   ],
   "source": [
    "df2[df2['policy']=='bo'].util.mean()"
   ]
  },
  {
   "cell_type": "code",
   "execution_count": 112,
   "metadata": {},
   "outputs": [
    {
     "data": {
      "text/plain": [
       "array([ 4.071,  0.339,  0.133,  0.528,  1.   ])"
      ]
     },
     "execution_count": 112,
     "metadata": {},
     "output_type": "execute_result"
    }
   ],
   "source": [
    "theta= np.load('data/low_stakes_trunc_1cents-6.npy')\n",
    "theta"
   ]
  },
  {
   "cell_type": "markdown",
   "metadata": {},
   "source": [
    "## Validation"
   ]
  },
  {
   "cell_type": "code",
   "execution_count": 69,
   "metadata": {
    "collapsed": true
   },
   "outputs": [],
   "source": [
    "filenames = ['low_stakes_1cents-previous.npy', 'low_stakes_1cents.npy', 'low_stakes_trunc_1cents.npy', 'low_stakes_trunc_1cents-2.npy', 'low_stakes_trunc_1cents-3.npy', 'low_stakes_trunc_1cents-4.npy', 'low_stakes_trunc_1cents-5.npy']\n",
    "low_stakes = TruncatedNormal((0.25+0.01)/2, 0.3*(0.25-0.01),0.01,0.25)\n",
    "reward = low_stakes\n",
    "test_envs_hd =  [OldMouselabEnv(gambles, hd_dist(attributes), reward, cost) for _ in range(n_train*4)]\n",
    "test_envs_ld = [OldMouselabEnv(gambles, ld_dist(attributes), reward, cost) for _ in range(n_train*4)]"
   ]
  },
  {
   "cell_type": "code",
   "execution_count": 70,
   "metadata": {},
   "outputs": [
    {
     "name": "stdout",
     "output_type": "stream",
     "text": [
      "[ 1.  1.  0.  0.  1.]\n"
     ]
    },
    {
     "name": "stderr",
     "output_type": "stream",
     "text": [
      "/global/software/sl-7.x86_64/modules/langs/python/3.6/lib/python3.6/site-packages/scipy/integrate/quadpack.py:356: IntegrationWarning: The integral is probably divergent, or slowly convergent.\n",
      "  warnings.warn(msg, IntegrationWarning)\n"
     ]
    },
    {
     "name": "stdout",
     "output_type": "stream",
     "text": [
      "0.155880241941\n",
      "0.129594881144\n",
      "[ 1.124  0.623  0.318  0.059  1.   ]\n"
     ]
    },
    {
     "name": "stderr",
     "output_type": "stream",
     "text": [
      "/global/software/sl-7.x86_64/modules/langs/python/3.6/lib/python3.6/site-packages/scipy/integrate/quadpack.py:356: IntegrationWarning: The integral is probably divergent, or slowly convergent.\n",
      "  warnings.warn(msg, IntegrationWarning)\n"
     ]
    },
    {
     "name": "stdout",
     "output_type": "stream",
     "text": [
      "0.156111542019\n",
      "0.125401986779\n",
      "[ 1.328  0.828  0.167  0.005  1.   ]\n",
      "0.156784734111\n",
      "0.13\n",
      "[ 4.071  0.339  0.133  0.528  1.   ]\n"
     ]
    },
    {
     "name": "stderr",
     "output_type": "stream",
     "text": [
      "/global/software/sl-7.x86_64/modules/langs/python/3.6/lib/python3.6/site-packages/scipy/integrate/quadpack.py:356: IntegrationWarning: The integral is probably divergent, or slowly convergent.\n",
      "  warnings.warn(msg, IntegrationWarning)\n"
     ]
    },
    {
     "name": "stdout",
     "output_type": "stream",
     "text": [
      "0.155046458244\n",
      "0.13\n",
      "[ 4.071  0.339  0.133  0.528  1.   ]\n"
     ]
    },
    {
     "name": "stderr",
     "output_type": "stream",
     "text": [
      "/global/software/sl-7.x86_64/modules/langs/python/3.6/lib/python3.6/site-packages/scipy/integrate/quadpack.py:356: IntegrationWarning: The integral is probably divergent, or slowly convergent.\n",
      "  warnings.warn(msg, IntegrationWarning)\n"
     ]
    },
    {
     "name": "stdout",
     "output_type": "stream",
     "text": [
      "0.155025520291\n",
      "0.13\n",
      "[ 1.  1.  0.  0.  1.]\n"
     ]
    },
    {
     "name": "stderr",
     "output_type": "stream",
     "text": [
      "/global/software/sl-7.x86_64/modules/langs/python/3.6/lib/python3.6/site-packages/scipy/integrate/quadpack.py:356: IntegrationWarning: The integral is probably divergent, or slowly convergent.\n",
      "  warnings.warn(msg, IntegrationWarning)\n"
     ]
    },
    {
     "name": "stdout",
     "output_type": "stream",
     "text": [
      "0.155880241941\n",
      "0.129594881144\n",
      "[ 1.  1.  0.  0.  1.]\n"
     ]
    },
    {
     "name": "stderr",
     "output_type": "stream",
     "text": [
      "/global/software/sl-7.x86_64/modules/langs/python/3.6/lib/python3.6/site-packages/scipy/integrate/quadpack.py:356: IntegrationWarning: The integral is probably divergent, or slowly convergent.\n",
      "  warnings.warn(msg, IntegrationWarning)\n"
     ]
    },
    {
     "name": "stdout",
     "output_type": "stream",
     "text": [
      "0.155880241941\n",
      "0.129594881144\n"
     ]
    }
   ],
   "source": [
    "val_util = []\n",
    "d_list = []\n",
    "for polfil in filenames:\n",
    "    bo_pol_theta = np.load('data/'+polfil)\n",
    "    print(bo_pol_theta)\n",
    "    bo_pol = LiederPolicy(list(bo_pol_theta))\n",
    "    \n",
    "    polutil_hd = get_util(bo_pol, test_envs_hd, parallel=Parallel(n_jobs=100),return_mean=False)\n",
    "    print(np.mean(polutil_hd))\n",
    "    for result in polutil_hd:\n",
    "        d_list.append({'util':result,'disp':'hd','policy':polfil})\n",
    "        \n",
    "    polutil_ld = get_util(bo_pol, test_envs_ld, parallel=Parallel(n_jobs=100),return_mean=False)\n",
    "    print(np.mean(polutil_ld))\n",
    "    for result in polutil_ld:\n",
    "        d_list.append({'util':result,'disp':'ld','policy':polfil})\n",
    "        \n",
    "    val_util.append(np.mean(polutil_hd))\n",
    "    val_util.append(np.mean(polutil_ld))\n",
    "df = pd.DataFrame(d_list)\n",
    "df.to_hdf('data/low_stakes_val_1cents_results','results')"
   ]
  },
  {
   "cell_type": "code",
   "execution_count": 72,
   "metadata": {
    "collapsed": true
   },
   "outputs": [],
   "source": [
    "ordered = np.array(filenames)[np.argsort(np.mean(np.array(val_util).reshape(7,2),1))][::-1]"
   ]
  },
  {
   "cell_type": "code",
   "execution_count": 73,
   "metadata": {},
   "outputs": [
    {
     "data": {
      "text/plain": [
       "[('low_stakes_trunc_1cents.npy', 0.14339236705541725),\n",
       " ('low_stakes_trunc_1cents-5.npy', 0.14273756154257727),\n",
       " ('low_stakes_trunc_1cents-4.npy', 0.14273756154257727),\n",
       " ('low_stakes_1cents-previous.npy', 0.14273756154257727),\n",
       " ('low_stakes_trunc_1cents-2.npy', 0.14252322912178234),\n",
       " ('low_stakes_trunc_1cents-3.npy', 0.14251276014574243),\n",
       " ('low_stakes_1cents.npy', 0.1407567643988934)]"
      ]
     },
     "execution_count": 73,
     "metadata": {},
     "output_type": "execute_result"
    }
   ],
   "source": [
    "list(zip(ordered,np.sort(np.mean(np.array(val_util).reshape(7,2),1))[::-1]))"
   ]
  },
  {
   "cell_type": "code",
   "execution_count": 81,
   "metadata": {
    "collapsed": true
   },
   "outputs": [],
   "source": [
    "std_errs = [df[df['policy'] == polfil].util.std()*1.96/np.sqrt(2000) for polfil in filenames]"
   ]
  },
  {
   "cell_type": "code",
   "execution_count": 82,
   "metadata": {
    "scrolled": true
   },
   "outputs": [
    {
     "data": {
      "text/plain": [
       "[0.0013710719779671753,\n",
       " 0.0014960608335911835,\n",
       " 0.0012415434671854111,\n",
       " 0.0011881177476536732,\n",
       " 0.0011991098599670768,\n",
       " 0.0013710719779671753,\n",
       " 0.0013710719779671753]"
      ]
     },
     "execution_count": 82,
     "metadata": {},
     "output_type": "execute_result"
    }
   ],
   "source": [
    "std_errs"
   ]
  },
  {
   "cell_type": "code",
   "execution_count": 85,
   "metadata": {
    "collapsed": true
   },
   "outputs": [],
   "source": [
    "mg_utils = list(df[df['policy'] == 'low_stakes_1cents-previous.npy'].util)\n",
    "bo_utils = list(df[df['policy'] == 'low_stakes_trunc_1cents.npy'].util)"
   ]
  },
  {
   "cell_type": "code",
   "execution_count": 88,
   "metadata": {},
   "outputs": [
    {
     "data": {
      "text/plain": [
       "Ttest_indResult(statistic=0.69386473571108442, pvalue=0.4878073523947164)"
      ]
     },
     "execution_count": 88,
     "metadata": {},
     "output_type": "execute_result"
    }
   ],
   "source": [
    "from scipy.stats import ttest_ind\n",
    "ttest_ind(bo_utils,mg_utils)\n"
   ]
  },
  {
   "cell_type": "markdown",
   "metadata": {},
   "source": [
    "# Result fixing"
   ]
  },
  {
   "cell_type": "code",
   "execution_count": 14,
   "metadata": {},
   "outputs": [
    {
     "data": {
      "text/plain": [
       "policy\n",
       "comb_1cents.npy                   3.645836\n",
       "high_stakes_1cents-prev.npy       3.648174\n",
       "high_stakes_1cents.npy            3.640578\n",
       "high_stakes_trunc_1cents-2.npy    3.643652\n",
       "high_stakes_trunc_1cents-3.npy    3.640808\n",
       "high_stakes_trunc_1cents-4.npy    3.647734\n",
       "high_stakes_trunc_1cents-5.npy    3.640774\n",
       "high_stakes_trunc_1cents.npy      3.643476\n",
       "hs_ld_1cents-2.npy                3.643588\n",
       "low_stakes_1cents-previous.npy    3.649938\n",
       "low_stakes_1cents.npy             3.648834\n",
       "low_stakes_trunc_1cents-2.npy     3.646879\n",
       "low_stakes_trunc_1cents-3.npy     3.649111\n",
       "low_stakes_trunc_1cents.npy       3.651658\n",
       "ls_hd_1cents-2.npy                3.647104\n",
       "ls_ld_1cents-2.npy                3.631423\n",
       "Name: util, dtype: float64"
      ]
     },
     "execution_count": 14,
     "metadata": {},
     "output_type": "execute_result"
    }
   ],
   "source": [
    "df = pd.read_hdf('data/comb_val_1cents_results-2','results')\n",
    "df.groupby('policy').util.mean()"
   ]
  },
  {
   "cell_type": "code",
   "execution_count": 15,
   "metadata": {},
   "outputs": [
    {
     "data": {
      "text/html": [
       "<div>\n",
       "<style>\n",
       "    .dataframe thead tr:only-child th {\n",
       "        text-align: right;\n",
       "    }\n",
       "\n",
       "    .dataframe thead th {\n",
       "        text-align: left;\n",
       "    }\n",
       "\n",
       "    .dataframe tbody tr th {\n",
       "        vertical-align: top;\n",
       "    }\n",
       "</style>\n",
       "<table border=\"1\" class=\"dataframe\">\n",
       "  <thead>\n",
       "    <tr style=\"text-align: right;\">\n",
       "      <th></th>\n",
       "      <th>disp</th>\n",
       "      <th>env_id</th>\n",
       "      <th>policy</th>\n",
       "      <th>stake</th>\n",
       "      <th>util</th>\n",
       "    </tr>\n",
       "  </thead>\n",
       "  <tbody>\n",
       "    <tr>\n",
       "      <th>0</th>\n",
       "      <td>high</td>\n",
       "      <td>0</td>\n",
       "      <td>high_stakes_1cents.npy</td>\n",
       "      <td>high</td>\n",
       "      <td>5.999691</td>\n",
       "    </tr>\n",
       "    <tr>\n",
       "      <th>1</th>\n",
       "      <td>high</td>\n",
       "      <td>1</td>\n",
       "      <td>high_stakes_1cents.npy</td>\n",
       "      <td>high</td>\n",
       "      <td>9.630031</td>\n",
       "    </tr>\n",
       "    <tr>\n",
       "      <th>2</th>\n",
       "      <td>high</td>\n",
       "      <td>2</td>\n",
       "      <td>high_stakes_1cents.npy</td>\n",
       "      <td>high</td>\n",
       "      <td>7.737362</td>\n",
       "    </tr>\n",
       "    <tr>\n",
       "      <th>3</th>\n",
       "      <td>high</td>\n",
       "      <td>3</td>\n",
       "      <td>high_stakes_1cents.npy</td>\n",
       "      <td>high</td>\n",
       "      <td>8.431396</td>\n",
       "    </tr>\n",
       "    <tr>\n",
       "      <th>4</th>\n",
       "      <td>high</td>\n",
       "      <td>4</td>\n",
       "      <td>high_stakes_1cents.npy</td>\n",
       "      <td>high</td>\n",
       "      <td>6.989854</td>\n",
       "    </tr>\n",
       "    <tr>\n",
       "      <th>5</th>\n",
       "      <td>high</td>\n",
       "      <td>5</td>\n",
       "      <td>high_stakes_1cents.npy</td>\n",
       "      <td>high</td>\n",
       "      <td>8.513090</td>\n",
       "    </tr>\n",
       "    <tr>\n",
       "      <th>6</th>\n",
       "      <td>high</td>\n",
       "      <td>6</td>\n",
       "      <td>high_stakes_1cents.npy</td>\n",
       "      <td>high</td>\n",
       "      <td>8.076591</td>\n",
       "    </tr>\n",
       "    <tr>\n",
       "      <th>7</th>\n",
       "      <td>high</td>\n",
       "      <td>7</td>\n",
       "      <td>high_stakes_1cents.npy</td>\n",
       "      <td>high</td>\n",
       "      <td>7.065786</td>\n",
       "    </tr>\n",
       "    <tr>\n",
       "      <th>8</th>\n",
       "      <td>high</td>\n",
       "      <td>8</td>\n",
       "      <td>high_stakes_1cents.npy</td>\n",
       "      <td>high</td>\n",
       "      <td>8.801727</td>\n",
       "    </tr>\n",
       "    <tr>\n",
       "      <th>9</th>\n",
       "      <td>high</td>\n",
       "      <td>9</td>\n",
       "      <td>high_stakes_1cents.npy</td>\n",
       "      <td>high</td>\n",
       "      <td>6.278555</td>\n",
       "    </tr>\n",
       "  </tbody>\n",
       "</table>\n",
       "</div>"
      ],
      "text/plain": [
       "   disp  env_id                  policy stake      util\n",
       "0  high       0  high_stakes_1cents.npy  high  5.999691\n",
       "1  high       1  high_stakes_1cents.npy  high  9.630031\n",
       "2  high       2  high_stakes_1cents.npy  high  7.737362\n",
       "3  high       3  high_stakes_1cents.npy  high  8.431396\n",
       "4  high       4  high_stakes_1cents.npy  high  6.989854\n",
       "5  high       5  high_stakes_1cents.npy  high  8.513090\n",
       "6  high       6  high_stakes_1cents.npy  high  8.076591\n",
       "7  high       7  high_stakes_1cents.npy  high  7.065786\n",
       "8  high       8  high_stakes_1cents.npy  high  8.801727\n",
       "9  high       9  high_stakes_1cents.npy  high  6.278555"
      ]
     },
     "execution_count": 15,
     "metadata": {},
     "output_type": "execute_result"
    }
   ],
   "source": [
    "df[:10]"
   ]
  },
  {
   "cell_type": "code",
   "execution_count": 19,
   "metadata": {},
   "outputs": [
    {
     "name": "stderr",
     "output_type": "stream",
     "text": [
      "/Users/sayangul/anaconda/lib/python3.6/site-packages/ipykernel_launcher.py:1: UserWarning: Boolean Series key will be reindexed to match DataFrame index.\n",
      "  \"\"\"Entry point for launching an IPython kernel.\n"
     ]
    },
    {
     "data": {
      "text/plain": [
       "policy\n",
       "comb_1cents.npy                   6.459792\n",
       "high_stakes_1cents-prev.npy       6.458588\n",
       "high_stakes_1cents.npy            6.452250\n",
       "high_stakes_trunc_1cents-2.npy    6.471901\n",
       "high_stakes_trunc_1cents-3.npy    6.460570\n",
       "high_stakes_trunc_1cents-4.npy    6.466308\n",
       "high_stakes_trunc_1cents-5.npy    6.458887\n",
       "high_stakes_trunc_1cents.npy      6.470717\n",
       "hs_ld_1cents-2.npy                6.471879\n",
       "low_stakes_1cents-previous.npy    6.470943\n",
       "low_stakes_1cents.npy             6.469036\n",
       "low_stakes_trunc_1cents-2.npy     6.459526\n",
       "low_stakes_trunc_1cents-3.npy     6.467650\n",
       "low_stakes_trunc_1cents.npy       6.473890\n",
       "ls_hd_1cents-2.npy                6.464633\n",
       "ls_ld_1cents-2.npy                6.426627\n",
       "Name: util, dtype: float64"
      ]
     },
     "execution_count": 19,
     "metadata": {},
     "output_type": "execute_result"
    }
   ],
   "source": [
    "df[df['stake']=='high'][df['disp']=='low'].groupby('policy').util.mean()"
   ]
  },
  {
   "cell_type": "code",
   "execution_count": 17,
   "metadata": {
    "scrolled": true
   },
   "outputs": [
    {
     "name": "stderr",
     "output_type": "stream",
     "text": [
      "/Users/sayangul/anaconda/lib/python3.6/site-packages/ipykernel_launcher.py:1: UserWarning: Boolean Series key will be reindexed to match DataFrame index.\n",
      "  \"\"\"Entry point for launching an IPython kernel.\n"
     ]
    },
    {
     "data": {
      "text/plain": [
       "policy\n",
       "comb_1cents.npy                   7.842801\n",
       "high_stakes_1cents-prev.npy       7.844545\n",
       "high_stakes_1cents.npy            7.843455\n",
       "high_stakes_trunc_1cents-2.npy    7.842706\n",
       "high_stakes_trunc_1cents-3.npy    7.842660\n",
       "high_stakes_trunc_1cents-4.npy    7.842756\n",
       "high_stakes_trunc_1cents-5.npy    7.844211\n",
       "high_stakes_trunc_1cents.npy      7.843188\n",
       "hs_ld_1cents-2.npy                7.842474\n",
       "low_stakes_1cents-previous.npy    7.843247\n",
       "low_stakes_1cents.npy             7.843721\n",
       "low_stakes_trunc_1cents-2.npy     7.843095\n",
       "low_stakes_trunc_1cents-3.npy     7.842580\n",
       "low_stakes_trunc_1cents.npy       7.844729\n",
       "ls_hd_1cents-2.npy                7.842675\n",
       "ls_ld_1cents-2.npy                7.839063\n",
       "Name: util, dtype: float64"
      ]
     },
     "execution_count": 17,
     "metadata": {},
     "output_type": "execute_result"
    }
   ],
   "source": [
    "df[df['stake']=='high'][df['disp']=='high'].groupby('policy').util.mean()"
   ]
  },
  {
   "cell_type": "code",
   "execution_count": 18,
   "metadata": {},
   "outputs": [
    {
     "name": "stderr",
     "output_type": "stream",
     "text": [
      "/Users/sayangul/anaconda/lib/python3.6/site-packages/ipykernel_launcher.py:1: UserWarning: Boolean Series key will be reindexed to match DataFrame index.\n",
      "  \"\"\"Entry point for launching an IPython kernel.\n"
     ]
    },
    {
     "data": {
      "text/plain": [
       "policy\n",
       "comb_1cents.npy                   0.155913\n",
       "high_stakes_1cents-prev.npy       0.159859\n",
       "high_stakes_1cents.npy            0.152682\n",
       "high_stakes_trunc_1cents-2.npy    0.130000\n",
       "high_stakes_trunc_1cents-3.npy    0.130000\n",
       "high_stakes_trunc_1cents-4.npy    0.155922\n",
       "high_stakes_trunc_1cents-5.npy    0.130000\n",
       "high_stakes_trunc_1cents.npy      0.130000\n",
       "hs_ld_1cents-2.npy                0.130000\n",
       "low_stakes_1cents-previous.npy    0.156031\n",
       "low_stakes_1cents.npy             0.157207\n",
       "low_stakes_trunc_1cents-2.npy     0.154894\n",
       "low_stakes_trunc_1cents-3.npy     0.156214\n",
       "low_stakes_trunc_1cents.npy       0.158012\n",
       "ls_hd_1cents-2.npy                0.155913\n",
       "ls_ld_1cents-2.npy                0.130000\n",
       "Name: util, dtype: float64"
      ]
     },
     "execution_count": 18,
     "metadata": {},
     "output_type": "execute_result"
    }
   ],
   "source": [
    "df[df['stake']=='low'][df['disp']=='high'].groupby('policy').util.mean()"
   ]
  },
  {
   "cell_type": "code",
   "execution_count": 20,
   "metadata": {},
   "outputs": [
    {
     "name": "stderr",
     "output_type": "stream",
     "text": [
      "/Users/sayangul/anaconda/lib/python3.6/site-packages/ipykernel_launcher.py:1: UserWarning: Boolean Series key will be reindexed to match DataFrame index.\n",
      "  \"\"\"Entry point for launching an IPython kernel.\n"
     ]
    },
    {
     "data": {
      "text/plain": [
       "policy\n",
       "comb_1cents.npy                   0.124837\n",
       "high_stakes_1cents-prev.npy       0.129703\n",
       "high_stakes_1cents.npy            0.113925\n",
       "high_stakes_trunc_1cents-2.npy    0.130000\n",
       "high_stakes_trunc_1cents-3.npy    0.130000\n",
       "high_stakes_trunc_1cents-4.npy    0.125950\n",
       "high_stakes_trunc_1cents-5.npy    0.130000\n",
       "high_stakes_trunc_1cents.npy      0.130000\n",
       "hs_ld_1cents-2.npy                0.130000\n",
       "low_stakes_1cents-previous.npy    0.129531\n",
       "low_stakes_1cents.npy             0.125373\n",
       "low_stakes_trunc_1cents-2.npy     0.130000\n",
       "low_stakes_trunc_1cents-3.npy     0.130000\n",
       "low_stakes_trunc_1cents.npy       0.130000\n",
       "ls_hd_1cents-2.npy                0.125195\n",
       "ls_ld_1cents-2.npy                0.130000\n",
       "Name: util, dtype: float64"
      ]
     },
     "execution_count": 20,
     "metadata": {},
     "output_type": "execute_result"
    }
   ],
   "source": [
    "df[df['stake']=='low'][df['disp']=='low'].groupby('policy').util.mean()"
   ]
  },
  {
   "cell_type": "code",
   "execution_count": 43,
   "metadata": {
    "collapsed": true
   },
   "outputs": [],
   "source": [
    "def read_ombo_policy(reward_mu, reward_sigma, outcome_probs, cost=0.01):\n",
    "    \"\"\"Returns optimized policy for the given environment parameters\"\"\"\n",
    "    stakes = 'hs' if reward_mu == 5.0 else 'ls'\n",
    "    disp = 'hd' if np.max(outcome_probs) >= 0.85 else 'ld'\n",
    "    cents = str(int(100*cost))\n",
    "    polfil = 'data/om_bmps_pols/best/'+stakes+'_'+disp+'_'+cents+'cents.npy'\n",
    "#     print(polfil)\n",
    "    bo_pol_theta = np.load(polfil)\n",
    "#     print(bo_pol_theta)\n",
    "    return LiederPolicy(list(bo_pol_theta))"
   ]
  },
  {
   "cell_type": "code",
   "execution_count": 48,
   "metadata": {},
   "outputs": [
    {
     "name": "stdout",
     "output_type": "stream",
     "text": [
      "data/om_bmps_pols/best/ls_hd_1cents.npy\n",
      "[ 1.328  0.828  0.167  0.005  1.   ]\n"
     ]
    },
    {
     "data": {
      "text/plain": [
       "<policies.LiederPolicy at 0x10ff30898>"
      ]
     },
     "execution_count": 48,
     "metadata": {},
     "output_type": "execute_result"
    }
   ],
   "source": [
    "read_ombo_policy(0.3,20,[0.86,0.19])"
   ]
  }
 ],
 "metadata": {
  "kernelspec": {
   "display_name": "Python 3",
   "language": "python",
   "name": "python3"
  }
 },
 "nbformat": 4,
 "nbformat_minor": 2
}

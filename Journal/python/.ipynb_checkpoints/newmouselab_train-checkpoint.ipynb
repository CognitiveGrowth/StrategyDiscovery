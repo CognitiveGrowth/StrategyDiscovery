{
 "cells": [
  {
   "cell_type": "code",
   "execution_count": 1,
   "metadata": {
    "collapsed": true
   },
   "outputs": [],
   "source": [
    "%matplotlib inline\n",
    "import matplotlib.pyplot as plt\n",
    "import numpy as np\n",
    "import pandas as pd\n",
    "import seaborn as sns\n",
    "import scipy.stats\n",
    "from scipy.stats import norm\n",
    "import scipy.integrate as integrate\n",
    "\n",
    "import gym\n",
    "from gym import spaces\n",
    "\n",
    "import random\n",
    "import itertools as it\n",
    "from joblib import Parallel, delayed\n",
    "from toolz import memoize\n",
    "from contracts import contract\n",
    "from collections import namedtuple, defaultdict, deque, Counter\n",
    "\n",
    "import warnings\n",
    "warnings.filterwarnings(\"ignore\", \n",
    "                        message=\"The objective has been evaluated at this point before.\")\n",
    "\n",
    "from agents import Agent\n",
    "from newmouselab import NewMouselabEnv\n",
    "from policies import FixedPlanPolicy, LiederPolicy\n",
    "from evaluation import *\n",
    "from distributions import cmax, smax, sample, expectation, Normal, PointMass, SampleDist, TruncatedNormal, Categorical"
   ]
  },
  {
   "cell_type": "code",
   "execution_count": 2,
   "metadata": {
    "collapsed": true
   },
   "outputs": [],
   "source": [
    "import ipyparallel as ipp \n",
    "rc = ipp.Client(profile='default', cluster_id='')\n",
    "ipp.register_joblib_backend()"
   ]
  },
  {
   "cell_type": "markdown",
   "metadata": {},
   "source": [
    "# Mouselab Environment"
   ]
  },
  {
   "cell_type": "code",
   "execution_count": 3,
   "metadata": {
    "collapsed": true
   },
   "outputs": [],
   "source": [
    "gambles = 4\n",
    "attributes = [0.24,0.74,0.01,0.01]\n",
    "reward = Normal(2,1)\n",
    "cost=0.03\n",
    "env = OldMouselabEnv(gambles, attributes, reward)"
   ]
  },
  {
   "cell_type": "code",
   "execution_count": 4,
   "metadata": {
    "collapsed": true
   },
   "outputs": [],
   "source": [
    "attributes = 4\n",
    "env = OldMouselabEnv(gambles, attributes, reward, cost, randomness=0.1)"
   ]
  },
  {
   "cell_type": "code",
   "execution_count": 5,
   "metadata": {
    "scrolled": true
   },
   "outputs": [
    {
     "data": {
      "text/plain": [
       "array([-0.03 ,  0.003,  0.396,  1.05 ,  2.   ])"
      ]
     },
     "execution_count": 5,
     "metadata": {},
     "output_type": "execute_result"
    }
   ],
   "source": [
    "env.action_features(4)"
   ]
  },
  {
   "cell_type": "markdown",
   "metadata": {},
   "source": [
    "## Time features"
   ]
  },
  {
   "cell_type": "code",
   "execution_count": 6,
   "metadata": {
    "collapsed": true
   },
   "outputs": [],
   "source": [
    "import datetime"
   ]
  },
  {
   "cell_type": "code",
   "execution_count": 7,
   "metadata": {},
   "outputs": [
    {
     "data": {
      "text/plain": [
       "array([  6.493e-03,   2.885e-05,   9.935e-01,   1.091e-09])"
      ]
     },
     "execution_count": 7,
     "metadata": {},
     "output_type": "execute_result"
    }
   ],
   "source": [
    "env.dist"
   ]
  },
  {
   "cell_type": "markdown",
   "metadata": {},
   "source": [
    "### VPI_all"
   ]
  },
  {
   "cell_type": "code",
   "execution_count": 8,
   "metadata": {},
   "outputs": [
    {
     "name": "stdout",
     "output_type": "stream",
     "text": [
      "1.02413938906\n"
     ]
    }
   ],
   "source": [
    "a = datetime.datetime.now()\n",
    "means = []\n",
    "for i in range(100):\n",
    "    means.append(env.vpi())\n",
    "t = datetime.datetime.now() - a\n",
    "print(np.mean(means))"
   ]
  },
  {
   "cell_type": "code",
   "execution_count": 9,
   "metadata": {
    "scrolled": true
   },
   "outputs": [
    {
     "name": "stdout",
     "output_type": "stream",
     "text": [
      "0:00:01.580367\n"
     ]
    }
   ],
   "source": [
    "print(t)"
   ]
  },
  {
   "cell_type": "markdown",
   "metadata": {},
   "source": [
    "### VPI_all2"
   ]
  },
  {
   "cell_type": "code",
   "execution_count": 10,
   "metadata": {},
   "outputs": [
    {
     "name": "stdout",
     "output_type": "stream",
     "text": [
      "1.0239050358\n"
     ]
    }
   ],
   "source": [
    "a = datetime.datetime.now()\n",
    "means = []\n",
    "for i in range(100):\n",
    "    means.append(env.vpi2())\n",
    "t = datetime.datetime.now() - a\n",
    "print(np.mean(means))"
   ]
  },
  {
   "cell_type": "code",
   "execution_count": 11,
   "metadata": {},
   "outputs": [
    {
     "name": "stdout",
     "output_type": "stream",
     "text": [
      "0:00:01.331060\n"
     ]
    }
   ],
   "source": [
    "print(t)"
   ]
  },
  {
   "cell_type": "markdown",
   "metadata": {},
   "source": [
    "### VPI_action"
   ]
  },
  {
   "cell_type": "code",
   "execution_count": 12,
   "metadata": {
    "scrolled": true
   },
   "outputs": [
    {
     "name": "stdout",
     "output_type": "stream",
     "text": [
      "0:00:01.550290\n"
     ]
    }
   ],
   "source": [
    "a = datetime.datetime.now()\n",
    "for i in range(100):\n",
    "    env.vpi_action(2)\n",
    "t = datetime.datetime.now() - a\n",
    "print(t)"
   ]
  },
  {
   "cell_type": "markdown",
   "metadata": {},
   "source": [
    "### Myopic_VOI"
   ]
  },
  {
   "cell_type": "code",
   "execution_count": 13,
   "metadata": {},
   "outputs": [
    {
     "name": "stdout",
     "output_type": "stream",
     "text": [
      "0:00:01.369617\n"
     ]
    }
   ],
   "source": [
    "a = datetime.datetime.now()\n",
    "for i in range(100):\n",
    "    env.myopic_voi(2)\n",
    "t = datetime.datetime.now() - a\n",
    "print(t)"
   ]
  },
  {
   "cell_type": "markdown",
   "metadata": {},
   "source": [
    "# Training"
   ]
  },
  {
   "cell_type": "code",
   "execution_count": 14,
   "metadata": {
    "collapsed": true
   },
   "outputs": [],
   "source": [
    "def hd_dist(attributes):\n",
    "    dist = [1,]*attributes\n",
    "    dist[0] = np.random.randint(85,97)\n",
    "    for i in range(1,attributes-1):\n",
    "        dist[i] += np.random.randint(0,100-np.sum(dist))\n",
    "    dist[-1] += 100-np.sum(dist)\n",
    "    dist = np.around(np.array(dist)/100,decimals=2)\n",
    "    np.random.shuffle(dist)\n",
    "    return dist"
   ]
  },
  {
   "cell_type": "code",
   "execution_count": 15,
   "metadata": {
    "collapsed": true
   },
   "outputs": [],
   "source": [
    "for _ in range(1000):\n",
    "    if np.max(hd_dist(4)) < 0.85:\n",
    "        print('goshdarn')\n",
    "        break"
   ]
  },
  {
   "cell_type": "code",
   "execution_count": 16,
   "metadata": {
    "collapsed": true
   },
   "outputs": [],
   "source": [
    "def ld_dist(attributes):\n",
    "    constrain = True\n",
    "    while constrain:\n",
    "        dist = [np.random.randint(10,50) for _ in range(attributes)]\n",
    "        dist = np.around(np.array(dist)/sum(dist),decimals=2)\n",
    "        constrain = np.min(dist) <= 0.10 or np.max(dist) >= 0.40\n",
    "    np.random.shuffle(dist)\n",
    "    return dist"
   ]
  },
  {
   "cell_type": "code",
   "execution_count": 17,
   "metadata": {
    "collapsed": true
   },
   "outputs": [],
   "source": [
    "for _ in range(1000):\n",
    "    dist = ld_dist(4)\n",
    "    if np.min(dist) <= 0.10 or np.max(dist) >= 0.40:\n",
    "        print('goshdarn')\n",
    "        break"
   ]
  },
  {
   "cell_type": "markdown",
   "metadata": {},
   "source": [
    "## High Stakes 3 cents"
   ]
  },
  {
   "cell_type": "code",
   "execution_count": 13,
   "metadata": {
    "collapsed": true
   },
   "outputs": [],
   "source": [
    "gambles = 7\n",
    "attributes = 4\n",
    "# reward = Normal(0,1)\n",
    "# max_obs=30\n",
    "high_stakes = Normal((9.99+0.01)/2, 0.3*(9.99-0.01))\n",
    "low_stakes = Normal((0.25+0.01)/2, 0.3*(0.25-0.01))\n",
    "reward = high_stakes\n",
    "cost=.03\n",
    "\n",
    "#set to 20 for sanity check\n",
    "n_train = 20\n",
    "n_test = 20\n",
    "\n",
    "train_envs_hd = [OldMouselabEnv(gambles, hd_dist(attributes), reward, cost) for _ in range(n_train)]\n",
    "train_envs_ld = [OldMouselabEnv(gambles, ld_dist(attributes), reward, cost) for _ in range(n_train)]\n",
    "train_envs = train_envs_hd+train_envs_ld \n",
    "\n",
    "test_envs_hd =  [OldMouselabEnv(gambles, hd_dist(attributes), reward, cost) for _ in range(n_train)]\n",
    "test_envs_ld = [OldMouselabEnv(gambles, ld_dist(attributes), reward, cost) for _ in range(n_train)]\n",
    "test_envs = test_envs_hd+test_envs_ld \n",
    "\n",
    "term_action = train_envs[0].term_action"
   ]
  },
  {
   "cell_type": "code",
   "execution_count": 23,
   "metadata": {
    "collapsed": true
   },
   "outputs": [],
   "source": [
    "bo_pol_theta = np.load('data/high_stakes_3cents.npy')\n",
    "bo_pol = LiederPolicy(list(bo_pol_theta))"
   ]
  },
  {
   "cell_type": "code",
   "execution_count": 24,
   "metadata": {},
   "outputs": [
    {
     "name": "stdout",
     "output_type": "stream",
     "text": [
      "[ 2.978  0.396  0.079  0.524  1.   ] -> 7.039 in 33 sec\n",
      "[ 18.192   0.331   0.337   0.332   1.   ] -> 6.899 in 21 sec\n",
      "[ 19.083   0.52    0.403   0.077   1.   ] -> 6.453 in 16 sec\n",
      "[ 8.907  0.27   0.459  0.271  1.   ] -> 7.112 in 29 sec\n",
      "[ 12.391   0.459   0.185   0.356   1.   ] -> 7.077 in 22 sec\n",
      "[ 11.679   0.486   0.071   0.442   1.   ] -> 7.142 in 25 sec\n",
      "[ 14.735   0.4     0.26    0.339   1.   ] -> 7.031 in 20 sec\n",
      "[ 21.898   0.31    0.286   0.404   1.   ] -> 6.811 in 20 sec\n",
      "[ 4.071  0.339  0.133  0.528  1.   ] -> 7.031 in 31 sec\n",
      "[ 7.28   0.222  0.532  0.246  1.   ] -> 7.005 in 26 sec\n",
      "[ 7.447  0.222  0.519  0.259  1.   ] -> 7.046 in 27 sec\n",
      "[ 30.      0.378   0.245   0.378   1.   ] -> 6.553 in 15 sec\n",
      "[ 9.827  0.     0.5    0.5    1.   ] -> 6.925 in 35 sec\n",
      "[ 1.   0.5  0.5  0.   1. ] -> 7.077 in 33 sec\n",
      "[ 8.934  0.588  0.     0.412  1.   ] -> 7.139 in 27 sec\n",
      "[ 6.539  0.682  0.     0.318  1.   ] -> 7.07 in 29 sec\n",
      "[ 11.13    0.547   0.      0.453   1.   ] -> 7.031 in 28 sec\n",
      "[ 1.     0.788  0.     0.212  1.   ] -> 7.046 in 33 sec\n",
      "[ 8.828  0.378  0.378  0.245  1.   ] -> 7.021 in 29 sec\n",
      "[ 1.     0.395  0.     0.605  1.   ] -> 7.05 in 36 sec\n",
      "BO: [ 11.679   0.486   0.071   0.442   1.   ] -> 7.142 in 544 sec\n",
      "0:09:03.928154\n"
     ]
    }
   ],
   "source": [
    "a = datetime.datetime.now()\n",
    "# bop2 = bo_policy(train_envs, max_cost=max_obs, n_jobs=20, n_calls=20, x0=[1., 1., 0., 0.])\n",
    "bo_pol, result = bo_policy(train_envs, max_cost=30, n_jobs=20, n_calls=20, x0=list(bo_pol.theta[:-1]),\n",
    "                           verbose=1, normalize_voi=True, return_result=True)\n",
    "t = datetime.datetime.now() - a\n",
    "print(t)"
   ]
  },
  {
   "cell_type": "code",
   "execution_count": 25,
   "metadata": {},
   "outputs": [
    {
     "data": {
      "text/plain": [
       "<matplotlib.axes._subplots.AxesSubplot at 0x2ab7c7861d68>"
      ]
     },
     "execution_count": 25,
     "metadata": {},
     "output_type": "execute_result"
    },
    {
     "name": "stderr",
     "output_type": "stream",
     "text": [
      "/global/software/sl-7.x86_64/modules/langs/python/3.6/lib/python3.6/site-packages/matplotlib/font_manager.py:1297: UserWarning: findfont: Font family ['sans-serif'] not found. Falling back to DejaVu Sans\n",
      "  (prop.get_family(), self.defaultFamily[fontext]))\n"
     ]
    },
    {
     "data": {
      "image/png": "[encoded data removed]",
      "text/plain": [
       "<matplotlib.figure.Figure at 0x2ab7c78684e0>"
      ]
     },
     "metadata": {},
     "output_type": "display_data"
    }
   ],
   "source": [
    "from skopt.plots import plot_convergence, plot_evaluations, plot_objective\n",
    "plot_convergence(result)"
   ]
  },
  {
   "cell_type": "code",
   "execution_count": 26,
   "metadata": {},
   "outputs": [
    {
     "data": {
      "text/plain": [
       "array([ 11.679,   0.486,   0.071,   0.442,   1.   ])"
      ]
     },
     "execution_count": 26,
     "metadata": {},
     "output_type": "execute_result"
    }
   ],
   "source": [
    "bo_pol.theta"
   ]
  },
  {
   "cell_type": "code",
   "execution_count": 219,
   "metadata": {
    "collapsed": true
   },
   "outputs": [],
   "source": [
    "# np.save('high_stakes_3cents',bo_pol.theta)"
   ]
  },
  {
   "cell_type": "code",
   "execution_count": 27,
   "metadata": {
    "collapsed": true
   },
   "outputs": [],
   "source": [
    "a = datetime.datetime.now()\n",
    "bo_utils = get_util(bo_pol, test_envs, parallel=Parallel(n_jobs=20),return_mean=False)\n",
    "t = datetime.datetime.now() - a"
   ]
  },
  {
   "cell_type": "code",
   "execution_count": 28,
   "metadata": {
    "scrolled": true
   },
   "outputs": [
    {
     "data": {
      "text/plain": [
       "7.1193556381263559"
      ]
     },
     "execution_count": 28,
     "metadata": {},
     "output_type": "execute_result"
    }
   ],
   "source": [
    "np.mean(bo_utils)"
   ]
  },
  {
   "cell_type": "code",
   "execution_count": 29,
   "metadata": {
    "collapsed": true
   },
   "outputs": [],
   "source": [
    "mg_pol = LiederPolicy([1, 1, 0, 0, 1])\n",
    "a = datetime.datetime.now()\n",
    "mg_utils = get_util(mg_pol, test_envs, parallel=Parallel(n_jobs=20),return_mean=False)\n",
    "t = datetime.datetime.now() - a"
   ]
  },
  {
   "cell_type": "code",
   "execution_count": 30,
   "metadata": {},
   "outputs": [
    {
     "data": {
      "text/plain": [
       "7.2164397985038464"
      ]
     },
     "execution_count": 30,
     "metadata": {},
     "output_type": "execute_result"
    }
   ],
   "source": [
    "np.mean(mg_utils)"
   ]
  },
  {
   "cell_type": "code",
   "execution_count": 31,
   "metadata": {},
   "outputs": [
    {
     "data": {
      "text/plain": [
       "Ttest_indResult(statistic=-0.34340012753570187, pvalue=0.73222134529588634)"
      ]
     },
     "execution_count": 31,
     "metadata": {},
     "output_type": "execute_result"
    }
   ],
   "source": [
    "from scipy.stats import ttest_ind\n",
    "ttest_ind(bo_utils,mg_utils)"
   ]
  },
  {
   "cell_type": "code",
   "execution_count": 32,
   "metadata": {},
   "outputs": [
    {
     "data": {
      "text/plain": [
       "Ttest_relResult(statistic=-1.2061004963574689, pvalue=0.23504481889857098)"
      ]
     },
     "execution_count": 32,
     "metadata": {},
     "output_type": "execute_result"
    }
   ],
   "source": [
    "from scipy.stats import ttest_rel\n",
    "ttest_rel(bo_utils,mg_utils)"
   ]
  },
  {
   "cell_type": "code",
   "execution_count": 33,
   "metadata": {
    "collapsed": true
   },
   "outputs": [],
   "source": [
    "no_pol = FixedPlanPolicy([term_action])\n",
    "a = datetime.datetime.now()\n",
    "no_utils = get_util(no_pol, test_envs, parallel=Parallel(n_jobs=20),return_mean=False)\n",
    "t = datetime.datetime.now() - a"
   ]
  },
  {
   "cell_type": "code",
   "execution_count": 34,
   "metadata": {
    "scrolled": true
   },
   "outputs": [
    {
     "data": {
      "text/plain": [
       "5.0"
      ]
     },
     "execution_count": 34,
     "metadata": {},
     "output_type": "execute_result"
    }
   ],
   "source": [
    "np.mean(no_utils)"
   ]
  },
  {
   "cell_type": "code",
   "execution_count": 35,
   "metadata": {
    "collapsed": true
   },
   "outputs": [],
   "source": [
    "fo_pol = FixedPlanPolicy(range(term_action+1))\n",
    "a = datetime.datetime.now()\n",
    "fo_utils = get_util(fo_pol, test_envs, parallel=Parallel(n_jobs=20),return_mean=False)\n",
    "t = datetime.datetime.now() - a"
   ]
  },
  {
   "cell_type": "code",
   "execution_count": 36,
   "metadata": {},
   "outputs": [
    {
     "data": {
      "text/plain": [
       "6.75839878191419"
      ]
     },
     "execution_count": 36,
     "metadata": {},
     "output_type": "execute_result"
    }
   ],
   "source": [
    "np.mean(fo_utils)"
   ]
  },
  {
   "cell_type": "code",
   "execution_count": 37,
   "metadata": {
    "collapsed": true
   },
   "outputs": [],
   "source": [
    "utils = [bo_utils,mg_utils,no_utils,fo_utils]\n",
    "policies = ['bo','metagreedy','none','full-obs']\n",
    "d_list = []\n",
    "for u,p in zip(utils,policies):\n",
    "    for result in u:\n",
    "        d_list.append({'util':result,'stakes':'high','cost':0.03,'policy':p})"
   ]
  },
  {
   "cell_type": "code",
   "execution_count": 38,
   "metadata": {},
   "outputs": [
    {
     "data": {
      "text/html": [
       "<div>\n",
       "<table border=\"1\" class=\"dataframe\">\n",
       "  <thead>\n",
       "    <tr style=\"text-align: right;\">\n",
       "      <th></th>\n",
       "      <th>cost</th>\n",
       "      <th>policy</th>\n",
       "      <th>stakes</th>\n",
       "      <th>util</th>\n",
       "    </tr>\n",
       "  </thead>\n",
       "  <tbody>\n",
       "    <tr>\n",
       "      <th>0</th>\n",
       "      <td>0.03</td>\n",
       "      <td>bo</td>\n",
       "      <td>high</td>\n",
       "      <td>7.292699</td>\n",
       "    </tr>\n",
       "    <tr>\n",
       "      <th>1</th>\n",
       "      <td>0.03</td>\n",
       "      <td>bo</td>\n",
       "      <td>high</td>\n",
       "      <td>7.912315</td>\n",
       "    </tr>\n",
       "    <tr>\n",
       "      <th>2</th>\n",
       "      <td>0.03</td>\n",
       "      <td>bo</td>\n",
       "      <td>high</td>\n",
       "      <td>6.097723</td>\n",
       "    </tr>\n",
       "    <tr>\n",
       "      <th>3</th>\n",
       "      <td>0.03</td>\n",
       "      <td>bo</td>\n",
       "      <td>high</td>\n",
       "      <td>7.375388</td>\n",
       "    </tr>\n",
       "    <tr>\n",
       "      <th>4</th>\n",
       "      <td>0.03</td>\n",
       "      <td>bo</td>\n",
       "      <td>high</td>\n",
       "      <td>6.781878</td>\n",
       "    </tr>\n",
       "    <tr>\n",
       "      <th>5</th>\n",
       "      <td>0.03</td>\n",
       "      <td>bo</td>\n",
       "      <td>high</td>\n",
       "      <td>11.511568</td>\n",
       "    </tr>\n",
       "    <tr>\n",
       "      <th>6</th>\n",
       "      <td>0.03</td>\n",
       "      <td>bo</td>\n",
       "      <td>high</td>\n",
       "      <td>5.812373</td>\n",
       "    </tr>\n",
       "    <tr>\n",
       "      <th>7</th>\n",
       "      <td>0.03</td>\n",
       "      <td>bo</td>\n",
       "      <td>high</td>\n",
       "      <td>6.716564</td>\n",
       "    </tr>\n",
       "    <tr>\n",
       "      <th>8</th>\n",
       "      <td>0.03</td>\n",
       "      <td>bo</td>\n",
       "      <td>high</td>\n",
       "      <td>7.166972</td>\n",
       "    </tr>\n",
       "    <tr>\n",
       "      <th>9</th>\n",
       "      <td>0.03</td>\n",
       "      <td>bo</td>\n",
       "      <td>high</td>\n",
       "      <td>6.875504</td>\n",
       "    </tr>\n",
       "    <tr>\n",
       "      <th>10</th>\n",
       "      <td>0.03</td>\n",
       "      <td>bo</td>\n",
       "      <td>high</td>\n",
       "      <td>9.306018</td>\n",
       "    </tr>\n",
       "    <tr>\n",
       "      <th>11</th>\n",
       "      <td>0.03</td>\n",
       "      <td>bo</td>\n",
       "      <td>high</td>\n",
       "      <td>7.377574</td>\n",
       "    </tr>\n",
       "    <tr>\n",
       "      <th>12</th>\n",
       "      <td>0.03</td>\n",
       "      <td>bo</td>\n",
       "      <td>high</td>\n",
       "      <td>9.103146</td>\n",
       "    </tr>\n",
       "    <tr>\n",
       "      <th>13</th>\n",
       "      <td>0.03</td>\n",
       "      <td>bo</td>\n",
       "      <td>high</td>\n",
       "      <td>7.682605</td>\n",
       "    </tr>\n",
       "    <tr>\n",
       "      <th>14</th>\n",
       "      <td>0.03</td>\n",
       "      <td>bo</td>\n",
       "      <td>high</td>\n",
       "      <td>8.229530</td>\n",
       "    </tr>\n",
       "    <tr>\n",
       "      <th>15</th>\n",
       "      <td>0.03</td>\n",
       "      <td>bo</td>\n",
       "      <td>high</td>\n",
       "      <td>6.471571</td>\n",
       "    </tr>\n",
       "    <tr>\n",
       "      <th>16</th>\n",
       "      <td>0.03</td>\n",
       "      <td>bo</td>\n",
       "      <td>high</td>\n",
       "      <td>9.313060</td>\n",
       "    </tr>\n",
       "    <tr>\n",
       "      <th>17</th>\n",
       "      <td>0.03</td>\n",
       "      <td>bo</td>\n",
       "      <td>high</td>\n",
       "      <td>7.376124</td>\n",
       "    </tr>\n",
       "    <tr>\n",
       "      <th>18</th>\n",
       "      <td>0.03</td>\n",
       "      <td>bo</td>\n",
       "      <td>high</td>\n",
       "      <td>8.767359</td>\n",
       "    </tr>\n",
       "    <tr>\n",
       "      <th>19</th>\n",
       "      <td>0.03</td>\n",
       "      <td>bo</td>\n",
       "      <td>high</td>\n",
       "      <td>9.074281</td>\n",
       "    </tr>\n",
       "    <tr>\n",
       "      <th>20</th>\n",
       "      <td>0.03</td>\n",
       "      <td>bo</td>\n",
       "      <td>high</td>\n",
       "      <td>6.445210</td>\n",
       "    </tr>\n",
       "    <tr>\n",
       "      <th>21</th>\n",
       "      <td>0.03</td>\n",
       "      <td>bo</td>\n",
       "      <td>high</td>\n",
       "      <td>6.432101</td>\n",
       "    </tr>\n",
       "    <tr>\n",
       "      <th>22</th>\n",
       "      <td>0.03</td>\n",
       "      <td>bo</td>\n",
       "      <td>high</td>\n",
       "      <td>5.546911</td>\n",
       "    </tr>\n",
       "    <tr>\n",
       "      <th>23</th>\n",
       "      <td>0.03</td>\n",
       "      <td>bo</td>\n",
       "      <td>high</td>\n",
       "      <td>5.237123</td>\n",
       "    </tr>\n",
       "    <tr>\n",
       "      <th>24</th>\n",
       "      <td>0.03</td>\n",
       "      <td>bo</td>\n",
       "      <td>high</td>\n",
       "      <td>5.774450</td>\n",
       "    </tr>\n",
       "    <tr>\n",
       "      <th>25</th>\n",
       "      <td>0.03</td>\n",
       "      <td>bo</td>\n",
       "      <td>high</td>\n",
       "      <td>6.985393</td>\n",
       "    </tr>\n",
       "    <tr>\n",
       "      <th>26</th>\n",
       "      <td>0.03</td>\n",
       "      <td>bo</td>\n",
       "      <td>high</td>\n",
       "      <td>6.712010</td>\n",
       "    </tr>\n",
       "    <tr>\n",
       "      <th>27</th>\n",
       "      <td>0.03</td>\n",
       "      <td>bo</td>\n",
       "      <td>high</td>\n",
       "      <td>7.280523</td>\n",
       "    </tr>\n",
       "    <tr>\n",
       "      <th>28</th>\n",
       "      <td>0.03</td>\n",
       "      <td>bo</td>\n",
       "      <td>high</td>\n",
       "      <td>6.203285</td>\n",
       "    </tr>\n",
       "    <tr>\n",
       "      <th>29</th>\n",
       "      <td>0.03</td>\n",
       "      <td>bo</td>\n",
       "      <td>high</td>\n",
       "      <td>6.615959</td>\n",
       "    </tr>\n",
       "    <tr>\n",
       "      <th>...</th>\n",
       "      <td>...</td>\n",
       "      <td>...</td>\n",
       "      <td>...</td>\n",
       "      <td>...</td>\n",
       "    </tr>\n",
       "    <tr>\n",
       "      <th>130</th>\n",
       "      <td>0.03</td>\n",
       "      <td>full-obs</td>\n",
       "      <td>high</td>\n",
       "      <td>8.656417</td>\n",
       "    </tr>\n",
       "    <tr>\n",
       "      <th>131</th>\n",
       "      <td>0.03</td>\n",
       "      <td>full-obs</td>\n",
       "      <td>high</td>\n",
       "      <td>6.721304</td>\n",
       "    </tr>\n",
       "    <tr>\n",
       "      <th>132</th>\n",
       "      <td>0.03</td>\n",
       "      <td>full-obs</td>\n",
       "      <td>high</td>\n",
       "      <td>8.267670</td>\n",
       "    </tr>\n",
       "    <tr>\n",
       "      <th>133</th>\n",
       "      <td>0.03</td>\n",
       "      <td>full-obs</td>\n",
       "      <td>high</td>\n",
       "      <td>6.982214</td>\n",
       "    </tr>\n",
       "    <tr>\n",
       "      <th>134</th>\n",
       "      <td>0.03</td>\n",
       "      <td>full-obs</td>\n",
       "      <td>high</td>\n",
       "      <td>7.273353</td>\n",
       "    </tr>\n",
       "    <tr>\n",
       "      <th>135</th>\n",
       "      <td>0.03</td>\n",
       "      <td>full-obs</td>\n",
       "      <td>high</td>\n",
       "      <td>6.028216</td>\n",
       "    </tr>\n",
       "    <tr>\n",
       "      <th>136</th>\n",
       "      <td>0.03</td>\n",
       "      <td>full-obs</td>\n",
       "      <td>high</td>\n",
       "      <td>8.296215</td>\n",
       "    </tr>\n",
       "    <tr>\n",
       "      <th>137</th>\n",
       "      <td>0.03</td>\n",
       "      <td>full-obs</td>\n",
       "      <td>high</td>\n",
       "      <td>6.714648</td>\n",
       "    </tr>\n",
       "    <tr>\n",
       "      <th>138</th>\n",
       "      <td>0.03</td>\n",
       "      <td>full-obs</td>\n",
       "      <td>high</td>\n",
       "      <td>8.454069</td>\n",
       "    </tr>\n",
       "    <tr>\n",
       "      <th>139</th>\n",
       "      <td>0.03</td>\n",
       "      <td>full-obs</td>\n",
       "      <td>high</td>\n",
       "      <td>8.374331</td>\n",
       "    </tr>\n",
       "    <tr>\n",
       "      <th>140</th>\n",
       "      <td>0.03</td>\n",
       "      <td>full-obs</td>\n",
       "      <td>high</td>\n",
       "      <td>5.941519</td>\n",
       "    </tr>\n",
       "    <tr>\n",
       "      <th>141</th>\n",
       "      <td>0.03</td>\n",
       "      <td>full-obs</td>\n",
       "      <td>high</td>\n",
       "      <td>6.981933</td>\n",
       "    </tr>\n",
       "    <tr>\n",
       "      <th>142</th>\n",
       "      <td>0.03</td>\n",
       "      <td>full-obs</td>\n",
       "      <td>high</td>\n",
       "      <td>5.786459</td>\n",
       "    </tr>\n",
       "    <tr>\n",
       "      <th>143</th>\n",
       "      <td>0.03</td>\n",
       "      <td>full-obs</td>\n",
       "      <td>high</td>\n",
       "      <td>5.674735</td>\n",
       "    </tr>\n",
       "    <tr>\n",
       "      <th>144</th>\n",
       "      <td>0.03</td>\n",
       "      <td>full-obs</td>\n",
       "      <td>high</td>\n",
       "      <td>5.284870</td>\n",
       "    </tr>\n",
       "    <tr>\n",
       "      <th>145</th>\n",
       "      <td>0.03</td>\n",
       "      <td>full-obs</td>\n",
       "      <td>high</td>\n",
       "      <td>7.699351</td>\n",
       "    </tr>\n",
       "    <tr>\n",
       "      <th>146</th>\n",
       "      <td>0.03</td>\n",
       "      <td>full-obs</td>\n",
       "      <td>high</td>\n",
       "      <td>5.983909</td>\n",
       "    </tr>\n",
       "    <tr>\n",
       "      <th>147</th>\n",
       "      <td>0.03</td>\n",
       "      <td>full-obs</td>\n",
       "      <td>high</td>\n",
       "      <td>6.230458</td>\n",
       "    </tr>\n",
       "    <tr>\n",
       "      <th>148</th>\n",
       "      <td>0.03</td>\n",
       "      <td>full-obs</td>\n",
       "      <td>high</td>\n",
       "      <td>5.704840</td>\n",
       "    </tr>\n",
       "    <tr>\n",
       "      <th>149</th>\n",
       "      <td>0.03</td>\n",
       "      <td>full-obs</td>\n",
       "      <td>high</td>\n",
       "      <td>6.867272</td>\n",
       "    </tr>\n",
       "    <tr>\n",
       "      <th>150</th>\n",
       "      <td>0.03</td>\n",
       "      <td>full-obs</td>\n",
       "      <td>high</td>\n",
       "      <td>5.644397</td>\n",
       "    </tr>\n",
       "    <tr>\n",
       "      <th>151</th>\n",
       "      <td>0.03</td>\n",
       "      <td>full-obs</td>\n",
       "      <td>high</td>\n",
       "      <td>5.764716</td>\n",
       "    </tr>\n",
       "    <tr>\n",
       "      <th>152</th>\n",
       "      <td>0.03</td>\n",
       "      <td>full-obs</td>\n",
       "      <td>high</td>\n",
       "      <td>7.221796</td>\n",
       "    </tr>\n",
       "    <tr>\n",
       "      <th>153</th>\n",
       "      <td>0.03</td>\n",
       "      <td>full-obs</td>\n",
       "      <td>high</td>\n",
       "      <td>7.637885</td>\n",
       "    </tr>\n",
       "    <tr>\n",
       "      <th>154</th>\n",
       "      <td>0.03</td>\n",
       "      <td>full-obs</td>\n",
       "      <td>high</td>\n",
       "      <td>6.319759</td>\n",
       "    </tr>\n",
       "    <tr>\n",
       "      <th>155</th>\n",
       "      <td>0.03</td>\n",
       "      <td>full-obs</td>\n",
       "      <td>high</td>\n",
       "      <td>6.118452</td>\n",
       "    </tr>\n",
       "    <tr>\n",
       "      <th>156</th>\n",
       "      <td>0.03</td>\n",
       "      <td>full-obs</td>\n",
       "      <td>high</td>\n",
       "      <td>6.568631</td>\n",
       "    </tr>\n",
       "    <tr>\n",
       "      <th>157</th>\n",
       "      <td>0.03</td>\n",
       "      <td>full-obs</td>\n",
       "      <td>high</td>\n",
       "      <td>5.098321</td>\n",
       "    </tr>\n",
       "    <tr>\n",
       "      <th>158</th>\n",
       "      <td>0.03</td>\n",
       "      <td>full-obs</td>\n",
       "      <td>high</td>\n",
       "      <td>6.482900</td>\n",
       "    </tr>\n",
       "    <tr>\n",
       "      <th>159</th>\n",
       "      <td>0.03</td>\n",
       "      <td>full-obs</td>\n",
       "      <td>high</td>\n",
       "      <td>5.627910</td>\n",
       "    </tr>\n",
       "  </tbody>\n",
       "</table>\n",
       "<p>160 rows × 4 columns</p>\n",
       "</div>"
      ],
      "text/plain": [
       "     cost    policy stakes       util\n",
       "0    0.03        bo   high   7.292699\n",
       "1    0.03        bo   high   7.912315\n",
       "2    0.03        bo   high   6.097723\n",
       "3    0.03        bo   high   7.375388\n",
       "4    0.03        bo   high   6.781878\n",
       "5    0.03        bo   high  11.511568\n",
       "6    0.03        bo   high   5.812373\n",
       "7    0.03        bo   high   6.716564\n",
       "8    0.03        bo   high   7.166972\n",
       "9    0.03        bo   high   6.875504\n",
       "10   0.03        bo   high   9.306018\n",
       "11   0.03        bo   high   7.377574\n",
       "12   0.03        bo   high   9.103146\n",
       "13   0.03        bo   high   7.682605\n",
       "14   0.03        bo   high   8.229530\n",
       "15   0.03        bo   high   6.471571\n",
       "16   0.03        bo   high   9.313060\n",
       "17   0.03        bo   high   7.376124\n",
       "18   0.03        bo   high   8.767359\n",
       "19   0.03        bo   high   9.074281\n",
       "20   0.03        bo   high   6.445210\n",
       "21   0.03        bo   high   6.432101\n",
       "22   0.03        bo   high   5.546911\n",
       "23   0.03        bo   high   5.237123\n",
       "24   0.03        bo   high   5.774450\n",
       "25   0.03        bo   high   6.985393\n",
       "26   0.03        bo   high   6.712010\n",
       "27   0.03        bo   high   7.280523\n",
       "28   0.03        bo   high   6.203285\n",
       "29   0.03        bo   high   6.615959\n",
       "..    ...       ...    ...        ...\n",
       "130  0.03  full-obs   high   8.656417\n",
       "131  0.03  full-obs   high   6.721304\n",
       "132  0.03  full-obs   high   8.267670\n",
       "133  0.03  full-obs   high   6.982214\n",
       "134  0.03  full-obs   high   7.273353\n",
       "135  0.03  full-obs   high   6.028216\n",
       "136  0.03  full-obs   high   8.296215\n",
       "137  0.03  full-obs   high   6.714648\n",
       "138  0.03  full-obs   high   8.454069\n",
       "139  0.03  full-obs   high   8.374331\n",
       "140  0.03  full-obs   high   5.941519\n",
       "141  0.03  full-obs   high   6.981933\n",
       "142  0.03  full-obs   high   5.786459\n",
       "143  0.03  full-obs   high   5.674735\n",
       "144  0.03  full-obs   high   5.284870\n",
       "145  0.03  full-obs   high   7.699351\n",
       "146  0.03  full-obs   high   5.983909\n",
       "147  0.03  full-obs   high   6.230458\n",
       "148  0.03  full-obs   high   5.704840\n",
       "149  0.03  full-obs   high   6.867272\n",
       "150  0.03  full-obs   high   5.644397\n",
       "151  0.03  full-obs   high   5.764716\n",
       "152  0.03  full-obs   high   7.221796\n",
       "153  0.03  full-obs   high   7.637885\n",
       "154  0.03  full-obs   high   6.319759\n",
       "155  0.03  full-obs   high   6.118452\n",
       "156  0.03  full-obs   high   6.568631\n",
       "157  0.03  full-obs   high   5.098321\n",
       "158  0.03  full-obs   high   6.482900\n",
       "159  0.03  full-obs   high   5.627910\n",
       "\n",
       "[160 rows x 4 columns]"
      ]
     },
     "execution_count": 38,
     "metadata": {},
     "output_type": "execute_result"
    }
   ],
   "source": [
    "df = pd.DataFrame(d_list)\n",
    "df"
   ]
  },
  {
   "cell_type": "code",
   "execution_count": 39,
   "metadata": {},
   "outputs": [
    {
     "data": {
      "text/plain": [
       "7.216439798503847"
      ]
     },
     "execution_count": 39,
     "metadata": {},
     "output_type": "execute_result"
    }
   ],
   "source": [
    "df[df['policy'] == 'metagreedy'].util.mean()"
   ]
  },
  {
   "cell_type": "code",
   "execution_count": 234,
   "metadata": {
    "collapsed": true
   },
   "outputs": [],
   "source": [
    "# df.to_hdf('high_stakes_3cents_results','results')"
   ]
  },
  {
   "cell_type": "code",
   "execution_count": 42,
   "metadata": {
    "collapsed": true
   },
   "outputs": [],
   "source": [
    "df2 = pd.read_hdf('data/high_stakes_3cents_results','results')"
   ]
  },
  {
   "cell_type": "code",
   "execution_count": 43,
   "metadata": {},
   "outputs": [
    {
     "data": {
      "text/plain": [
       "7.4295954581247585"
      ]
     },
     "execution_count": 43,
     "metadata": {},
     "output_type": "execute_result"
    }
   ],
   "source": [
    "df2[df2['policy']=='metagreedy'].util.mean()"
   ]
  },
  {
   "cell_type": "markdown",
   "metadata": {},
   "source": [
    "## High Stakes 0.5 cents"
   ]
  },
  {
   "cell_type": "code",
   "execution_count": 42,
   "metadata": {
    "collapsed": true
   },
   "outputs": [],
   "source": [
    "gambles = 7\n",
    "attributes = 4\n",
    "# reward = Normal(0,1)\n",
    "# max_obs=30\n",
    "high_stakes = Normal((9.99+0.01)/2, 0.3*(9.99-0.01))\n",
    "low_stakes = Normal((0.25+0.01)/2, 0.3*(0.25-0.01))\n",
    "reward = high_stakes\n",
    "cost=.005\n",
    "\n",
    "#set to 20 for sanity check\n",
    "n_train = 250\n",
    "n_test = 250\n",
    "\n",
    "train_envs_hd = [OldMouselabEnv(gambles, hd_dist(attributes), reward, cost) for _ in range(n_train)]\n",
    "train_envs_ld = [OldMouselabEnv(gambles, ld_dist(attributes), reward, cost) for _ in range(n_train)]\n",
    "train_envs = train_envs_hd+train_envs_ld \n",
    "\n",
    "test_envs_hd =  [OldMouselabEnv(gambles, hd_dist(attributes), reward, cost) for _ in range(n_train)]\n",
    "test_envs_ld = [OldMouselabEnv(gambles, ld_dist(attributes), reward, cost) for _ in range(n_train)]\n",
    "test_envs = test_envs_hd+test_envs_ld \n",
    "\n",
    "term_action = train_envs[0].term_action"
   ]
  },
  {
   "cell_type": "code",
   "execution_count": 54,
   "metadata": {},
   "outputs": [
    {
     "name": "stdout",
     "output_type": "stream",
     "text": [
      "[ 1.  1.  0.  0.  1.] -> 7.733 in 251 sec\n",
      "[ 18.192   0.331   0.337   0.332   1.   ] -> 7.684 in 235 sec\n",
      "[ 19.083   0.52    0.403   0.077   1.   ] -> 7.615 in 215 sec\n",
      "[ 8.907  0.27   0.459  0.271  1.   ] -> 7.745 in 254 sec\n",
      "[ 12.391   0.459   0.185   0.356   1.   ] -> 7.736 in 245 sec\n",
      "[ 11.679   0.486   0.071   0.442   1.   ] -> 7.73 in 256 sec\n",
      "[ 14.735   0.4     0.26    0.339   1.   ] -> 7.719 in 245 sec\n",
      "[ 21.898   0.31    0.286   0.404   1.   ] -> 7.691 in 237 sec\n",
      "[ 4.071  0.339  0.133  0.528  1.   ] -> 7.756 in 276 sec\n",
      "[ 7.28   0.222  0.532  0.246  1.   ] -> 7.741 in 255 sec\n",
      "[ 7.447  0.222  0.519  0.259  1.   ] -> 7.743 in 252 sec\n",
      "[ 1.     0.563  0.     0.437  1.   ] -> 7.761 in 295 sec\n",
      "[ 5.586  0.     0.     1.     1.   ] -> 7.687 in 402 sec\n",
      "[ 1.     0.333  0.333  0.333  1.   ] -> 7.756 in 287 sec\n",
      "[ 1.439  0.432  0.227  0.341  1.   ] -> 7.77 in 283 sec\n",
      "[ 1.     0.333  0.333  0.333  1.   ] -> 7.759 in 290 sec\n",
      "[ 30.    0.    0.5   0.5   1. ] -> 7.616 in 330 sec\n",
      "[ 1.  0.  1.  0.  1.] -> 7.721 in 363 sec\n",
      "[ 1.     0.229  0.385  0.385  1.   ] -> 7.763 in 293 sec\n",
      "[ 1.     0.239  0.336  0.426  1.   ] -> 7.756 in 295 sec\n",
      "BO: [ 1.439  0.432  0.227  0.341  1.   ] -> 7.77 in 5565 sec\n",
      "1:32:45.068438\n"
     ]
    }
   ],
   "source": [
    "a = datetime.datetime.now()\n",
    "# bop2 = bo_policy(train_envs, max_cost=max_obs, n_jobs=20, n_calls=20, x0=[1., 1., 0., 0.])\n",
    "bo_pol, result = bo_policy(train_envs, max_cost=30, n_jobs=50, n_calls=20, x0=[1., 1., 0., 0.],\n",
    "                           verbose=1, normalize_voi=True, return_result=True)\n",
    "t = datetime.datetime.now() - a\n",
    "print(t)"
   ]
  },
  {
   "cell_type": "code",
   "execution_count": 55,
   "metadata": {},
   "outputs": [
    {
     "data": {
      "text/plain": [
       "<matplotlib.axes._subplots.AxesSubplot at 0x2ab8199e0cf8>"
      ]
     },
     "execution_count": 55,
     "metadata": {},
     "output_type": "execute_result"
    },
    {
     "name": "stderr",
     "output_type": "stream",
     "text": [
      "/global/software/sl-7.x86_64/modules/langs/python/3.6/lib/python3.6/site-packages/matplotlib/font_manager.py:1297: UserWarning: findfont: Font family ['sans-serif'] not found. Falling back to DejaVu Sans\n",
      "  (prop.get_family(), self.defaultFamily[fontext]))\n"
     ]
    },
    {
     "data": {
      "image/png": "[encoded data removed]",
      "text/plain": [
       "<matplotlib.figure.Figure at 0x2ab819947978>"
      ]
     },
     "metadata": {},
     "output_type": "display_data"
    }
   ],
   "source": [
    "from skopt.plots import plot_convergence, plot_evaluations, plot_objective\n",
    "plot_convergence(result)"
   ]
  },
  {
   "cell_type": "code",
   "execution_count": 56,
   "metadata": {},
   "outputs": [
    {
     "data": {
      "text/plain": [
       "array([ 1.439,  0.432,  0.227,  0.341,  1.   ])"
      ]
     },
     "execution_count": 56,
     "metadata": {},
     "output_type": "execute_result"
    }
   ],
   "source": [
    "bo_pol.theta"
   ]
  },
  {
   "cell_type": "code",
   "execution_count": 57,
   "metadata": {
    "collapsed": true
   },
   "outputs": [],
   "source": [
    "np.save('high_stakes_0.5cents',bo_pol.theta)"
   ]
  },
  {
   "cell_type": "code",
   "execution_count": 58,
   "metadata": {
    "collapsed": true
   },
   "outputs": [],
   "source": [
    "a = datetime.datetime.now()\n",
    "bo_utils = get_util(bo_pol, test_envs, parallel=Parallel(n_jobs=20),return_mean=False)\n",
    "t = datetime.datetime.now() - a"
   ]
  },
  {
   "cell_type": "code",
   "execution_count": 59,
   "metadata": {
    "scrolled": true
   },
   "outputs": [
    {
     "data": {
      "text/plain": [
       "7.7433763740509374"
      ]
     },
     "execution_count": 59,
     "metadata": {},
     "output_type": "execute_result"
    }
   ],
   "source": [
    "np.mean(bo_utils)"
   ]
  },
  {
   "cell_type": "code",
   "execution_count": 60,
   "metadata": {
    "collapsed": true
   },
   "outputs": [],
   "source": [
    "mg_pol = LiederPolicy([1, 1, 0, 0, 1])\n",
    "a = datetime.datetime.now()\n",
    "mg_utils = get_util(mg_pol, test_envs, parallel=Parallel(n_jobs=20),return_mean=False)\n",
    "t = datetime.datetime.now() - a"
   ]
  },
  {
   "cell_type": "code",
   "execution_count": 61,
   "metadata": {},
   "outputs": [
    {
     "data": {
      "text/plain": [
       "7.725590252403717"
      ]
     },
     "execution_count": 61,
     "metadata": {},
     "output_type": "execute_result"
    }
   ],
   "source": [
    "np.mean(mg_utils)"
   ]
  },
  {
   "cell_type": "code",
   "execution_count": 62,
   "metadata": {},
   "outputs": [
    {
     "data": {
      "text/plain": [
       "Ttest_indResult(statistic=0.17214834270603308, pvalue=0.86335580959839286)"
      ]
     },
     "execution_count": 62,
     "metadata": {},
     "output_type": "execute_result"
    }
   ],
   "source": [
    "from scipy.stats import ttest_ind\n",
    "ttest_ind(bo_utils,mg_utils)"
   ]
  },
  {
   "cell_type": "code",
   "execution_count": 63,
   "metadata": {},
   "outputs": [
    {
     "data": {
      "text/plain": [
       "Ttest_relResult(statistic=1.1993257440687035, pvalue=0.23097048047022117)"
      ]
     },
     "execution_count": 63,
     "metadata": {},
     "output_type": "execute_result"
    }
   ],
   "source": [
    "from scipy.stats import ttest_rel\n",
    "ttest_rel(bo_utils,mg_utils)"
   ]
  },
  {
   "cell_type": "code",
   "execution_count": 64,
   "metadata": {
    "collapsed": true
   },
   "outputs": [],
   "source": [
    "no_pol = FixedPlanPolicy([term_action])\n",
    "a = datetime.datetime.now()\n",
    "no_utils = get_util(no_pol, test_envs, parallel=Parallel(n_jobs=20),return_mean=False)\n",
    "t = datetime.datetime.now() - a"
   ]
  },
  {
   "cell_type": "code",
   "execution_count": 65,
   "metadata": {
    "scrolled": true
   },
   "outputs": [
    {
     "data": {
      "text/plain": [
       "5.0"
      ]
     },
     "execution_count": 65,
     "metadata": {},
     "output_type": "execute_result"
    }
   ],
   "source": [
    "np.mean(no_utils)"
   ]
  },
  {
   "cell_type": "code",
   "execution_count": 66,
   "metadata": {
    "collapsed": true
   },
   "outputs": [],
   "source": [
    "fo_pol = FixedPlanPolicy(range(term_action+1))\n",
    "a = datetime.datetime.now()\n",
    "fo_utils = get_util(fo_pol, test_envs, parallel=Parallel(n_jobs=20),return_mean=False)\n",
    "t = datetime.datetime.now() - a"
   ]
  },
  {
   "cell_type": "code",
   "execution_count": 67,
   "metadata": {},
   "outputs": [
    {
     "data": {
      "text/plain": [
       "7.6749280800196669"
      ]
     },
     "execution_count": 67,
     "metadata": {},
     "output_type": "execute_result"
    }
   ],
   "source": [
    "np.mean(fo_utils)"
   ]
  },
  {
   "cell_type": "code",
   "execution_count": 73,
   "metadata": {
    "collapsed": true
   },
   "outputs": [],
   "source": [
    "utils = [bo_utils,mg_utils,no_utils,fo_utils]\n",
    "policies = ['bo','metagreedy','none','full-obs']\n",
    "d_list = []\n",
    "for u,p in zip(utils,policies):\n",
    "    for result in u:\n",
    "        d_list.append({'util':result,'stakes':'high','cost':cost,'policy':p})"
   ]
  },
  {
   "cell_type": "code",
   "execution_count": 74,
   "metadata": {},
   "outputs": [
    {
     "data": {
      "text/html": [
       "<div>\n",
       "<table border=\"1\" class=\"dataframe\">\n",
       "  <thead>\n",
       "    <tr style=\"text-align: right;\">\n",
       "      <th></th>\n",
       "      <th>cost</th>\n",
       "      <th>policy</th>\n",
       "      <th>stakes</th>\n",
       "      <th>util</th>\n",
       "    </tr>\n",
       "  </thead>\n",
       "  <tbody>\n",
       "    <tr>\n",
       "      <th>0</th>\n",
       "      <td>0.005</td>\n",
       "      <td>bo</td>\n",
       "      <td>high</td>\n",
       "      <td>6.852340</td>\n",
       "    </tr>\n",
       "    <tr>\n",
       "      <th>1</th>\n",
       "      <td>0.005</td>\n",
       "      <td>bo</td>\n",
       "      <td>high</td>\n",
       "      <td>5.454727</td>\n",
       "    </tr>\n",
       "    <tr>\n",
       "      <th>2</th>\n",
       "      <td>0.005</td>\n",
       "      <td>bo</td>\n",
       "      <td>high</td>\n",
       "      <td>10.352320</td>\n",
       "    </tr>\n",
       "    <tr>\n",
       "      <th>3</th>\n",
       "      <td>0.005</td>\n",
       "      <td>bo</td>\n",
       "      <td>high</td>\n",
       "      <td>7.261624</td>\n",
       "    </tr>\n",
       "    <tr>\n",
       "      <th>4</th>\n",
       "      <td>0.005</td>\n",
       "      <td>bo</td>\n",
       "      <td>high</td>\n",
       "      <td>13.252235</td>\n",
       "    </tr>\n",
       "    <tr>\n",
       "      <th>5</th>\n",
       "      <td>0.005</td>\n",
       "      <td>bo</td>\n",
       "      <td>high</td>\n",
       "      <td>8.644943</td>\n",
       "    </tr>\n",
       "    <tr>\n",
       "      <th>6</th>\n",
       "      <td>0.005</td>\n",
       "      <td>bo</td>\n",
       "      <td>high</td>\n",
       "      <td>10.433831</td>\n",
       "    </tr>\n",
       "    <tr>\n",
       "      <th>7</th>\n",
       "      <td>0.005</td>\n",
       "      <td>bo</td>\n",
       "      <td>high</td>\n",
       "      <td>6.377642</td>\n",
       "    </tr>\n",
       "    <tr>\n",
       "      <th>8</th>\n",
       "      <td>0.005</td>\n",
       "      <td>bo</td>\n",
       "      <td>high</td>\n",
       "      <td>9.270687</td>\n",
       "    </tr>\n",
       "    <tr>\n",
       "      <th>9</th>\n",
       "      <td>0.005</td>\n",
       "      <td>bo</td>\n",
       "      <td>high</td>\n",
       "      <td>7.817763</td>\n",
       "    </tr>\n",
       "    <tr>\n",
       "      <th>10</th>\n",
       "      <td>0.005</td>\n",
       "      <td>bo</td>\n",
       "      <td>high</td>\n",
       "      <td>7.827665</td>\n",
       "    </tr>\n",
       "    <tr>\n",
       "      <th>11</th>\n",
       "      <td>0.005</td>\n",
       "      <td>bo</td>\n",
       "      <td>high</td>\n",
       "      <td>7.273989</td>\n",
       "    </tr>\n",
       "    <tr>\n",
       "      <th>12</th>\n",
       "      <td>0.005</td>\n",
       "      <td>bo</td>\n",
       "      <td>high</td>\n",
       "      <td>10.782684</td>\n",
       "    </tr>\n",
       "    <tr>\n",
       "      <th>13</th>\n",
       "      <td>0.005</td>\n",
       "      <td>bo</td>\n",
       "      <td>high</td>\n",
       "      <td>7.356211</td>\n",
       "    </tr>\n",
       "    <tr>\n",
       "      <th>14</th>\n",
       "      <td>0.005</td>\n",
       "      <td>bo</td>\n",
       "      <td>high</td>\n",
       "      <td>9.210638</td>\n",
       "    </tr>\n",
       "    <tr>\n",
       "      <th>15</th>\n",
       "      <td>0.005</td>\n",
       "      <td>bo</td>\n",
       "      <td>high</td>\n",
       "      <td>9.499646</td>\n",
       "    </tr>\n",
       "    <tr>\n",
       "      <th>16</th>\n",
       "      <td>0.005</td>\n",
       "      <td>bo</td>\n",
       "      <td>high</td>\n",
       "      <td>8.268873</td>\n",
       "    </tr>\n",
       "    <tr>\n",
       "      <th>17</th>\n",
       "      <td>0.005</td>\n",
       "      <td>bo</td>\n",
       "      <td>high</td>\n",
       "      <td>8.487797</td>\n",
       "    </tr>\n",
       "    <tr>\n",
       "      <th>18</th>\n",
       "      <td>0.005</td>\n",
       "      <td>bo</td>\n",
       "      <td>high</td>\n",
       "      <td>7.099898</td>\n",
       "    </tr>\n",
       "    <tr>\n",
       "      <th>19</th>\n",
       "      <td>0.005</td>\n",
       "      <td>bo</td>\n",
       "      <td>high</td>\n",
       "      <td>8.428629</td>\n",
       "    </tr>\n",
       "    <tr>\n",
       "      <th>20</th>\n",
       "      <td>0.005</td>\n",
       "      <td>bo</td>\n",
       "      <td>high</td>\n",
       "      <td>8.861722</td>\n",
       "    </tr>\n",
       "    <tr>\n",
       "      <th>21</th>\n",
       "      <td>0.005</td>\n",
       "      <td>bo</td>\n",
       "      <td>high</td>\n",
       "      <td>7.282719</td>\n",
       "    </tr>\n",
       "    <tr>\n",
       "      <th>22</th>\n",
       "      <td>0.005</td>\n",
       "      <td>bo</td>\n",
       "      <td>high</td>\n",
       "      <td>8.617841</td>\n",
       "    </tr>\n",
       "    <tr>\n",
       "      <th>23</th>\n",
       "      <td>0.005</td>\n",
       "      <td>bo</td>\n",
       "      <td>high</td>\n",
       "      <td>13.906078</td>\n",
       "    </tr>\n",
       "    <tr>\n",
       "      <th>24</th>\n",
       "      <td>0.005</td>\n",
       "      <td>bo</td>\n",
       "      <td>high</td>\n",
       "      <td>6.311492</td>\n",
       "    </tr>\n",
       "    <tr>\n",
       "      <th>25</th>\n",
       "      <td>0.005</td>\n",
       "      <td>bo</td>\n",
       "      <td>high</td>\n",
       "      <td>7.492348</td>\n",
       "    </tr>\n",
       "    <tr>\n",
       "      <th>26</th>\n",
       "      <td>0.005</td>\n",
       "      <td>bo</td>\n",
       "      <td>high</td>\n",
       "      <td>7.694695</td>\n",
       "    </tr>\n",
       "    <tr>\n",
       "      <th>27</th>\n",
       "      <td>0.005</td>\n",
       "      <td>bo</td>\n",
       "      <td>high</td>\n",
       "      <td>7.960664</td>\n",
       "    </tr>\n",
       "    <tr>\n",
       "      <th>28</th>\n",
       "      <td>0.005</td>\n",
       "      <td>bo</td>\n",
       "      <td>high</td>\n",
       "      <td>7.520561</td>\n",
       "    </tr>\n",
       "    <tr>\n",
       "      <th>29</th>\n",
       "      <td>0.005</td>\n",
       "      <td>bo</td>\n",
       "      <td>high</td>\n",
       "      <td>9.961928</td>\n",
       "    </tr>\n",
       "    <tr>\n",
       "      <th>...</th>\n",
       "      <td>...</td>\n",
       "      <td>...</td>\n",
       "      <td>...</td>\n",
       "      <td>...</td>\n",
       "    </tr>\n",
       "    <tr>\n",
       "      <th>1970</th>\n",
       "      <td>0.005</td>\n",
       "      <td>full-obs</td>\n",
       "      <td>high</td>\n",
       "      <td>7.521788</td>\n",
       "    </tr>\n",
       "    <tr>\n",
       "      <th>1971</th>\n",
       "      <td>0.005</td>\n",
       "      <td>full-obs</td>\n",
       "      <td>high</td>\n",
       "      <td>6.827267</td>\n",
       "    </tr>\n",
       "    <tr>\n",
       "      <th>1972</th>\n",
       "      <td>0.005</td>\n",
       "      <td>full-obs</td>\n",
       "      <td>high</td>\n",
       "      <td>7.515630</td>\n",
       "    </tr>\n",
       "    <tr>\n",
       "      <th>1973</th>\n",
       "      <td>0.005</td>\n",
       "      <td>full-obs</td>\n",
       "      <td>high</td>\n",
       "      <td>7.379274</td>\n",
       "    </tr>\n",
       "    <tr>\n",
       "      <th>1974</th>\n",
       "      <td>0.005</td>\n",
       "      <td>full-obs</td>\n",
       "      <td>high</td>\n",
       "      <td>7.856091</td>\n",
       "    </tr>\n",
       "    <tr>\n",
       "      <th>1975</th>\n",
       "      <td>0.005</td>\n",
       "      <td>full-obs</td>\n",
       "      <td>high</td>\n",
       "      <td>6.449988</td>\n",
       "    </tr>\n",
       "    <tr>\n",
       "      <th>1976</th>\n",
       "      <td>0.005</td>\n",
       "      <td>full-obs</td>\n",
       "      <td>high</td>\n",
       "      <td>7.160461</td>\n",
       "    </tr>\n",
       "    <tr>\n",
       "      <th>1977</th>\n",
       "      <td>0.005</td>\n",
       "      <td>full-obs</td>\n",
       "      <td>high</td>\n",
       "      <td>7.013671</td>\n",
       "    </tr>\n",
       "    <tr>\n",
       "      <th>1978</th>\n",
       "      <td>0.005</td>\n",
       "      <td>full-obs</td>\n",
       "      <td>high</td>\n",
       "      <td>5.539986</td>\n",
       "    </tr>\n",
       "    <tr>\n",
       "      <th>1979</th>\n",
       "      <td>0.005</td>\n",
       "      <td>full-obs</td>\n",
       "      <td>high</td>\n",
       "      <td>5.702966</td>\n",
       "    </tr>\n",
       "    <tr>\n",
       "      <th>1980</th>\n",
       "      <td>0.005</td>\n",
       "      <td>full-obs</td>\n",
       "      <td>high</td>\n",
       "      <td>6.732665</td>\n",
       "    </tr>\n",
       "    <tr>\n",
       "      <th>1981</th>\n",
       "      <td>0.005</td>\n",
       "      <td>full-obs</td>\n",
       "      <td>high</td>\n",
       "      <td>6.341944</td>\n",
       "    </tr>\n",
       "    <tr>\n",
       "      <th>1982</th>\n",
       "      <td>0.005</td>\n",
       "      <td>full-obs</td>\n",
       "      <td>high</td>\n",
       "      <td>6.939553</td>\n",
       "    </tr>\n",
       "    <tr>\n",
       "      <th>1983</th>\n",
       "      <td>0.005</td>\n",
       "      <td>full-obs</td>\n",
       "      <td>high</td>\n",
       "      <td>5.747501</td>\n",
       "    </tr>\n",
       "    <tr>\n",
       "      <th>1984</th>\n",
       "      <td>0.005</td>\n",
       "      <td>full-obs</td>\n",
       "      <td>high</td>\n",
       "      <td>5.315888</td>\n",
       "    </tr>\n",
       "    <tr>\n",
       "      <th>1985</th>\n",
       "      <td>0.005</td>\n",
       "      <td>full-obs</td>\n",
       "      <td>high</td>\n",
       "      <td>6.729477</td>\n",
       "    </tr>\n",
       "    <tr>\n",
       "      <th>1986</th>\n",
       "      <td>0.005</td>\n",
       "      <td>full-obs</td>\n",
       "      <td>high</td>\n",
       "      <td>5.208721</td>\n",
       "    </tr>\n",
       "    <tr>\n",
       "      <th>1987</th>\n",
       "      <td>0.005</td>\n",
       "      <td>full-obs</td>\n",
       "      <td>high</td>\n",
       "      <td>4.301577</td>\n",
       "    </tr>\n",
       "    <tr>\n",
       "      <th>1988</th>\n",
       "      <td>0.005</td>\n",
       "      <td>full-obs</td>\n",
       "      <td>high</td>\n",
       "      <td>6.048883</td>\n",
       "    </tr>\n",
       "    <tr>\n",
       "      <th>1989</th>\n",
       "      <td>0.005</td>\n",
       "      <td>full-obs</td>\n",
       "      <td>high</td>\n",
       "      <td>6.333939</td>\n",
       "    </tr>\n",
       "    <tr>\n",
       "      <th>1990</th>\n",
       "      <td>0.005</td>\n",
       "      <td>full-obs</td>\n",
       "      <td>high</td>\n",
       "      <td>6.239966</td>\n",
       "    </tr>\n",
       "    <tr>\n",
       "      <th>1991</th>\n",
       "      <td>0.005</td>\n",
       "      <td>full-obs</td>\n",
       "      <td>high</td>\n",
       "      <td>7.661231</td>\n",
       "    </tr>\n",
       "    <tr>\n",
       "      <th>1992</th>\n",
       "      <td>0.005</td>\n",
       "      <td>full-obs</td>\n",
       "      <td>high</td>\n",
       "      <td>6.733114</td>\n",
       "    </tr>\n",
       "    <tr>\n",
       "      <th>1993</th>\n",
       "      <td>0.005</td>\n",
       "      <td>full-obs</td>\n",
       "      <td>high</td>\n",
       "      <td>9.995439</td>\n",
       "    </tr>\n",
       "    <tr>\n",
       "      <th>1994</th>\n",
       "      <td>0.005</td>\n",
       "      <td>full-obs</td>\n",
       "      <td>high</td>\n",
       "      <td>6.615530</td>\n",
       "    </tr>\n",
       "    <tr>\n",
       "      <th>1995</th>\n",
       "      <td>0.005</td>\n",
       "      <td>full-obs</td>\n",
       "      <td>high</td>\n",
       "      <td>6.612682</td>\n",
       "    </tr>\n",
       "    <tr>\n",
       "      <th>1996</th>\n",
       "      <td>0.005</td>\n",
       "      <td>full-obs</td>\n",
       "      <td>high</td>\n",
       "      <td>5.568279</td>\n",
       "    </tr>\n",
       "    <tr>\n",
       "      <th>1997</th>\n",
       "      <td>0.005</td>\n",
       "      <td>full-obs</td>\n",
       "      <td>high</td>\n",
       "      <td>5.777729</td>\n",
       "    </tr>\n",
       "    <tr>\n",
       "      <th>1998</th>\n",
       "      <td>0.005</td>\n",
       "      <td>full-obs</td>\n",
       "      <td>high</td>\n",
       "      <td>6.602960</td>\n",
       "    </tr>\n",
       "    <tr>\n",
       "      <th>1999</th>\n",
       "      <td>0.005</td>\n",
       "      <td>full-obs</td>\n",
       "      <td>high</td>\n",
       "      <td>5.779849</td>\n",
       "    </tr>\n",
       "  </tbody>\n",
       "</table>\n",
       "<p>2000 rows × 4 columns</p>\n",
       "</div>"
      ],
      "text/plain": [
       "       cost    policy stakes       util\n",
       "0     0.005        bo   high   6.852340\n",
       "1     0.005        bo   high   5.454727\n",
       "2     0.005        bo   high  10.352320\n",
       "3     0.005        bo   high   7.261624\n",
       "4     0.005        bo   high  13.252235\n",
       "5     0.005        bo   high   8.644943\n",
       "6     0.005        bo   high  10.433831\n",
       "7     0.005        bo   high   6.377642\n",
       "8     0.005        bo   high   9.270687\n",
       "9     0.005        bo   high   7.817763\n",
       "10    0.005        bo   high   7.827665\n",
       "11    0.005        bo   high   7.273989\n",
       "12    0.005        bo   high  10.782684\n",
       "13    0.005        bo   high   7.356211\n",
       "14    0.005        bo   high   9.210638\n",
       "15    0.005        bo   high   9.499646\n",
       "16    0.005        bo   high   8.268873\n",
       "17    0.005        bo   high   8.487797\n",
       "18    0.005        bo   high   7.099898\n",
       "19    0.005        bo   high   8.428629\n",
       "20    0.005        bo   high   8.861722\n",
       "21    0.005        bo   high   7.282719\n",
       "22    0.005        bo   high   8.617841\n",
       "23    0.005        bo   high  13.906078\n",
       "24    0.005        bo   high   6.311492\n",
       "25    0.005        bo   high   7.492348\n",
       "26    0.005        bo   high   7.694695\n",
       "27    0.005        bo   high   7.960664\n",
       "28    0.005        bo   high   7.520561\n",
       "29    0.005        bo   high   9.961928\n",
       "...     ...       ...    ...        ...\n",
       "1970  0.005  full-obs   high   7.521788\n",
       "1971  0.005  full-obs   high   6.827267\n",
       "1972  0.005  full-obs   high   7.515630\n",
       "1973  0.005  full-obs   high   7.379274\n",
       "1974  0.005  full-obs   high   7.856091\n",
       "1975  0.005  full-obs   high   6.449988\n",
       "1976  0.005  full-obs   high   7.160461\n",
       "1977  0.005  full-obs   high   7.013671\n",
       "1978  0.005  full-obs   high   5.539986\n",
       "1979  0.005  full-obs   high   5.702966\n",
       "1980  0.005  full-obs   high   6.732665\n",
       "1981  0.005  full-obs   high   6.341944\n",
       "1982  0.005  full-obs   high   6.939553\n",
       "1983  0.005  full-obs   high   5.747501\n",
       "1984  0.005  full-obs   high   5.315888\n",
       "1985  0.005  full-obs   high   6.729477\n",
       "1986  0.005  full-obs   high   5.208721\n",
       "1987  0.005  full-obs   high   4.301577\n",
       "1988  0.005  full-obs   high   6.048883\n",
       "1989  0.005  full-obs   high   6.333939\n",
       "1990  0.005  full-obs   high   6.239966\n",
       "1991  0.005  full-obs   high   7.661231\n",
       "1992  0.005  full-obs   high   6.733114\n",
       "1993  0.005  full-obs   high   9.995439\n",
       "1994  0.005  full-obs   high   6.615530\n",
       "1995  0.005  full-obs   high   6.612682\n",
       "1996  0.005  full-obs   high   5.568279\n",
       "1997  0.005  full-obs   high   5.777729\n",
       "1998  0.005  full-obs   high   6.602960\n",
       "1999  0.005  full-obs   high   5.779849\n",
       "\n",
       "[2000 rows x 4 columns]"
      ]
     },
     "execution_count": 74,
     "metadata": {},
     "output_type": "execute_result"
    }
   ],
   "source": [
    "df = pd.DataFrame(d_list)\n",
    "df"
   ]
  },
  {
   "cell_type": "code",
   "execution_count": 75,
   "metadata": {},
   "outputs": [
    {
     "data": {
      "text/plain": [
       "7.72559025240373"
      ]
     },
     "execution_count": 75,
     "metadata": {},
     "output_type": "execute_result"
    }
   ],
   "source": [
    "df[df['policy'] == 'metagreedy'].util.mean()"
   ]
  },
  {
   "cell_type": "code",
   "execution_count": 76,
   "metadata": {
    "collapsed": true
   },
   "outputs": [],
   "source": [
    "df.to_hdf('high_stakes_0.5cents_results','results')"
   ]
  },
  {
   "cell_type": "code",
   "execution_count": 79,
   "metadata": {
    "collapsed": true
   },
   "outputs": [],
   "source": [
    "df2 = pd.read_hdf('data/high_stakes_3cents_results','results')"
   ]
  },
  {
   "cell_type": "code",
   "execution_count": 80,
   "metadata": {},
   "outputs": [
    {
     "data": {
      "text/plain": [
       "7.4295954581247585"
      ]
     },
     "execution_count": 80,
     "metadata": {},
     "output_type": "execute_result"
    }
   ],
   "source": [
    "df2[df2['policy']=='metagreedy'].util.mean()"
   ]
  },
  {
   "cell_type": "markdown",
   "metadata": {},
   "source": [
    "## Low Stakes 3 cents"
   ]
  },
  {
   "cell_type": "code",
   "execution_count": 83,
   "metadata": {
    "collapsed": true
   },
   "outputs": [],
   "source": [
    "gambles = 7\n",
    "attributes = 4\n",
    "# reward = Normal(0,1)\n",
    "# max_obs=30\n",
    "high_stakes = Normal((9.99+0.01)/2, 0.3*(9.99-0.01))\n",
    "low_stakes = Normal((0.25+0.01)/2, 0.3*(0.25-0.01))\n",
    "reward = low_stakes\n",
    "cost=.03\n",
    "\n",
    "#set to 20 for sanity check\n",
    "n_train = 250\n",
    "n_test = 250\n",
    "\n",
    "train_envs_hd = [OldMouselabEnv(gambles, hd_dist(attributes), reward, cost) for _ in range(n_train)]\n",
    "train_envs_ld = [OldMouselabEnv(gambles, ld_dist(attributes), reward, cost) for _ in range(n_train)]\n",
    "train_envs = train_envs_hd+train_envs_ld \n",
    "\n",
    "test_envs_hd =  [OldMouselabEnv(gambles, hd_dist(attributes), reward, cost) for _ in range(n_train)]\n",
    "test_envs_ld = [OldMouselabEnv(gambles, ld_dist(attributes), reward, cost) for _ in range(n_train)]\n",
    "test_envs = test_envs_hd+test_envs_ld \n",
    "\n",
    "term_action = train_envs[0].term_action"
   ]
  },
  {
   "cell_type": "code",
   "execution_count": 84,
   "metadata": {},
   "outputs": [
    {
     "name": "stdout",
     "output_type": "stream",
     "text": [
      "[ 1.  1.  0.  0.  1.] -> 0.13 in 36 sec\n",
      "[ 18.192   0.331   0.337   0.332   1.   ] -> 0.13 in 37 sec\n",
      "[ 19.083   0.52    0.403   0.077   1.   ] -> 0.13 in 36 sec\n",
      "[ 8.907  0.27   0.459  0.271  1.   ] -> 0.13 in 37 sec\n",
      "[ 12.391   0.459   0.185   0.356   1.   ] -> 0.13 in 37 sec\n",
      "[ 11.679   0.486   0.071   0.442   1.   ] -> 0.13 in 36 sec\n",
      "[ 14.735   0.4     0.26    0.339   1.   ] -> 0.13 in 37 sec\n",
      "[ 21.898   0.31    0.286   0.404   1.   ] -> 0.13 in 37 sec\n",
      "[ 4.071  0.339  0.133  0.528  1.   ] -> 0.13 in 36 sec\n",
      "[ 7.28   0.222  0.532  0.246  1.   ] -> 0.13 in 36 sec\n",
      "[ 7.447  0.222  0.519  0.259  1.   ] -> 0.13 in 37 sec\n",
      "[ 30.   0.   1.   0.   1.] -> 0.13 in 36 sec\n",
      "[ 29.467   0.047   0.038   0.915   1.   ] -> 0.13 in 35 sec\n",
      "[ 29.308   0.926   0.044   0.03    1.   ] -> 0.13 in 36 sec\n",
      "[ 1.   0.   0.5  0.5  1. ] -> 0.004 in 216 sec\n",
      "[ 30.    0.5   0.5   0.    1. ] -> 0.13 in 36 sec\n",
      "[ 1.  1.  0.  0.  1.] -> 0.13 in 36 sec\n",
      "[ 30.      0.325   0.675   0.      1.   ] -> 0.13 in 36 sec\n",
      "[ 16.584   0.551   0.      0.449   1.   ] -> 0.13 in 36 sec\n",
      "[ 30.      0.      0.693   0.307   1.   ] -> 0.13 in 36 sec\n",
      "BO: [ 1.  1.  0.  0.  1.] -> 0.13 in 907 sec\n",
      "0:15:06.807989\n"
     ]
    }
   ],
   "source": [
    "a = datetime.datetime.now()\n",
    "# bop2 = bo_policy(train_envs, max_cost=max_obs, n_jobs=20, n_calls=20, x0=[1., 1., 0., 0.])\n",
    "bo_pol, result = bo_policy(train_envs, max_cost=30, n_jobs=50, n_calls=20, x0=[1., 1., 0., 0.],\n",
    "                           verbose=1, normalize_voi=True, return_result=True)\n",
    "t = datetime.datetime.now() - a\n",
    "print(t)"
   ]
  },
  {
   "cell_type": "code",
   "execution_count": 85,
   "metadata": {},
   "outputs": [
    {
     "data": {
      "text/plain": [
       "<matplotlib.axes._subplots.AxesSubplot at 0x2ab819d56080>"
      ]
     },
     "execution_count": 85,
     "metadata": {},
     "output_type": "execute_result"
    },
    {
     "name": "stderr",
     "output_type": "stream",
     "text": [
      "/global/software/sl-7.x86_64/modules/langs/python/3.6/lib/python3.6/site-packages/matplotlib/font_manager.py:1297: UserWarning: findfont: Font family ['sans-serif'] not found. Falling back to DejaVu Sans\n",
      "  (prop.get_family(), self.defaultFamily[fontext]))\n"
     ]
    },
    {
     "data": {
      "image/png": "[encoded data removed]",
      "text/plain": [
       "<matplotlib.figure.Figure at 0x2ab8199e7da0>"
      ]
     },
     "metadata": {},
     "output_type": "display_data"
    }
   ],
   "source": [
    "from skopt.plots import plot_convergence, plot_evaluations, plot_objective\n",
    "plot_convergence(result)"
   ]
  },
  {
   "cell_type": "code",
   "execution_count": 86,
   "metadata": {},
   "outputs": [
    {
     "data": {
      "text/plain": [
       "array([ 1.,  1.,  0.,  0.,  1.])"
      ]
     },
     "execution_count": 86,
     "metadata": {},
     "output_type": "execute_result"
    }
   ],
   "source": [
    "bo_pol.theta"
   ]
  },
  {
   "cell_type": "code",
   "execution_count": 87,
   "metadata": {
    "collapsed": true
   },
   "outputs": [],
   "source": [
    "np.save('data/low_stakes_3cents',bo_pol.theta)"
   ]
  },
  {
   "cell_type": "code",
   "execution_count": 88,
   "metadata": {
    "collapsed": true
   },
   "outputs": [],
   "source": [
    "a = datetime.datetime.now()\n",
    "bo_utils = get_util(bo_pol, test_envs, parallel=Parallel(n_jobs=20),return_mean=False)\n",
    "t = datetime.datetime.now() - a"
   ]
  },
  {
   "cell_type": "code",
   "execution_count": 89,
   "metadata": {
    "scrolled": true
   },
   "outputs": [
    {
     "data": {
      "text/plain": [
       "0.12999999999999998"
      ]
     },
     "execution_count": 89,
     "metadata": {},
     "output_type": "execute_result"
    }
   ],
   "source": [
    "np.mean(bo_utils)"
   ]
  },
  {
   "cell_type": "code",
   "execution_count": 90,
   "metadata": {
    "collapsed": true
   },
   "outputs": [],
   "source": [
    "mg_pol = LiederPolicy([1, 1, 0, 0, 1])\n",
    "a = datetime.datetime.now()\n",
    "mg_utils = get_util(mg_pol, test_envs, parallel=Parallel(n_jobs=20),return_mean=False)\n",
    "t = datetime.datetime.now() - a"
   ]
  },
  {
   "cell_type": "code",
   "execution_count": 91,
   "metadata": {},
   "outputs": [
    {
     "data": {
      "text/plain": [
       "0.12999999999999998"
      ]
     },
     "execution_count": 91,
     "metadata": {},
     "output_type": "execute_result"
    }
   ],
   "source": [
    "np.mean(mg_utils)"
   ]
  },
  {
   "cell_type": "code",
   "execution_count": 92,
   "metadata": {},
   "outputs": [
    {
     "data": {
      "text/plain": [
       "Ttest_indResult(statistic=0.0, pvalue=1.0)"
      ]
     },
     "execution_count": 92,
     "metadata": {},
     "output_type": "execute_result"
    }
   ],
   "source": [
    "from scipy.stats import ttest_ind\n",
    "ttest_ind(bo_utils,mg_utils)"
   ]
  },
  {
   "cell_type": "code",
   "execution_count": 93,
   "metadata": {},
   "outputs": [
    {
     "data": {
      "text/plain": [
       "Ttest_relResult(statistic=nan, pvalue=nan)"
      ]
     },
     "execution_count": 93,
     "metadata": {},
     "output_type": "execute_result"
    }
   ],
   "source": [
    "from scipy.stats import ttest_rel\n",
    "ttest_rel(bo_utils,mg_utils)"
   ]
  },
  {
   "cell_type": "code",
   "execution_count": 94,
   "metadata": {
    "collapsed": true
   },
   "outputs": [],
   "source": [
    "no_pol = FixedPlanPolicy([term_action])\n",
    "a = datetime.datetime.now()\n",
    "no_utils = get_util(no_pol, test_envs, parallel=Parallel(n_jobs=20),return_mean=False)\n",
    "t = datetime.datetime.now() - a"
   ]
  },
  {
   "cell_type": "code",
   "execution_count": 95,
   "metadata": {
    "scrolled": true
   },
   "outputs": [
    {
     "data": {
      "text/plain": [
       "0.12999999999999998"
      ]
     },
     "execution_count": 95,
     "metadata": {},
     "output_type": "execute_result"
    }
   ],
   "source": [
    "np.mean(no_utils)"
   ]
  },
  {
   "cell_type": "code",
   "execution_count": 96,
   "metadata": {
    "collapsed": true
   },
   "outputs": [],
   "source": [
    "fo_pol = FixedPlanPolicy(range(term_action+1))\n",
    "a = datetime.datetime.now()\n",
    "fo_utils = get_util(fo_pol, test_envs, parallel=Parallel(n_jobs=20),return_mean=False)\n",
    "t = datetime.datetime.now() - a"
   ]
  },
  {
   "cell_type": "code",
   "execution_count": 97,
   "metadata": {},
   "outputs": [
    {
     "data": {
      "text/plain": [
       "-0.63830073141754684"
      ]
     },
     "execution_count": 97,
     "metadata": {},
     "output_type": "execute_result"
    }
   ],
   "source": [
    "np.mean(fo_utils)"
   ]
  },
  {
   "cell_type": "code",
   "execution_count": 98,
   "metadata": {
    "collapsed": true
   },
   "outputs": [],
   "source": [
    "utils = [bo_utils,mg_utils,no_utils,fo_utils]\n",
    "policies = ['bo','metagreedy','none','full-obs']\n",
    "d_list = []\n",
    "for u,p in zip(utils,policies):\n",
    "    for result in u:\n",
    "        d_list.append({'util':result,'stakes':'high','cost':cost,'policy':p})"
   ]
  },
  {
   "cell_type": "code",
   "execution_count": 99,
   "metadata": {},
   "outputs": [
    {
     "data": {
      "text/html": [
       "<div>\n",
       "<table border=\"1\" class=\"dataframe\">\n",
       "  <thead>\n",
       "    <tr style=\"text-align: right;\">\n",
       "      <th></th>\n",
       "      <th>cost</th>\n",
       "      <th>policy</th>\n",
       "      <th>stakes</th>\n",
       "      <th>util</th>\n",
       "    </tr>\n",
       "  </thead>\n",
       "  <tbody>\n",
       "    <tr>\n",
       "      <th>0</th>\n",
       "      <td>0.03</td>\n",
       "      <td>bo</td>\n",
       "      <td>high</td>\n",
       "      <td>0.130000</td>\n",
       "    </tr>\n",
       "    <tr>\n",
       "      <th>1</th>\n",
       "      <td>0.03</td>\n",
       "      <td>bo</td>\n",
       "      <td>high</td>\n",
       "      <td>0.130000</td>\n",
       "    </tr>\n",
       "    <tr>\n",
       "      <th>2</th>\n",
       "      <td>0.03</td>\n",
       "      <td>bo</td>\n",
       "      <td>high</td>\n",
       "      <td>0.130000</td>\n",
       "    </tr>\n",
       "    <tr>\n",
       "      <th>3</th>\n",
       "      <td>0.03</td>\n",
       "      <td>bo</td>\n",
       "      <td>high</td>\n",
       "      <td>0.130000</td>\n",
       "    </tr>\n",
       "    <tr>\n",
       "      <th>4</th>\n",
       "      <td>0.03</td>\n",
       "      <td>bo</td>\n",
       "      <td>high</td>\n",
       "      <td>0.130000</td>\n",
       "    </tr>\n",
       "    <tr>\n",
       "      <th>5</th>\n",
       "      <td>0.03</td>\n",
       "      <td>bo</td>\n",
       "      <td>high</td>\n",
       "      <td>0.130000</td>\n",
       "    </tr>\n",
       "    <tr>\n",
       "      <th>6</th>\n",
       "      <td>0.03</td>\n",
       "      <td>bo</td>\n",
       "      <td>high</td>\n",
       "      <td>0.130000</td>\n",
       "    </tr>\n",
       "    <tr>\n",
       "      <th>7</th>\n",
       "      <td>0.03</td>\n",
       "      <td>bo</td>\n",
       "      <td>high</td>\n",
       "      <td>0.130000</td>\n",
       "    </tr>\n",
       "    <tr>\n",
       "      <th>8</th>\n",
       "      <td>0.03</td>\n",
       "      <td>bo</td>\n",
       "      <td>high</td>\n",
       "      <td>0.130000</td>\n",
       "    </tr>\n",
       "    <tr>\n",
       "      <th>9</th>\n",
       "      <td>0.03</td>\n",
       "      <td>bo</td>\n",
       "      <td>high</td>\n",
       "      <td>0.130000</td>\n",
       "    </tr>\n",
       "    <tr>\n",
       "      <th>10</th>\n",
       "      <td>0.03</td>\n",
       "      <td>bo</td>\n",
       "      <td>high</td>\n",
       "      <td>0.130000</td>\n",
       "    </tr>\n",
       "    <tr>\n",
       "      <th>11</th>\n",
       "      <td>0.03</td>\n",
       "      <td>bo</td>\n",
       "      <td>high</td>\n",
       "      <td>0.130000</td>\n",
       "    </tr>\n",
       "    <tr>\n",
       "      <th>12</th>\n",
       "      <td>0.03</td>\n",
       "      <td>bo</td>\n",
       "      <td>high</td>\n",
       "      <td>0.130000</td>\n",
       "    </tr>\n",
       "    <tr>\n",
       "      <th>13</th>\n",
       "      <td>0.03</td>\n",
       "      <td>bo</td>\n",
       "      <td>high</td>\n",
       "      <td>0.130000</td>\n",
       "    </tr>\n",
       "    <tr>\n",
       "      <th>14</th>\n",
       "      <td>0.03</td>\n",
       "      <td>bo</td>\n",
       "      <td>high</td>\n",
       "      <td>0.130000</td>\n",
       "    </tr>\n",
       "    <tr>\n",
       "      <th>15</th>\n",
       "      <td>0.03</td>\n",
       "      <td>bo</td>\n",
       "      <td>high</td>\n",
       "      <td>0.130000</td>\n",
       "    </tr>\n",
       "    <tr>\n",
       "      <th>16</th>\n",
       "      <td>0.03</td>\n",
       "      <td>bo</td>\n",
       "      <td>high</td>\n",
       "      <td>0.130000</td>\n",
       "    </tr>\n",
       "    <tr>\n",
       "      <th>17</th>\n",
       "      <td>0.03</td>\n",
       "      <td>bo</td>\n",
       "      <td>high</td>\n",
       "      <td>0.130000</td>\n",
       "    </tr>\n",
       "    <tr>\n",
       "      <th>18</th>\n",
       "      <td>0.03</td>\n",
       "      <td>bo</td>\n",
       "      <td>high</td>\n",
       "      <td>0.130000</td>\n",
       "    </tr>\n",
       "    <tr>\n",
       "      <th>19</th>\n",
       "      <td>0.03</td>\n",
       "      <td>bo</td>\n",
       "      <td>high</td>\n",
       "      <td>0.130000</td>\n",
       "    </tr>\n",
       "    <tr>\n",
       "      <th>20</th>\n",
       "      <td>0.03</td>\n",
       "      <td>bo</td>\n",
       "      <td>high</td>\n",
       "      <td>0.130000</td>\n",
       "    </tr>\n",
       "    <tr>\n",
       "      <th>21</th>\n",
       "      <td>0.03</td>\n",
       "      <td>bo</td>\n",
       "      <td>high</td>\n",
       "      <td>0.130000</td>\n",
       "    </tr>\n",
       "    <tr>\n",
       "      <th>22</th>\n",
       "      <td>0.03</td>\n",
       "      <td>bo</td>\n",
       "      <td>high</td>\n",
       "      <td>0.130000</td>\n",
       "    </tr>\n",
       "    <tr>\n",
       "      <th>23</th>\n",
       "      <td>0.03</td>\n",
       "      <td>bo</td>\n",
       "      <td>high</td>\n",
       "      <td>0.130000</td>\n",
       "    </tr>\n",
       "    <tr>\n",
       "      <th>24</th>\n",
       "      <td>0.03</td>\n",
       "      <td>bo</td>\n",
       "      <td>high</td>\n",
       "      <td>0.130000</td>\n",
       "    </tr>\n",
       "    <tr>\n",
       "      <th>25</th>\n",
       "      <td>0.03</td>\n",
       "      <td>bo</td>\n",
       "      <td>high</td>\n",
       "      <td>0.130000</td>\n",
       "    </tr>\n",
       "    <tr>\n",
       "      <th>26</th>\n",
       "      <td>0.03</td>\n",
       "      <td>bo</td>\n",
       "      <td>high</td>\n",
       "      <td>0.130000</td>\n",
       "    </tr>\n",
       "    <tr>\n",
       "      <th>27</th>\n",
       "      <td>0.03</td>\n",
       "      <td>bo</td>\n",
       "      <td>high</td>\n",
       "      <td>0.130000</td>\n",
       "    </tr>\n",
       "    <tr>\n",
       "      <th>28</th>\n",
       "      <td>0.03</td>\n",
       "      <td>bo</td>\n",
       "      <td>high</td>\n",
       "      <td>0.130000</td>\n",
       "    </tr>\n",
       "    <tr>\n",
       "      <th>29</th>\n",
       "      <td>0.03</td>\n",
       "      <td>bo</td>\n",
       "      <td>high</td>\n",
       "      <td>0.130000</td>\n",
       "    </tr>\n",
       "    <tr>\n",
       "      <th>...</th>\n",
       "      <td>...</td>\n",
       "      <td>...</td>\n",
       "      <td>...</td>\n",
       "      <td>...</td>\n",
       "    </tr>\n",
       "    <tr>\n",
       "      <th>1970</th>\n",
       "      <td>0.03</td>\n",
       "      <td>full-obs</td>\n",
       "      <td>high</td>\n",
       "      <td>-0.649557</td>\n",
       "    </tr>\n",
       "    <tr>\n",
       "      <th>1971</th>\n",
       "      <td>0.03</td>\n",
       "      <td>full-obs</td>\n",
       "      <td>high</td>\n",
       "      <td>-0.622410</td>\n",
       "    </tr>\n",
       "    <tr>\n",
       "      <th>1972</th>\n",
       "      <td>0.03</td>\n",
       "      <td>full-obs</td>\n",
       "      <td>high</td>\n",
       "      <td>-0.664590</td>\n",
       "    </tr>\n",
       "    <tr>\n",
       "      <th>1973</th>\n",
       "      <td>0.03</td>\n",
       "      <td>full-obs</td>\n",
       "      <td>high</td>\n",
       "      <td>-0.654664</td>\n",
       "    </tr>\n",
       "    <tr>\n",
       "      <th>1974</th>\n",
       "      <td>0.03</td>\n",
       "      <td>full-obs</td>\n",
       "      <td>high</td>\n",
       "      <td>-0.654038</td>\n",
       "    </tr>\n",
       "    <tr>\n",
       "      <th>1975</th>\n",
       "      <td>0.03</td>\n",
       "      <td>full-obs</td>\n",
       "      <td>high</td>\n",
       "      <td>-0.692658</td>\n",
       "    </tr>\n",
       "    <tr>\n",
       "      <th>1976</th>\n",
       "      <td>0.03</td>\n",
       "      <td>full-obs</td>\n",
       "      <td>high</td>\n",
       "      <td>-0.636258</td>\n",
       "    </tr>\n",
       "    <tr>\n",
       "      <th>1977</th>\n",
       "      <td>0.03</td>\n",
       "      <td>full-obs</td>\n",
       "      <td>high</td>\n",
       "      <td>-0.664599</td>\n",
       "    </tr>\n",
       "    <tr>\n",
       "      <th>1978</th>\n",
       "      <td>0.03</td>\n",
       "      <td>full-obs</td>\n",
       "      <td>high</td>\n",
       "      <td>-0.664400</td>\n",
       "    </tr>\n",
       "    <tr>\n",
       "      <th>1979</th>\n",
       "      <td>0.03</td>\n",
       "      <td>full-obs</td>\n",
       "      <td>high</td>\n",
       "      <td>-0.691398</td>\n",
       "    </tr>\n",
       "    <tr>\n",
       "      <th>1980</th>\n",
       "      <td>0.03</td>\n",
       "      <td>full-obs</td>\n",
       "      <td>high</td>\n",
       "      <td>-0.694119</td>\n",
       "    </tr>\n",
       "    <tr>\n",
       "      <th>1981</th>\n",
       "      <td>0.03</td>\n",
       "      <td>full-obs</td>\n",
       "      <td>high</td>\n",
       "      <td>-0.657824</td>\n",
       "    </tr>\n",
       "    <tr>\n",
       "      <th>1982</th>\n",
       "      <td>0.03</td>\n",
       "      <td>full-obs</td>\n",
       "      <td>high</td>\n",
       "      <td>-0.662614</td>\n",
       "    </tr>\n",
       "    <tr>\n",
       "      <th>1983</th>\n",
       "      <td>0.03</td>\n",
       "      <td>full-obs</td>\n",
       "      <td>high</td>\n",
       "      <td>-0.689057</td>\n",
       "    </tr>\n",
       "    <tr>\n",
       "      <th>1984</th>\n",
       "      <td>0.03</td>\n",
       "      <td>full-obs</td>\n",
       "      <td>high</td>\n",
       "      <td>-0.662903</td>\n",
       "    </tr>\n",
       "    <tr>\n",
       "      <th>1985</th>\n",
       "      <td>0.03</td>\n",
       "      <td>full-obs</td>\n",
       "      <td>high</td>\n",
       "      <td>-0.623230</td>\n",
       "    </tr>\n",
       "    <tr>\n",
       "      <th>1986</th>\n",
       "      <td>0.03</td>\n",
       "      <td>full-obs</td>\n",
       "      <td>high</td>\n",
       "      <td>-0.640120</td>\n",
       "    </tr>\n",
       "    <tr>\n",
       "      <th>1987</th>\n",
       "      <td>0.03</td>\n",
       "      <td>full-obs</td>\n",
       "      <td>high</td>\n",
       "      <td>-0.675075</td>\n",
       "    </tr>\n",
       "    <tr>\n",
       "      <th>1988</th>\n",
       "      <td>0.03</td>\n",
       "      <td>full-obs</td>\n",
       "      <td>high</td>\n",
       "      <td>-0.672938</td>\n",
       "    </tr>\n",
       "    <tr>\n",
       "      <th>1989</th>\n",
       "      <td>0.03</td>\n",
       "      <td>full-obs</td>\n",
       "      <td>high</td>\n",
       "      <td>-0.665652</td>\n",
       "    </tr>\n",
       "    <tr>\n",
       "      <th>1990</th>\n",
       "      <td>0.03</td>\n",
       "      <td>full-obs</td>\n",
       "      <td>high</td>\n",
       "      <td>-0.629487</td>\n",
       "    </tr>\n",
       "    <tr>\n",
       "      <th>1991</th>\n",
       "      <td>0.03</td>\n",
       "      <td>full-obs</td>\n",
       "      <td>high</td>\n",
       "      <td>-0.660948</td>\n",
       "    </tr>\n",
       "    <tr>\n",
       "      <th>1992</th>\n",
       "      <td>0.03</td>\n",
       "      <td>full-obs</td>\n",
       "      <td>high</td>\n",
       "      <td>-0.650643</td>\n",
       "    </tr>\n",
       "    <tr>\n",
       "      <th>1993</th>\n",
       "      <td>0.03</td>\n",
       "      <td>full-obs</td>\n",
       "      <td>high</td>\n",
       "      <td>-0.667002</td>\n",
       "    </tr>\n",
       "    <tr>\n",
       "      <th>1994</th>\n",
       "      <td>0.03</td>\n",
       "      <td>full-obs</td>\n",
       "      <td>high</td>\n",
       "      <td>-0.643588</td>\n",
       "    </tr>\n",
       "    <tr>\n",
       "      <th>1995</th>\n",
       "      <td>0.03</td>\n",
       "      <td>full-obs</td>\n",
       "      <td>high</td>\n",
       "      <td>-0.626908</td>\n",
       "    </tr>\n",
       "    <tr>\n",
       "      <th>1996</th>\n",
       "      <td>0.03</td>\n",
       "      <td>full-obs</td>\n",
       "      <td>high</td>\n",
       "      <td>-0.668683</td>\n",
       "    </tr>\n",
       "    <tr>\n",
       "      <th>1997</th>\n",
       "      <td>0.03</td>\n",
       "      <td>full-obs</td>\n",
       "      <td>high</td>\n",
       "      <td>-0.635729</td>\n",
       "    </tr>\n",
       "    <tr>\n",
       "      <th>1998</th>\n",
       "      <td>0.03</td>\n",
       "      <td>full-obs</td>\n",
       "      <td>high</td>\n",
       "      <td>-0.669608</td>\n",
       "    </tr>\n",
       "    <tr>\n",
       "      <th>1999</th>\n",
       "      <td>0.03</td>\n",
       "      <td>full-obs</td>\n",
       "      <td>high</td>\n",
       "      <td>-0.664852</td>\n",
       "    </tr>\n",
       "  </tbody>\n",
       "</table>\n",
       "<p>2000 rows × 4 columns</p>\n",
       "</div>"
      ],
      "text/plain": [
       "      cost    policy stakes      util\n",
       "0     0.03        bo   high  0.130000\n",
       "1     0.03        bo   high  0.130000\n",
       "2     0.03        bo   high  0.130000\n",
       "3     0.03        bo   high  0.130000\n",
       "4     0.03        bo   high  0.130000\n",
       "5     0.03        bo   high  0.130000\n",
       "6     0.03        bo   high  0.130000\n",
       "7     0.03        bo   high  0.130000\n",
       "8     0.03        bo   high  0.130000\n",
       "9     0.03        bo   high  0.130000\n",
       "10    0.03        bo   high  0.130000\n",
       "11    0.03        bo   high  0.130000\n",
       "12    0.03        bo   high  0.130000\n",
       "13    0.03        bo   high  0.130000\n",
       "14    0.03        bo   high  0.130000\n",
       "15    0.03        bo   high  0.130000\n",
       "16    0.03        bo   high  0.130000\n",
       "17    0.03        bo   high  0.130000\n",
       "18    0.03        bo   high  0.130000\n",
       "19    0.03        bo   high  0.130000\n",
       "20    0.03        bo   high  0.130000\n",
       "21    0.03        bo   high  0.130000\n",
       "22    0.03        bo   high  0.130000\n",
       "23    0.03        bo   high  0.130000\n",
       "24    0.03        bo   high  0.130000\n",
       "25    0.03        bo   high  0.130000\n",
       "26    0.03        bo   high  0.130000\n",
       "27    0.03        bo   high  0.130000\n",
       "28    0.03        bo   high  0.130000\n",
       "29    0.03        bo   high  0.130000\n",
       "...    ...       ...    ...       ...\n",
       "1970  0.03  full-obs   high -0.649557\n",
       "1971  0.03  full-obs   high -0.622410\n",
       "1972  0.03  full-obs   high -0.664590\n",
       "1973  0.03  full-obs   high -0.654664\n",
       "1974  0.03  full-obs   high -0.654038\n",
       "1975  0.03  full-obs   high -0.692658\n",
       "1976  0.03  full-obs   high -0.636258\n",
       "1977  0.03  full-obs   high -0.664599\n",
       "1978  0.03  full-obs   high -0.664400\n",
       "1979  0.03  full-obs   high -0.691398\n",
       "1980  0.03  full-obs   high -0.694119\n",
       "1981  0.03  full-obs   high -0.657824\n",
       "1982  0.03  full-obs   high -0.662614\n",
       "1983  0.03  full-obs   high -0.689057\n",
       "1984  0.03  full-obs   high -0.662903\n",
       "1985  0.03  full-obs   high -0.623230\n",
       "1986  0.03  full-obs   high -0.640120\n",
       "1987  0.03  full-obs   high -0.675075\n",
       "1988  0.03  full-obs   high -0.672938\n",
       "1989  0.03  full-obs   high -0.665652\n",
       "1990  0.03  full-obs   high -0.629487\n",
       "1991  0.03  full-obs   high -0.660948\n",
       "1992  0.03  full-obs   high -0.650643\n",
       "1993  0.03  full-obs   high -0.667002\n",
       "1994  0.03  full-obs   high -0.643588\n",
       "1995  0.03  full-obs   high -0.626908\n",
       "1996  0.03  full-obs   high -0.668683\n",
       "1997  0.03  full-obs   high -0.635729\n",
       "1998  0.03  full-obs   high -0.669608\n",
       "1999  0.03  full-obs   high -0.664852\n",
       "\n",
       "[2000 rows x 4 columns]"
      ]
     },
     "execution_count": 99,
     "metadata": {},
     "output_type": "execute_result"
    }
   ],
   "source": [
    "df = pd.DataFrame(d_list)\n",
    "df"
   ]
  },
  {
   "cell_type": "code",
   "execution_count": 100,
   "metadata": {},
   "outputs": [
    {
     "data": {
      "text/plain": [
       "0.13000000000000103"
      ]
     },
     "execution_count": 100,
     "metadata": {},
     "output_type": "execute_result"
    }
   ],
   "source": [
    "df[df['policy'] == 'metagreedy'].util.mean()"
   ]
  },
  {
   "cell_type": "code",
   "execution_count": 101,
   "metadata": {
    "collapsed": true
   },
   "outputs": [],
   "source": [
    "df.to_hdf('low_stakes_3cents_results','results')"
   ]
  },
  {
   "cell_type": "code",
   "execution_count": 103,
   "metadata": {
    "collapsed": true
   },
   "outputs": [],
   "source": [
    "df2 = pd.read_hdf('low_stakes_3cents_results','results')"
   ]
  },
  {
   "cell_type": "code",
   "execution_count": 104,
   "metadata": {},
   "outputs": [
    {
     "data": {
      "text/plain": [
       "0.13000000000000103"
      ]
     },
     "execution_count": 104,
     "metadata": {},
     "output_type": "execute_result"
    }
   ],
   "source": [
    "df2[df2['policy']=='metagreedy'].util.mean()"
   ]
  },
  {
   "cell_type": "markdown",
   "metadata": {},
   "source": [
    "## Low Stakes 0.5 cents"
   ]
  },
  {
   "cell_type": "code",
   "execution_count": 13,
   "metadata": {
    "collapsed": true
   },
   "outputs": [],
   "source": [
    "gambles = 7\n",
    "attributes = 4\n",
    "# reward = Normal(0,1)\n",
    "# max_obs=30\n",
    "high_stakes = Normal((9.99+0.01)/2, 0.3*(9.99-0.01))\n",
    "low_stakes = Normal((0.25+0.01)/2, 0.3*(0.25-0.01))\n",
    "reward = low_stakes\n",
    "cost=.005\n",
    "\n",
    "#set to 20 for sanity check\n",
    "n_train = 250\n",
    "n_test = 250\n",
    "\n",
    "train_envs_hd = [OldMouselabEnv(gambles, hd_dist(attributes), reward, cost) for _ in range(n_train)]\n",
    "train_envs_ld = [OldMouselabEnv(gambles, ld_dist(attributes), reward, cost) for _ in range(n_train)]\n",
    "train_envs = train_envs_hd+train_envs_ld \n",
    "\n",
    "test_envs_hd =  [OldMouselabEnv(gambles, hd_dist(attributes), reward, cost) for _ in range(n_train)]\n",
    "test_envs_ld = [OldMouselabEnv(gambles, ld_dist(attributes), reward, cost) for _ in range(n_train)]\n",
    "test_envs = test_envs_hd+test_envs_ld \n",
    "\n",
    "term_action = train_envs[0].term_action"
   ]
  },
  {
   "cell_type": "code",
   "execution_count": 14,
   "metadata": {
    "scrolled": true
   },
   "outputs": [
    {
     "name": "stdout",
     "output_type": "stream",
     "text": [
      "[ 1.  1.  0.  0.  1.] -> 0.165 in 138 sec\n",
      "[ 18.192   0.331   0.337   0.332   1.   ] -> 0.13 in 34 sec\n",
      "[ 19.083   0.52    0.403   0.077   1.   ] -> 0.13 in 35 sec\n",
      "[ 8.907  0.27   0.459  0.271  1.   ] -> 0.134 in 40 sec\n",
      "[ 12.391   0.459   0.185   0.356   1.   ] -> 0.13 in 34 sec\n",
      "[ 11.679   0.486   0.071   0.442   1.   ] -> 0.13 in 34 sec\n",
      "[ 14.735   0.4     0.26    0.339   1.   ] -> 0.13 in 34 sec\n",
      "[ 21.898   0.31    0.286   0.404   1.   ] -> 0.13 in 34 sec\n",
      "[ 4.071  0.339  0.133  0.528  1.   ] -> 0.164 in 129 sec\n",
      "[ 7.28   0.222  0.532  0.246  1.   ] -> 0.15 in 65 sec\n",
      "[ 7.447  0.222  0.519  0.259  1.   ] -> 0.15 in 65 sec\n",
      "[ 30.   0.   0.   0.   1.] -> 0.13 in 34 sec\n",
      "[ 1.   0.   0.5  0.5  1. ] -> 0.128 in 318 sec\n",
      "[ 1.  1.  0.  0.  1.] -> 0.165 in 140 sec\n",
      "[ 1.  1.  0.  0.  1.] -> 0.165 in 138 sec\n",
      "[ 1.049  0.859  0.026  0.116  1.   ] -> 0.164 in 163 sec\n",
      "[ 30.    0.5   0.5   0.    1. ] -> 0.13 in 34 sec\n",
      "[ 1.   0.5  0.5  0.   1. ] -> 0.164 in 153 sec\n",
      "[ 3.702  0.5    0.5    0.     1.   ] -> 0.155 in 80 sec\n",
      "[ 1.076  0.362  0.596  0.042  1.   ] -> 0.165 in 157 sec\n",
      "BO: [ 1.  1.  0.  0.  1.] -> 0.165 in 1866 sec\n",
      "0:31:05.917265\n"
     ]
    }
   ],
   "source": [
    "a = datetime.datetime.now()\n",
    "# bop2 = bo_policy(train_envs, max_cost=max_obs, n_jobs=20, n_calls=20, x0=[1., 1., 0., 0.])\n",
    "bo_pol, result = bo_policy(train_envs, max_cost=30, n_jobs=50, n_calls=20, x0=[1., 1., 0., 0.],\n",
    "                           verbose=1, normalize_voi=True, return_result=True)\n",
    "t = datetime.datetime.now() - a\n",
    "print(t)"
   ]
  },
  {
   "cell_type": "code",
   "execution_count": 44,
   "metadata": {
    "collapsed": true
   },
   "outputs": [],
   "source": [
    "# bo_pol_theta = np.load('low_stakes_0.5cents-2.npy')\n",
    "# bo_pol = LiederPolicy(list(bo_pol_theta))"
   ]
  },
  {
   "cell_type": "code",
   "execution_count": 15,
   "metadata": {},
   "outputs": [
    {
     "data": {
      "text/plain": [
       "<matplotlib.axes._subplots.AxesSubplot at 0x2ad7f185b710>"
      ]
     },
     "execution_count": 15,
     "metadata": {},
     "output_type": "execute_result"
    },
    {
     "name": "stderr",
     "output_type": "stream",
     "text": [
      "/global/software/sl-7.x86_64/modules/langs/python/3.6/lib/python3.6/site-packages/matplotlib/font_manager.py:1297: UserWarning: findfont: Font family ['sans-serif'] not found. Falling back to DejaVu Sans\n",
      "  (prop.get_family(), self.defaultFamily[fontext]))\n"
     ]
    },
    {
     "data": {
      "image/png": "[encoded data removed]",
      "text/plain": [
       "<matplotlib.figure.Figure at 0x2ad7f1a9fd68>"
      ]
     },
     "metadata": {},
     "output_type": "display_data"
    }
   ],
   "source": [
    "from skopt.plots import plot_convergence, plot_evaluations, plot_objective\n",
    "plot_convergence(result)"
   ]
  },
  {
   "cell_type": "code",
   "execution_count": 16,
   "metadata": {},
   "outputs": [
    {
     "data": {
      "text/plain": [
       "array([ 1.,  1.,  0.,  0.,  1.])"
      ]
     },
     "execution_count": 16,
     "metadata": {},
     "output_type": "execute_result"
    }
   ],
   "source": [
    "bo_pol.theta"
   ]
  },
  {
   "cell_type": "code",
   "execution_count": 17,
   "metadata": {
    "collapsed": true
   },
   "outputs": [],
   "source": [
    "np.save('low_stakes_0.5cents-2',bo_pol.theta)"
   ]
  },
  {
   "cell_type": "code",
   "execution_count": 18,
   "metadata": {
    "collapsed": true
   },
   "outputs": [],
   "source": [
    "a = datetime.datetime.now()\n",
    "bo_utils = get_util(bo_pol, test_envs, parallel=Parallel(n_jobs=20),return_mean=False)\n",
    "t = datetime.datetime.now() - a"
   ]
  },
  {
   "cell_type": "code",
   "execution_count": 19,
   "metadata": {
    "scrolled": true
   },
   "outputs": [
    {
     "data": {
      "text/plain": [
       "0.16670667750492293"
      ]
     },
     "execution_count": 19,
     "metadata": {},
     "output_type": "execute_result"
    }
   ],
   "source": [
    "np.mean(bo_utils)"
   ]
  },
  {
   "cell_type": "code",
   "execution_count": 20,
   "metadata": {
    "collapsed": true
   },
   "outputs": [],
   "source": [
    "mg_pol = LiederPolicy([1, 1, 0, 0, 1])\n",
    "a = datetime.datetime.now()\n",
    "mg_utils = get_util(mg_pol, test_envs, parallel=Parallel(n_jobs=20),return_mean=False)\n",
    "t = datetime.datetime.now() - a"
   ]
  },
  {
   "cell_type": "code",
   "execution_count": 21,
   "metadata": {},
   "outputs": [
    {
     "data": {
      "text/plain": [
       "0.16670667750492293"
      ]
     },
     "execution_count": 21,
     "metadata": {},
     "output_type": "execute_result"
    }
   ],
   "source": [
    "np.mean(mg_utils)"
   ]
  },
  {
   "cell_type": "code",
   "execution_count": 22,
   "metadata": {},
   "outputs": [
    {
     "data": {
      "text/plain": [
       "Ttest_indResult(statistic=0.0, pvalue=1.0)"
      ]
     },
     "execution_count": 22,
     "metadata": {},
     "output_type": "execute_result"
    }
   ],
   "source": [
    "from scipy.stats import ttest_ind\n",
    "ttest_ind(bo_utils,mg_utils)"
   ]
  },
  {
   "cell_type": "code",
   "execution_count": 23,
   "metadata": {},
   "outputs": [
    {
     "data": {
      "text/plain": [
       "Ttest_relResult(statistic=nan, pvalue=nan)"
      ]
     },
     "execution_count": 23,
     "metadata": {},
     "output_type": "execute_result"
    }
   ],
   "source": [
    "from scipy.stats import ttest_rel\n",
    "ttest_rel(bo_utils,mg_utils)"
   ]
  },
  {
   "cell_type": "code",
   "execution_count": 24,
   "metadata": {
    "collapsed": true
   },
   "outputs": [],
   "source": [
    "no_pol = FixedPlanPolicy([term_action])\n",
    "a = datetime.datetime.now()\n",
    "no_utils = get_util(no_pol, test_envs, parallel=Parallel(n_jobs=20),return_mean=False)\n",
    "t = datetime.datetime.now() - a"
   ]
  },
  {
   "cell_type": "code",
   "execution_count": 25,
   "metadata": {
    "scrolled": true
   },
   "outputs": [
    {
     "data": {
      "text/plain": [
       "0.13"
      ]
     },
     "execution_count": 25,
     "metadata": {},
     "output_type": "execute_result"
    }
   ],
   "source": [
    "np.mean(no_utils)"
   ]
  },
  {
   "cell_type": "code",
   "execution_count": 26,
   "metadata": {
    "collapsed": true
   },
   "outputs": [],
   "source": [
    "fo_pol = FixedPlanPolicy(range(term_action+1))\n",
    "a = datetime.datetime.now()\n",
    "fo_utils = get_util(fo_pol, test_envs, parallel=Parallel(n_jobs=20),return_mean=False)\n",
    "t = datetime.datetime.now() - a"
   ]
  },
  {
   "cell_type": "code",
   "execution_count": 27,
   "metadata": {},
   "outputs": [
    {
     "data": {
      "text/plain": [
       "0.059715955139078791"
      ]
     },
     "execution_count": 27,
     "metadata": {},
     "output_type": "execute_result"
    }
   ],
   "source": [
    "np.mean(fo_utils)"
   ]
  },
  {
   "cell_type": "code",
   "execution_count": 28,
   "metadata": {
    "collapsed": true
   },
   "outputs": [],
   "source": [
    "utils = [bo_utils,mg_utils,no_utils,fo_utils]\n",
    "policies = ['bo','metagreedy','none','full-obs']\n",
    "d_list = []\n",
    "for u,p in zip(utils,policies):\n",
    "    for result in u:\n",
    "        d_list.append({'util':result,'stakes':'high','cost':cost,'policy':p})"
   ]
  },
  {
   "cell_type": "code",
   "execution_count": 29,
   "metadata": {},
   "outputs": [
    {
     "data": {
      "text/html": [
       "<div>\n",
       "<table border=\"1\" class=\"dataframe\">\n",
       "  <thead>\n",
       "    <tr style=\"text-align: right;\">\n",
       "      <th></th>\n",
       "      <th>cost</th>\n",
       "      <th>policy</th>\n",
       "      <th>stakes</th>\n",
       "      <th>util</th>\n",
       "    </tr>\n",
       "  </thead>\n",
       "  <tbody>\n",
       "    <tr>\n",
       "      <th>0</th>\n",
       "      <td>0.005</td>\n",
       "      <td>bo</td>\n",
       "      <td>high</td>\n",
       "      <td>0.150445</td>\n",
       "    </tr>\n",
       "    <tr>\n",
       "      <th>1</th>\n",
       "      <td>0.005</td>\n",
       "      <td>bo</td>\n",
       "      <td>high</td>\n",
       "      <td>0.135086</td>\n",
       "    </tr>\n",
       "    <tr>\n",
       "      <th>2</th>\n",
       "      <td>0.005</td>\n",
       "      <td>bo</td>\n",
       "      <td>high</td>\n",
       "      <td>0.235951</td>\n",
       "    </tr>\n",
       "    <tr>\n",
       "      <th>3</th>\n",
       "      <td>0.005</td>\n",
       "      <td>bo</td>\n",
       "      <td>high</td>\n",
       "      <td>0.145383</td>\n",
       "    </tr>\n",
       "    <tr>\n",
       "      <th>4</th>\n",
       "      <td>0.005</td>\n",
       "      <td>bo</td>\n",
       "      <td>high</td>\n",
       "      <td>0.260053</td>\n",
       "    </tr>\n",
       "    <tr>\n",
       "      <th>5</th>\n",
       "      <td>0.005</td>\n",
       "      <td>bo</td>\n",
       "      <td>high</td>\n",
       "      <td>0.204422</td>\n",
       "    </tr>\n",
       "    <tr>\n",
       "      <th>6</th>\n",
       "      <td>0.005</td>\n",
       "      <td>bo</td>\n",
       "      <td>high</td>\n",
       "      <td>0.223172</td>\n",
       "    </tr>\n",
       "    <tr>\n",
       "      <th>7</th>\n",
       "      <td>0.005</td>\n",
       "      <td>bo</td>\n",
       "      <td>high</td>\n",
       "      <td>0.183239</td>\n",
       "    </tr>\n",
       "    <tr>\n",
       "      <th>8</th>\n",
       "      <td>0.005</td>\n",
       "      <td>bo</td>\n",
       "      <td>high</td>\n",
       "      <td>0.200393</td>\n",
       "    </tr>\n",
       "    <tr>\n",
       "      <th>9</th>\n",
       "      <td>0.005</td>\n",
       "      <td>bo</td>\n",
       "      <td>high</td>\n",
       "      <td>0.205963</td>\n",
       "    </tr>\n",
       "    <tr>\n",
       "      <th>10</th>\n",
       "      <td>0.005</td>\n",
       "      <td>bo</td>\n",
       "      <td>high</td>\n",
       "      <td>0.133672</td>\n",
       "    </tr>\n",
       "    <tr>\n",
       "      <th>11</th>\n",
       "      <td>0.005</td>\n",
       "      <td>bo</td>\n",
       "      <td>high</td>\n",
       "      <td>0.083026</td>\n",
       "    </tr>\n",
       "    <tr>\n",
       "      <th>12</th>\n",
       "      <td>0.005</td>\n",
       "      <td>bo</td>\n",
       "      <td>high</td>\n",
       "      <td>0.216353</td>\n",
       "    </tr>\n",
       "    <tr>\n",
       "      <th>13</th>\n",
       "      <td>0.005</td>\n",
       "      <td>bo</td>\n",
       "      <td>high</td>\n",
       "      <td>0.194036</td>\n",
       "    </tr>\n",
       "    <tr>\n",
       "      <th>14</th>\n",
       "      <td>0.005</td>\n",
       "      <td>bo</td>\n",
       "      <td>high</td>\n",
       "      <td>0.194114</td>\n",
       "    </tr>\n",
       "    <tr>\n",
       "      <th>15</th>\n",
       "      <td>0.005</td>\n",
       "      <td>bo</td>\n",
       "      <td>high</td>\n",
       "      <td>0.193238</td>\n",
       "    </tr>\n",
       "    <tr>\n",
       "      <th>16</th>\n",
       "      <td>0.005</td>\n",
       "      <td>bo</td>\n",
       "      <td>high</td>\n",
       "      <td>0.234682</td>\n",
       "    </tr>\n",
       "    <tr>\n",
       "      <th>17</th>\n",
       "      <td>0.005</td>\n",
       "      <td>bo</td>\n",
       "      <td>high</td>\n",
       "      <td>0.208758</td>\n",
       "    </tr>\n",
       "    <tr>\n",
       "      <th>18</th>\n",
       "      <td>0.005</td>\n",
       "      <td>bo</td>\n",
       "      <td>high</td>\n",
       "      <td>0.279109</td>\n",
       "    </tr>\n",
       "    <tr>\n",
       "      <th>19</th>\n",
       "      <td>0.005</td>\n",
       "      <td>bo</td>\n",
       "      <td>high</td>\n",
       "      <td>0.253056</td>\n",
       "    </tr>\n",
       "    <tr>\n",
       "      <th>20</th>\n",
       "      <td>0.005</td>\n",
       "      <td>bo</td>\n",
       "      <td>high</td>\n",
       "      <td>0.179543</td>\n",
       "    </tr>\n",
       "    <tr>\n",
       "      <th>21</th>\n",
       "      <td>0.005</td>\n",
       "      <td>bo</td>\n",
       "      <td>high</td>\n",
       "      <td>0.160994</td>\n",
       "    </tr>\n",
       "    <tr>\n",
       "      <th>22</th>\n",
       "      <td>0.005</td>\n",
       "      <td>bo</td>\n",
       "      <td>high</td>\n",
       "      <td>0.198826</td>\n",
       "    </tr>\n",
       "    <tr>\n",
       "      <th>23</th>\n",
       "      <td>0.005</td>\n",
       "      <td>bo</td>\n",
       "      <td>high</td>\n",
       "      <td>0.246788</td>\n",
       "    </tr>\n",
       "    <tr>\n",
       "      <th>24</th>\n",
       "      <td>0.005</td>\n",
       "      <td>bo</td>\n",
       "      <td>high</td>\n",
       "      <td>0.121051</td>\n",
       "    </tr>\n",
       "    <tr>\n",
       "      <th>25</th>\n",
       "      <td>0.005</td>\n",
       "      <td>bo</td>\n",
       "      <td>high</td>\n",
       "      <td>0.233841</td>\n",
       "    </tr>\n",
       "    <tr>\n",
       "      <th>26</th>\n",
       "      <td>0.005</td>\n",
       "      <td>bo</td>\n",
       "      <td>high</td>\n",
       "      <td>0.138610</td>\n",
       "    </tr>\n",
       "    <tr>\n",
       "      <th>27</th>\n",
       "      <td>0.005</td>\n",
       "      <td>bo</td>\n",
       "      <td>high</td>\n",
       "      <td>0.195078</td>\n",
       "    </tr>\n",
       "    <tr>\n",
       "      <th>28</th>\n",
       "      <td>0.005</td>\n",
       "      <td>bo</td>\n",
       "      <td>high</td>\n",
       "      <td>0.207046</td>\n",
       "    </tr>\n",
       "    <tr>\n",
       "      <th>29</th>\n",
       "      <td>0.005</td>\n",
       "      <td>bo</td>\n",
       "      <td>high</td>\n",
       "      <td>0.175239</td>\n",
       "    </tr>\n",
       "    <tr>\n",
       "      <th>...</th>\n",
       "      <td>...</td>\n",
       "      <td>...</td>\n",
       "      <td>...</td>\n",
       "      <td>...</td>\n",
       "    </tr>\n",
       "    <tr>\n",
       "      <th>1970</th>\n",
       "      <td>0.005</td>\n",
       "      <td>full-obs</td>\n",
       "      <td>high</td>\n",
       "      <td>0.032297</td>\n",
       "    </tr>\n",
       "    <tr>\n",
       "      <th>1971</th>\n",
       "      <td>0.005</td>\n",
       "      <td>full-obs</td>\n",
       "      <td>high</td>\n",
       "      <td>0.012784</td>\n",
       "    </tr>\n",
       "    <tr>\n",
       "      <th>1972</th>\n",
       "      <td>0.005</td>\n",
       "      <td>full-obs</td>\n",
       "      <td>high</td>\n",
       "      <td>0.042643</td>\n",
       "    </tr>\n",
       "    <tr>\n",
       "      <th>1973</th>\n",
       "      <td>0.005</td>\n",
       "      <td>full-obs</td>\n",
       "      <td>high</td>\n",
       "      <td>0.034867</td>\n",
       "    </tr>\n",
       "    <tr>\n",
       "      <th>1974</th>\n",
       "      <td>0.005</td>\n",
       "      <td>full-obs</td>\n",
       "      <td>high</td>\n",
       "      <td>0.043937</td>\n",
       "    </tr>\n",
       "    <tr>\n",
       "      <th>1975</th>\n",
       "      <td>0.005</td>\n",
       "      <td>full-obs</td>\n",
       "      <td>high</td>\n",
       "      <td>0.052793</td>\n",
       "    </tr>\n",
       "    <tr>\n",
       "      <th>1976</th>\n",
       "      <td>0.005</td>\n",
       "      <td>full-obs</td>\n",
       "      <td>high</td>\n",
       "      <td>0.056641</td>\n",
       "    </tr>\n",
       "    <tr>\n",
       "      <th>1977</th>\n",
       "      <td>0.005</td>\n",
       "      <td>full-obs</td>\n",
       "      <td>high</td>\n",
       "      <td>0.079701</td>\n",
       "    </tr>\n",
       "    <tr>\n",
       "      <th>1978</th>\n",
       "      <td>0.005</td>\n",
       "      <td>full-obs</td>\n",
       "      <td>high</td>\n",
       "      <td>-0.001455</td>\n",
       "    </tr>\n",
       "    <tr>\n",
       "      <th>1979</th>\n",
       "      <td>0.005</td>\n",
       "      <td>full-obs</td>\n",
       "      <td>high</td>\n",
       "      <td>0.040457</td>\n",
       "    </tr>\n",
       "    <tr>\n",
       "      <th>1980</th>\n",
       "      <td>0.005</td>\n",
       "      <td>full-obs</td>\n",
       "      <td>high</td>\n",
       "      <td>0.026138</td>\n",
       "    </tr>\n",
       "    <tr>\n",
       "      <th>1981</th>\n",
       "      <td>0.005</td>\n",
       "      <td>full-obs</td>\n",
       "      <td>high</td>\n",
       "      <td>-0.008568</td>\n",
       "    </tr>\n",
       "    <tr>\n",
       "      <th>1982</th>\n",
       "      <td>0.005</td>\n",
       "      <td>full-obs</td>\n",
       "      <td>high</td>\n",
       "      <td>0.020269</td>\n",
       "    </tr>\n",
       "    <tr>\n",
       "      <th>1983</th>\n",
       "      <td>0.005</td>\n",
       "      <td>full-obs</td>\n",
       "      <td>high</td>\n",
       "      <td>0.036686</td>\n",
       "    </tr>\n",
       "    <tr>\n",
       "      <th>1984</th>\n",
       "      <td>0.005</td>\n",
       "      <td>full-obs</td>\n",
       "      <td>high</td>\n",
       "      <td>0.049736</td>\n",
       "    </tr>\n",
       "    <tr>\n",
       "      <th>1985</th>\n",
       "      <td>0.005</td>\n",
       "      <td>full-obs</td>\n",
       "      <td>high</td>\n",
       "      <td>0.004433</td>\n",
       "    </tr>\n",
       "    <tr>\n",
       "      <th>1986</th>\n",
       "      <td>0.005</td>\n",
       "      <td>full-obs</td>\n",
       "      <td>high</td>\n",
       "      <td>0.023712</td>\n",
       "    </tr>\n",
       "    <tr>\n",
       "      <th>1987</th>\n",
       "      <td>0.005</td>\n",
       "      <td>full-obs</td>\n",
       "      <td>high</td>\n",
       "      <td>0.018129</td>\n",
       "    </tr>\n",
       "    <tr>\n",
       "      <th>1988</th>\n",
       "      <td>0.005</td>\n",
       "      <td>full-obs</td>\n",
       "      <td>high</td>\n",
       "      <td>0.045703</td>\n",
       "    </tr>\n",
       "    <tr>\n",
       "      <th>1989</th>\n",
       "      <td>0.005</td>\n",
       "      <td>full-obs</td>\n",
       "      <td>high</td>\n",
       "      <td>0.039912</td>\n",
       "    </tr>\n",
       "    <tr>\n",
       "      <th>1990</th>\n",
       "      <td>0.005</td>\n",
       "      <td>full-obs</td>\n",
       "      <td>high</td>\n",
       "      <td>0.092706</td>\n",
       "    </tr>\n",
       "    <tr>\n",
       "      <th>1991</th>\n",
       "      <td>0.005</td>\n",
       "      <td>full-obs</td>\n",
       "      <td>high</td>\n",
       "      <td>0.011906</td>\n",
       "    </tr>\n",
       "    <tr>\n",
       "      <th>1992</th>\n",
       "      <td>0.005</td>\n",
       "      <td>full-obs</td>\n",
       "      <td>high</td>\n",
       "      <td>0.022604</td>\n",
       "    </tr>\n",
       "    <tr>\n",
       "      <th>1993</th>\n",
       "      <td>0.005</td>\n",
       "      <td>full-obs</td>\n",
       "      <td>high</td>\n",
       "      <td>0.029212</td>\n",
       "    </tr>\n",
       "    <tr>\n",
       "      <th>1994</th>\n",
       "      <td>0.005</td>\n",
       "      <td>full-obs</td>\n",
       "      <td>high</td>\n",
       "      <td>0.093822</td>\n",
       "    </tr>\n",
       "    <tr>\n",
       "      <th>1995</th>\n",
       "      <td>0.005</td>\n",
       "      <td>full-obs</td>\n",
       "      <td>high</td>\n",
       "      <td>0.068737</td>\n",
       "    </tr>\n",
       "    <tr>\n",
       "      <th>1996</th>\n",
       "      <td>0.005</td>\n",
       "      <td>full-obs</td>\n",
       "      <td>high</td>\n",
       "      <td>0.004724</td>\n",
       "    </tr>\n",
       "    <tr>\n",
       "      <th>1997</th>\n",
       "      <td>0.005</td>\n",
       "      <td>full-obs</td>\n",
       "      <td>high</td>\n",
       "      <td>0.038801</td>\n",
       "    </tr>\n",
       "    <tr>\n",
       "      <th>1998</th>\n",
       "      <td>0.005</td>\n",
       "      <td>full-obs</td>\n",
       "      <td>high</td>\n",
       "      <td>0.034918</td>\n",
       "    </tr>\n",
       "    <tr>\n",
       "      <th>1999</th>\n",
       "      <td>0.005</td>\n",
       "      <td>full-obs</td>\n",
       "      <td>high</td>\n",
       "      <td>0.009404</td>\n",
       "    </tr>\n",
       "  </tbody>\n",
       "</table>\n",
       "<p>2000 rows × 4 columns</p>\n",
       "</div>"
      ],
      "text/plain": [
       "       cost    policy stakes      util\n",
       "0     0.005        bo   high  0.150445\n",
       "1     0.005        bo   high  0.135086\n",
       "2     0.005        bo   high  0.235951\n",
       "3     0.005        bo   high  0.145383\n",
       "4     0.005        bo   high  0.260053\n",
       "5     0.005        bo   high  0.204422\n",
       "6     0.005        bo   high  0.223172\n",
       "7     0.005        bo   high  0.183239\n",
       "8     0.005        bo   high  0.200393\n",
       "9     0.005        bo   high  0.205963\n",
       "10    0.005        bo   high  0.133672\n",
       "11    0.005        bo   high  0.083026\n",
       "12    0.005        bo   high  0.216353\n",
       "13    0.005        bo   high  0.194036\n",
       "14    0.005        bo   high  0.194114\n",
       "15    0.005        bo   high  0.193238\n",
       "16    0.005        bo   high  0.234682\n",
       "17    0.005        bo   high  0.208758\n",
       "18    0.005        bo   high  0.279109\n",
       "19    0.005        bo   high  0.253056\n",
       "20    0.005        bo   high  0.179543\n",
       "21    0.005        bo   high  0.160994\n",
       "22    0.005        bo   high  0.198826\n",
       "23    0.005        bo   high  0.246788\n",
       "24    0.005        bo   high  0.121051\n",
       "25    0.005        bo   high  0.233841\n",
       "26    0.005        bo   high  0.138610\n",
       "27    0.005        bo   high  0.195078\n",
       "28    0.005        bo   high  0.207046\n",
       "29    0.005        bo   high  0.175239\n",
       "...     ...       ...    ...       ...\n",
       "1970  0.005  full-obs   high  0.032297\n",
       "1971  0.005  full-obs   high  0.012784\n",
       "1972  0.005  full-obs   high  0.042643\n",
       "1973  0.005  full-obs   high  0.034867\n",
       "1974  0.005  full-obs   high  0.043937\n",
       "1975  0.005  full-obs   high  0.052793\n",
       "1976  0.005  full-obs   high  0.056641\n",
       "1977  0.005  full-obs   high  0.079701\n",
       "1978  0.005  full-obs   high -0.001455\n",
       "1979  0.005  full-obs   high  0.040457\n",
       "1980  0.005  full-obs   high  0.026138\n",
       "1981  0.005  full-obs   high -0.008568\n",
       "1982  0.005  full-obs   high  0.020269\n",
       "1983  0.005  full-obs   high  0.036686\n",
       "1984  0.005  full-obs   high  0.049736\n",
       "1985  0.005  full-obs   high  0.004433\n",
       "1986  0.005  full-obs   high  0.023712\n",
       "1987  0.005  full-obs   high  0.018129\n",
       "1988  0.005  full-obs   high  0.045703\n",
       "1989  0.005  full-obs   high  0.039912\n",
       "1990  0.005  full-obs   high  0.092706\n",
       "1991  0.005  full-obs   high  0.011906\n",
       "1992  0.005  full-obs   high  0.022604\n",
       "1993  0.005  full-obs   high  0.029212\n",
       "1994  0.005  full-obs   high  0.093822\n",
       "1995  0.005  full-obs   high  0.068737\n",
       "1996  0.005  full-obs   high  0.004724\n",
       "1997  0.005  full-obs   high  0.038801\n",
       "1998  0.005  full-obs   high  0.034918\n",
       "1999  0.005  full-obs   high  0.009404\n",
       "\n",
       "[2000 rows x 4 columns]"
      ]
     },
     "execution_count": 29,
     "metadata": {},
     "output_type": "execute_result"
    }
   ],
   "source": [
    "df = pd.DataFrame(d_list)\n",
    "df"
   ]
  },
  {
   "cell_type": "code",
   "execution_count": 30,
   "metadata": {},
   "outputs": [
    {
     "data": {
      "text/plain": [
       "0.16670667750492293"
      ]
     },
     "execution_count": 30,
     "metadata": {},
     "output_type": "execute_result"
    }
   ],
   "source": [
    "df[df['policy'] == 'metagreedy'].util.mean()"
   ]
  },
  {
   "cell_type": "code",
   "execution_count": 31,
   "metadata": {
    "collapsed": true
   },
   "outputs": [],
   "source": [
    "df.to_hdf('data/low_stakes_0.5cents_results-2','results')"
   ]
  },
  {
   "cell_type": "code",
   "execution_count": 32,
   "metadata": {
    "collapsed": true
   },
   "outputs": [],
   "source": [
    "df2 = pd.read_hdf('data/low_stakes_0.5cents_results-2','results')"
   ]
  },
  {
   "cell_type": "code",
   "execution_count": 33,
   "metadata": {
    "scrolled": true
   },
   "outputs": [
    {
     "data": {
      "text/plain": [
       "0.16670667750492293"
      ]
     },
     "execution_count": 33,
     "metadata": {},
     "output_type": "execute_result"
    }
   ],
   "source": [
    "df2[df2['policy']=='metagreedy'].util.mean()"
   ]
  },
  {
   "cell_type": "markdown",
   "metadata": {},
   "source": [
    "## Individual Policies 1 cents"
   ]
  },
  {
   "cell_type": "code",
   "execution_count": 59,
   "metadata": {
    "collapsed": true
   },
   "outputs": [],
   "source": [
    "gambles = 7\n",
    "attributes = 4\n",
    "high_stakes = TruncatedNormal((9.99+0.01)/2, 0.3*(9.99-0.01),0.01,9.99)\n",
    "low_stakes = TruncatedNormal((0.25+0.01)/2, 0.3*(0.25-0.01),0.01,0.25)\n",
    "cost=.01\n",
    "\n",
    "#set to 20 for sanity check\n",
    "n_train = 500\n",
    "# n_test = 500\n",
    "\n",
    "train_hs_hd = [OldMouselabEnv(gambles, hd_dist(attributes), high_stakes, cost) for _ in range(n_train)]\n",
    "train_hs_ld = [OldMouselabEnv(gambles, ld_dist(attributes), high_stakes, cost) for _ in range(n_train)]\n",
    "train_ls_hd = [OldMouselabEnv(gambles, hd_dist(attributes), low_stakes, cost) for _ in range(n_train)]\n",
    "train_ls_ld = [OldMouselabEnv(gambles, ld_dist(attributes), low_stakes, cost) for _ in range(n_train)]\n",
    "\n",
    "test_hs_hd = [OldMouselabEnv(gambles, hd_dist(attributes), high_stakes, cost) for _ in range(n_train)]\n",
    "test_hs_ld = [OldMouselabEnv(gambles, ld_dist(attributes), high_stakes, cost) for _ in range(n_train)]\n",
    "test_ls_hd = [OldMouselabEnv(gambles, hd_dist(attributes), low_stakes, cost) for _ in range(n_train)]\n",
    "test_ls_ld = [OldMouselabEnv(gambles, ld_dist(attributes), low_stakes, cost) for _ in range(n_train)]\n",
    "\n",
    "term_action = train_hs_hd[0].term_action"
   ]
  },
  {
   "cell_type": "code",
   "execution_count": null,
   "metadata": {
    "scrolled": true
   },
   "outputs": [
    {
     "name": "stdout",
     "output_type": "stream",
     "text": [
      "[ 18.192   0.331   0.337   0.332   1.   ] -> 7.787 in 146 sec\n",
      "[ 19.083   0.52    0.403   0.077   1.   ] -> 7.784 in 136 sec\n",
      "[ 8.907  0.27   0.459  0.271  1.   ] -> 7.789 in 157 sec\n",
      "[ 12.391   0.459   0.185   0.356   1.   ] -> 7.788 in 155 sec\n",
      "[ 11.679   0.486   0.071   0.442   1.   ] -> 7.789 in 156 sec\n",
      "[ 14.735   0.4     0.26    0.339   1.   ] -> 7.786 in 150 sec\n",
      "[ 21.898   0.31    0.286   0.404   1.   ] -> 7.78 in 145 sec\n",
      "[ 4.071  0.339  0.133  0.528  1.   ] -> 7.789 in 163 sec\n",
      "[ 7.28   0.222  0.532  0.246  1.   ] -> 7.788 in 160 sec\n",
      "[ 7.447  0.222  0.519  0.259  1.   ] -> 7.787 in 161 sec\n",
      "[ 1.     0.333  0.333  0.333  1.   ] -> 7.789 in 169 sec\n",
      "[ 1.3    0.82   0.165  0.014  1.   ] -> 7.789 in 165 sec\n",
      "[ 1.098  0.     0.067  0.933  1.   ] -> 7.654 in 318 sec\n",
      "[ 30.   1.   0.   0.   1.] -> 7.667 in 121 sec\n",
      "[ 2.024  0.448  0.318  0.234  1.   ] -> 7.79 in 165 sec\n"
     ]
    }
   ],
   "source": [
    "bo_pol, result = bo_policy(train_hs_hd, max_cost=30, n_jobs=100, n_calls=20,\n",
    "                           verbose=1, normalize_voi=True, return_result=True)\n",
    "np.save('data/hs_hd_1cents-2',bo_pol.theta)"
   ]
  },
  {
   "cell_type": "code",
   "execution_count": null,
   "metadata": {
    "collapsed": true
   },
   "outputs": [],
   "source": [
    "hs_hd_utils = get_util(bo_pol, test_hs_hd, parallel=Parallel(n_jobs=100),return_mean=False)"
   ]
  },
  {
   "cell_type": "code",
   "execution_count": null,
   "metadata": {
    "collapsed": true
   },
   "outputs": [],
   "source": [
    "d_list = []\n",
    "for result in hs_hd_utils:\n",
    "    d_list.append({'util':result,'stakes':'high','cost':cost,'disp':'high'})\n",
    "df = pd.DataFrame(d_list)\n",
    "df.to_hdf('data/hs_hd_1cents_results-2','results')"
   ]
  },
  {
   "cell_type": "code",
   "execution_count": 18,
   "metadata": {},
   "outputs": [
    {
     "data": {
      "text/plain": [
       "7.816494466110364"
      ]
     },
     "execution_count": 18,
     "metadata": {},
     "output_type": "execute_result"
    }
   ],
   "source": [
    "df2 = pd.read_hdf('data/hs_hd_1cents_results-2','results')\n",
    "df2.util.mean()"
   ]
  },
  {
   "cell_type": "code",
   "execution_count": null,
   "metadata": {
    "collapsed": true,
    "scrolled": true
   },
   "outputs": [],
   "source": [
    "bo_pol, result = bo_policy(train_hs_ld, max_cost=30, n_jobs=100, n_calls=20,\n",
    "                           verbose=1, normalize_voi=True, return_result=True)\n",
    "np.save('data/hs_ld_1cents-2',bo_pol.theta)"
   ]
  },
  {
   "cell_type": "code",
   "execution_count": null,
   "metadata": {
    "collapsed": true
   },
   "outputs": [],
   "source": [
    "hs_ld_utils = get_util(bo_pol, test_hs_ld, parallel=Parallel(n_jobs=100),return_mean=False)"
   ]
  },
  {
   "cell_type": "code",
   "execution_count": null,
   "metadata": {
    "collapsed": true
   },
   "outputs": [],
   "source": [
    "d_list = []\n",
    "for result in hs_ld_utils:\n",
    "    d_list.append({'util':result,'stakes':'high','cost':cost,'disp':'low'})\n",
    "df = pd.DataFrame(d_list)\n",
    "df.to_hdf('data/hs_ld_1cents_results-2','results')"
   ]
  },
  {
   "cell_type": "code",
   "execution_count": 19,
   "metadata": {},
   "outputs": [
    {
     "data": {
      "text/plain": [
       "6.525158221767088"
      ]
     },
     "execution_count": 19,
     "metadata": {},
     "output_type": "execute_result"
    }
   ],
   "source": [
    "df2 = pd.read_hdf('data/hs_ld_1cents_results-2','results')\n",
    "df2.util.mean()"
   ]
  },
  {
   "cell_type": "code",
   "execution_count": null,
   "metadata": {
    "collapsed": true,
    "scrolled": true
   },
   "outputs": [],
   "source": [
    "bo_pol, result = bo_policy(train_ls_hd, max_cost=30, n_jobs=100, n_calls=20,\n",
    "                           verbose=1, normalize_voi=True, return_result=True)\n",
    "np.save('data/ls_hd_1cents-2',bo_pol.theta)"
   ]
  },
  {
   "cell_type": "code",
   "execution_count": null,
   "metadata": {
    "collapsed": true
   },
   "outputs": [],
   "source": [
    "ls_hd_utils = get_util(bo_pol, test_ls_hd, parallel=Parallel(n_jobs=100),return_mean=False)"
   ]
  },
  {
   "cell_type": "code",
   "execution_count": null,
   "metadata": {
    "collapsed": true
   },
   "outputs": [],
   "source": [
    "d_list = []\n",
    "for result in ls_hd_utils:\n",
    "    d_list.append({'util':result,'stakes':'low','cost':cost,'disp':'high'})\n",
    "df = pd.DataFrame(d_list)\n",
    "df.to_hdf('data/ls_hd_1cents_results-2','results')"
   ]
  },
  {
   "cell_type": "code",
   "execution_count": 20,
   "metadata": {},
   "outputs": [
    {
     "data": {
      "text/plain": [
       "0.1552926010921473"
      ]
     },
     "execution_count": 20,
     "metadata": {},
     "output_type": "execute_result"
    }
   ],
   "source": [
    "df2 = pd.read_hdf('data/ls_hd_1cents_results-2','results')\n",
    "df2.util.mean()"
   ]
  },
  {
   "cell_type": "code",
   "execution_count": null,
   "metadata": {
    "collapsed": true,
    "scrolled": true
   },
   "outputs": [],
   "source": [
    "bo_pol, result = bo_policy(train_ls_ld, max_cost=30, n_jobs=100, n_calls=20,\n",
    "                           verbose=1, normalize_voi=True, return_result=True)\n",
    "np.save('data/ls_ld_1cents-2',bo_pol.theta)"
   ]
  },
  {
   "cell_type": "code",
   "execution_count": null,
   "metadata": {
    "collapsed": true
   },
   "outputs": [],
   "source": [
    "ls_ld_utils = get_util(bo_pol, test_ls_ld, parallel=Parallel(n_jobs=100),return_mean=False)"
   ]
  },
  {
   "cell_type": "code",
   "execution_count": null,
   "metadata": {
    "collapsed": true
   },
   "outputs": [],
   "source": [
    "d_list = []\n",
    "for result in ls_ld_utils:\n",
    "    d_list.append({'util':result,'stakes':'low','cost':cost,'disp':'low'})\n",
    "df = pd.DataFrame(d_list)\n",
    "df.to_hdf('data/ls_ld_1cents_results-2','results')"
   ]
  },
  {
   "cell_type": "code",
   "execution_count": 21,
   "metadata": {},
   "outputs": [
    {
     "data": {
      "text/plain": [
       "0.13000000000000103"
      ]
     },
     "execution_count": 21,
     "metadata": {},
     "output_type": "execute_result"
    }
   ],
   "source": [
    "df2 = pd.read_hdf('data/ls_ld_1cents_results-2','results')\n",
    "df2.util.mean()"
   ]
  },
  {
   "cell_type": "markdown",
   "metadata": {},
   "source": [
    "## High Stakes 1 cents"
   ]
  },
  {
   "cell_type": "code",
   "execution_count": 60,
   "metadata": {},
   "outputs": [
    {
     "data": {
      "text/plain": [
       "[2.4259942112319113, 0.67950073753337825, 0.0, 0.32049926246662169, 1.0]"
      ]
     },
     "execution_count": 60,
     "metadata": {},
     "output_type": "execute_result"
    }
   ],
   "source": [
    "theta = list(np.load('data/high_stakes_1cents-prev.npy'))\n",
    "theta"
   ]
  },
  {
   "cell_type": "code",
   "execution_count": 22,
   "metadata": {
    "collapsed": true
   },
   "outputs": [],
   "source": [
    "gambles = 7\n",
    "attributes = 4\n",
    "# reward = Normal(0,1)\n",
    "# max_obs=30\n",
    "high_stakes = TruncatedNormal((9.99+0.01)/2, 0.3*(9.99-0.01),0.01,9.99)\n",
    "low_stakes = TruncatedNormal((0.25+0.01)/2, 0.3*(0.25-0.01),0.01,0.25)\n",
    "reward = high_stakes\n",
    "cost=.01\n",
    "\n",
    "#set to 20 for sanity check\n",
    "n_train = 250\n",
    "n_test = 250\n",
    "\n",
    "train_envs_hd = [OldMouselabEnv(gambles, hd_dist(attributes), reward, cost) for _ in range(n_train)]\n",
    "train_envs_ld = [OldMouselabEnv(gambles, ld_dist(attributes), reward, cost) for _ in range(n_train)]\n",
    "train_envs = train_envs_hd+train_envs_ld \n",
    "\n",
    "test_envs_hd =  [OldMouselabEnv(gambles, hd_dist(attributes), reward, cost) for _ in range(n_train)]\n",
    "test_envs_ld = [OldMouselabEnv(gambles, ld_dist(attributes), reward, cost) for _ in range(n_train)]\n",
    "test_envs = test_envs_hd+test_envs_ld \n",
    "\n",
    "term_action = train_envs[0].term_action"
   ]
  },
  {
   "cell_type": "code",
   "execution_count": 30,
   "metadata": {
    "collapsed": true
   },
   "outputs": [],
   "source": [
    "for env in train_envs_ld:\n",
    "    dist = env.dist\n",
    "    if np.min(dist) <= 0.10 or np.max(dist) >= 0.40:\n",
    "        print('goshdarn')\n",
    "        break"
   ]
  },
  {
   "cell_type": "code",
   "execution_count": null,
   "metadata": {
    "collapsed": true,
    "scrolled": true
   },
   "outputs": [],
   "source": [
    "a = datetime.datetime.now()\n",
    "# bop2 = bo_policy(train_envs, max_cost=max_obs, n_jobs=20, n_calls=20, x0=[1., 1., 0., 0.])\n",
    "bo_pol, result = bo_policy(train_envs, max_cost=30, n_jobs=100, n_calls=20, x0=theta[:-1],\n",
    "                           verbose=1, normalize_voi=True, return_result=True)\n",
    "t = datetime.datetime.now() - a\n",
    "print(t)"
   ]
  },
  {
   "cell_type": "code",
   "execution_count": null,
   "metadata": {
    "collapsed": true
   },
   "outputs": [],
   "source": [
    "# bo_pol_theta = np.load('low_stakes_0.5cents-2.npy')\n",
    "# bo_pol = LiederPolicy(list(bo_pol_theta))"
   ]
  },
  {
   "cell_type": "code",
   "execution_count": null,
   "metadata": {
    "collapsed": true
   },
   "outputs": [],
   "source": [
    "from skopt.plots import plot_convergence, plot_evaluations, plot_objective\n",
    "plot_convergence(result)"
   ]
  },
  {
   "cell_type": "code",
   "execution_count": null,
   "metadata": {
    "collapsed": true
   },
   "outputs": [],
   "source": [
    "bo_pol.theta"
   ]
  },
  {
   "cell_type": "code",
   "execution_count": null,
   "metadata": {
    "collapsed": true
   },
   "outputs": [],
   "source": [
    "np.save('data/high_stakes_trunc_1cents-6',bo_pol.theta)"
   ]
  },
  {
   "cell_type": "code",
   "execution_count": null,
   "metadata": {
    "collapsed": true
   },
   "outputs": [],
   "source": [
    "a = datetime.datetime.now()\n",
    "bo_utils = get_util(bo_pol, test_envs, parallel=Parallel(n_jobs=100),return_mean=False)\n",
    "t = datetime.datetime.now() - a"
   ]
  },
  {
   "cell_type": "code",
   "execution_count": null,
   "metadata": {
    "collapsed": true,
    "scrolled": true
   },
   "outputs": [],
   "source": [
    "np.mean(bo_utils)"
   ]
  },
  {
   "cell_type": "code",
   "execution_count": null,
   "metadata": {
    "collapsed": true
   },
   "outputs": [],
   "source": [
    "mg_pol = LiederPolicy([1, 1, 0, 0, 1])\n",
    "a = datetime.datetime.now()\n",
    "mg_utils = get_util(mg_pol, test_envs, parallel=Parallel(n_jobs=100),return_mean=False)\n",
    "t = datetime.datetime.now() - a"
   ]
  },
  {
   "cell_type": "code",
   "execution_count": null,
   "metadata": {
    "collapsed": true
   },
   "outputs": [],
   "source": [
    "np.mean(mg_utils)"
   ]
  },
  {
   "cell_type": "code",
   "execution_count": null,
   "metadata": {
    "collapsed": true
   },
   "outputs": [],
   "source": [
    "from scipy.stats import ttest_ind\n",
    "ttest_ind(bo_utils,mg_utils)"
   ]
  },
  {
   "cell_type": "code",
   "execution_count": null,
   "metadata": {
    "collapsed": true
   },
   "outputs": [],
   "source": [
    "from scipy.stats import ttest_rel\n",
    "ttest_rel(bo_utils,mg_utils)"
   ]
  },
  {
   "cell_type": "code",
   "execution_count": null,
   "metadata": {
    "collapsed": true
   },
   "outputs": [],
   "source": [
    "no_pol = FixedPlanPolicy([term_action])\n",
    "a = datetime.datetime.now()\n",
    "no_utils = get_util(no_pol, test_envs, parallel=Parallel(n_jobs=100),return_mean=False)\n",
    "t = datetime.datetime.now() - a"
   ]
  },
  {
   "cell_type": "code",
   "execution_count": null,
   "metadata": {
    "collapsed": true,
    "scrolled": true
   },
   "outputs": [],
   "source": [
    "np.mean(no_utils)"
   ]
  },
  {
   "cell_type": "code",
   "execution_count": null,
   "metadata": {
    "collapsed": true
   },
   "outputs": [],
   "source": [
    "fo_pol = FixedPlanPolicy(range(term_action+1))\n",
    "a = datetime.datetime.now()\n",
    "fo_utils = get_util(fo_pol, test_envs, parallel=Parallel(n_jobs=100),return_mean=False)\n",
    "t = datetime.datetime.now() - a"
   ]
  },
  {
   "cell_type": "code",
   "execution_count": null,
   "metadata": {
    "collapsed": true
   },
   "outputs": [],
   "source": [
    "np.mean(fo_utils)"
   ]
  },
  {
   "cell_type": "code",
   "execution_count": null,
   "metadata": {
    "collapsed": true
   },
   "outputs": [],
   "source": [
    "utils = [bo_utils,mg_utils,no_utils,fo_utils]\n",
    "policies = ['bo','metagreedy','none','full-obs']\n",
    "d_list = []\n",
    "for u,p in zip(utils,policies):\n",
    "    for result in u:\n",
    "        d_list.append({'util':result,'stakes':'high','cost':cost,'policy':p})"
   ]
  },
  {
   "cell_type": "code",
   "execution_count": null,
   "metadata": {
    "collapsed": true
   },
   "outputs": [],
   "source": [
    "df = pd.DataFrame(d_list)\n",
    "df"
   ]
  },
  {
   "cell_type": "code",
   "execution_count": null,
   "metadata": {
    "collapsed": true
   },
   "outputs": [],
   "source": [
    "df[df['policy'] == 'metagreedy'].util.mean()"
   ]
  },
  {
   "cell_type": "code",
   "execution_count": null,
   "metadata": {
    "collapsed": true
   },
   "outputs": [],
   "source": [
    "df.to_hdf('data/high_stakes_trunc_1cents_results-6','results')"
   ]
  },
  {
   "cell_type": "code",
   "execution_count": null,
   "metadata": {
    "collapsed": true
   },
   "outputs": [],
   "source": [
    "df2 = pd.read_hdf('data/high_stakes_trunc_1cents_results-6','results')"
   ]
  },
  {
   "cell_type": "code",
   "execution_count": null,
   "metadata": {
    "collapsed": true,
    "scrolled": true
   },
   "outputs": [],
   "source": [
    "df2[df2['policy']=='metagreedy'].util.mean()"
   ]
  },
  {
   "cell_type": "code",
   "execution_count": null,
   "metadata": {
    "collapsed": true
   },
   "outputs": [],
   "source": [
    "df2.groupby('policy').util.mean()"
   ]
  },
  {
   "cell_type": "markdown",
   "metadata": {},
   "source": [
    "## Validation"
   ]
  },
  {
   "cell_type": "code",
   "execution_count": 23,
   "metadata": {
    "collapsed": true
   },
   "outputs": [],
   "source": [
    "filenames = ['high_stakes_1cents.npy', 'high_stakes_trunc_1cents.npy', 'high_stakes_trunc_1cents-2.npy', \n",
    "             'high_stakes_trunc_1cents-3.npy','low_stakes_1cents-previous.npy','high_stakes_1cents-prev.npy',\n",
    "             'high_stakes_trunc_1cents-4.npy','high_stakes_trunc_1cents-5.npy']\n",
    "high_stakes = TruncatedNormal((9.99+0.01)/2, 0.3*(9.99-0.01),0.01,9.99)\n",
    "reward = high_stakes\n",
    "n_train = 250\n",
    "cost=.01\n",
    "test_envs_hd =  [OldMouselabEnv(gambles, hd_dist(attributes), reward, cost) for _ in range(n_train*4)]\n",
    "test_envs_ld = [OldMouselabEnv(gambles, ld_dist(attributes), reward, cost) for _ in range(n_train*4)]"
   ]
  },
  {
   "cell_type": "code",
   "execution_count": null,
   "metadata": {},
   "outputs": [
    {
     "name": "stdout",
     "output_type": "stream",
     "text": [
      "[ 1.     0.405  0.405  0.19   1.   ]\n"
     ]
    }
   ],
   "source": [
    "val_util = []\n",
    "d_list = []\n",
    "for polfil in filenames:\n",
    "    bo_pol_theta = np.load('data/'+polfil)\n",
    "    print(bo_pol_theta)\n",
    "    bo_pol = LiederPolicy(list(bo_pol_theta))\n",
    "    \n",
    "    polutil_hd = get_util(bo_pol, test_envs_hd, parallel=Parallel(n_jobs=20),return_mean=False)\n",
    "    print(np.mean(polutil_hd))\n",
    "    for result in polutil_hd:\n",
    "        d_list.append({'util':result,'disp':'hd','policy':polfil})\n",
    "        \n",
    "    polutil_ld = get_util(bo_pol, test_envs_ld, parallel=Parallel(n_jobs=20),return_mean=False)\n",
    "    print(np.mean(polutil_ld))\n",
    "    for result in polutil_ld:\n",
    "        d_list.append({'util':result,'disp':'ld','policy':polfil})\n",
    "        \n",
    "    val_util.append(np.mean(polutil_hd))\n",
    "    val_util.append(np.mean(polutil_ld))\n",
    "df_comb = pd.DataFrame(d_list)\n",
    "df_comb.to_hdf('data/high_stakes_val_1cents_comb_results-2','results')"
   ]
  },
  {
   "cell_type": "code",
   "execution_count": 2,
   "metadata": {
    "collapsed": true
   },
   "outputs": [],
   "source": [
    "df_comb = pd.read_hdf('data/high_stakes_val_1cents_comb_results-2','results')"
   ]
  },
  {
   "cell_type": "code",
   "execution_count": 3,
   "metadata": {
    "scrolled": true
   },
   "outputs": [
    {
     "data": {
      "text/plain": [
       "policy\n",
       "high_stakes_1cents-prev.npy       7.144511\n",
       "high_stakes_1cents.npy            7.147967\n",
       "high_stakes_trunc_1cents-2.npy    7.150941\n",
       "high_stakes_trunc_1cents-3.npy    7.146371\n",
       "high_stakes_trunc_1cents-4.npy    7.151704\n",
       "high_stakes_trunc_1cents-5.npy    7.142104\n",
       "high_stakes_trunc_1cents.npy      7.144583\n",
       "low_stakes_1cents-previous.npy    7.147655\n",
       "Name: util, dtype: float64"
      ]
     },
     "execution_count": 3,
     "metadata": {},
     "output_type": "execute_result"
    }
   ],
   "source": [
    "df_comb.groupby('policy').util.mean()"
   ]
  },
  {
   "cell_type": "code",
   "execution_count": 20,
   "metadata": {
    "collapsed": true
   },
   "outputs": [],
   "source": [
    "df = df_comb"
   ]
  },
  {
   "cell_type": "code",
   "execution_count": 24,
   "metadata": {
    "collapsed": true
   },
   "outputs": [],
   "source": [
    "std_errs = [df[df['policy'] == polfil].util.std()*1.96/np.sqrt(2000) for polfil in filenames]"
   ]
  },
  {
   "cell_type": "code",
   "execution_count": 25,
   "metadata": {},
   "outputs": [
    {
     "data": {
      "text/plain": [
       "[0.050122603757208006,\n",
       " 0.049106754648099042,\n",
       " 0.049012554706031226,\n",
       " 0.049144514404010485,\n",
       " 0.04912032261528021,\n",
       " 0.049904411383318838,\n",
       " 0.049521653169151546,\n",
       " 0.048995628300695711]"
      ]
     },
     "execution_count": 25,
     "metadata": {},
     "output_type": "execute_result"
    }
   ],
   "source": [
    "std_errs"
   ]
  },
  {
   "cell_type": "code",
   "execution_count": 26,
   "metadata": {
    "collapsed": true
   },
   "outputs": [],
   "source": [
    "means = [df[df['policy'] == polfil].util.mean() for polfil in filenames]"
   ]
  },
  {
   "cell_type": "code",
   "execution_count": 27,
   "metadata": {},
   "outputs": [
    {
     "data": {
      "text/plain": [
       "[7.147966594908242,\n",
       " 7.14458275114287,\n",
       " 7.150940572407325,\n",
       " 7.146371440329115,\n",
       " 7.147655161304414,\n",
       " 7.144510512735714,\n",
       " 7.151704452947731,\n",
       " 7.142104427826357]"
      ]
     },
     "execution_count": 27,
     "metadata": {},
     "output_type": "execute_result"
    }
   ],
   "source": [
    "means"
   ]
  },
  {
   "cell_type": "markdown",
   "metadata": {},
   "source": [
    "## Low Stakes 1 cents"
   ]
  },
  {
   "cell_type": "code",
   "execution_count": 89,
   "metadata": {
    "collapsed": true
   },
   "outputs": [],
   "source": [
    "gambles = 7\n",
    "attributes = 4\n",
    "# reward = Normal(0,1)\n",
    "# max_obs=30\n",
    "high_stakes = TruncatedNormal((9.99+0.01)/2, 0.3*(9.99-0.01),0.01,9.99)\n",
    "low_stakes = TruncatedNormal((0.25+0.01)/2, 0.3*(0.25-0.01),0.01,0.25)\n",
    "reward = low_stakes\n",
    "cost=.01\n",
    "\n",
    "#set to 20 for sanity check\n",
    "n_train = 250\n",
    "n_test = 250\n",
    "\n",
    "train_envs_hd = [OldMouselabEnv(gambles, hd_dist(attributes), reward, cost) for _ in range(n_train)]\n",
    "train_envs_ld = [OldMouselabEnv(gambles, ld_dist(attributes), reward, cost) for _ in range(n_train)]\n",
    "train_envs = train_envs_hd+train_envs_ld \n",
    "\n",
    "test_envs_hd =  [OldMouselabEnv(gambles, hd_dist(attributes), reward, cost) for _ in range(n_train)]\n",
    "test_envs_ld = [OldMouselabEnv(gambles, ld_dist(attributes), reward, cost) for _ in range(n_train)]\n",
    "test_envs = test_envs_hd+test_envs_ld \n",
    "\n",
    "term_action = train_envs[0].term_action"
   ]
  },
  {
   "cell_type": "code",
   "execution_count": 90,
   "metadata": {
    "collapsed": true
   },
   "outputs": [],
   "source": [
    "for env in train_envs_ld:\n",
    "    dist = env.dist\n",
    "    if np.min(dist) <= 0.10 or np.max(dist) >= 0.40:\n",
    "        print('goshdarn')\n",
    "        break"
   ]
  },
  {
   "cell_type": "code",
   "execution_count": 91,
   "metadata": {
    "scrolled": true
   },
   "outputs": [
    {
     "name": "stdout",
     "output_type": "stream",
     "text": [
      "[ 18.192   0.331   0.337   0.332   1.   ] -> 0.13 in 39 sec\n",
      "[ 19.083   0.52    0.403   0.077   1.   ] -> 0.13 in 39 sec\n",
      "[ 8.907  0.27   0.459  0.271  1.   ] -> 0.13 in 39 sec\n",
      "[ 12.391   0.459   0.185   0.356   1.   ] -> 0.13 in 39 sec\n",
      "[ 11.679   0.486   0.071   0.442   1.   ] -> 0.13 in 39 sec\n",
      "[ 14.735   0.4     0.26    0.339   1.   ] -> 0.13 in 39 sec\n",
      "[ 21.898   0.31    0.286   0.404   1.   ] -> 0.13 in 39 sec\n",
      "[ 4.071  0.339  0.133  0.528  1.   ] -> 0.142 in 81 sec\n",
      "[ 7.28   0.222  0.532  0.246  1.   ] -> 0.13 in 39 sec\n",
      "[ 7.447  0.222  0.519  0.259  1.   ] -> 0.13 in 39 sec\n",
      "[ 1.  0.  0.  1.  1.] -> -0.01 in 433 sec\n",
      "[ 30.      0.333   0.333   0.333   1.   ] -> 0.13 in 39 sec\n",
      "[ 1.     0.375  0.251  0.375  1.   ] -> 0.123 in 205 sec\n",
      "[ 30.    0.5   0.5   0.    1. ] -> 0.13 in 39 sec\n",
      "[ 19.032   0.129   0.806   0.065   1.   ] -> 0.13 in 39 sec\n",
      "[ 30.      0.452   0.096   0.452   1.   ] -> 0.13 in 39 sec\n",
      "[ 1.     0.318  0.     0.682  1.   ] -> 0.11 in 244 sec\n",
      "[ 1.  1.  0.  0.  1.] -> 0.141 in 109 sec\n",
      "[ 1.    0.36  0.64  0.    1.  ] -> 0.139 in 139 sec\n",
      "[ 30.      0.717   0.      0.283   1.   ] -> 0.13 in 39 sec\n",
      "BO: [ 4.071  0.339  0.133  0.528  1.   ] -> 0.142 in 1763 sec\n",
      "0:29:23.171311\n"
     ]
    }
   ],
   "source": [
    "a = datetime.datetime.now()\n",
    "# bop2 = bo_policy(train_envs, max_cost=max_obs, n_jobs=20, n_calls=20, x0=[1., 1., 0., 0.])\n",
    "bo_pol, result = bo_policy(train_envs, max_cost=30, n_jobs=100, n_calls=20,\n",
    "                           verbose=1, normalize_voi=True, return_result=True)\n",
    "t = datetime.datetime.now() - a\n",
    "print(t)"
   ]
  },
  {
   "cell_type": "code",
   "execution_count": 92,
   "metadata": {
    "collapsed": true
   },
   "outputs": [],
   "source": [
    "# bo_pol_theta = np.load('low_stakes_0.5cents-2.npy')\n",
    "# bo_pol = LiederPolicy(list(bo_pol_theta))"
   ]
  },
  {
   "cell_type": "code",
   "execution_count": 93,
   "metadata": {},
   "outputs": [
    {
     "data": {
      "text/plain": [
       "<matplotlib.axes._subplots.AxesSubplot at 0x2b531df7d550>"
      ]
     },
     "execution_count": 93,
     "metadata": {},
     "output_type": "execute_result"
    },
    {
     "name": "stderr",
     "output_type": "stream",
     "text": [
      "/global/software/sl-7.x86_64/modules/langs/python/3.6/lib/python3.6/site-packages/matplotlib/font_manager.py:1297: UserWarning: findfont: Font family ['sans-serif'] not found. Falling back to DejaVu Sans\n",
      "  (prop.get_family(), self.defaultFamily[fontext]))\n"
     ]
    },
    {
     "data": {
      "image/png": "[encoded data removed]",
      "text/plain": [
       "<matplotlib.figure.Figure at 0x2b536bf58828>"
      ]
     },
     "metadata": {},
     "output_type": "display_data"
    }
   ],
   "source": [
    "from skopt.plots import plot_convergence, plot_evaluations, plot_objective\n",
    "plot_convergence(result)"
   ]
  },
  {
   "cell_type": "code",
   "execution_count": 94,
   "metadata": {
    "scrolled": true
   },
   "outputs": [
    {
     "data": {
      "text/plain": [
       "array([ 4.071,  0.339,  0.133,  0.528,  1.   ])"
      ]
     },
     "execution_count": 94,
     "metadata": {},
     "output_type": "execute_result"
    }
   ],
   "source": [
    "bo_pol.theta"
   ]
  },
  {
   "cell_type": "code",
   "execution_count": 95,
   "metadata": {
    "collapsed": true
   },
   "outputs": [],
   "source": [
    "np.save('data/low_stakes_trunc_1cents-6',bo_pol.theta)"
   ]
  },
  {
   "cell_type": "code",
   "execution_count": 96,
   "metadata": {
    "collapsed": true
   },
   "outputs": [],
   "source": [
    "a = datetime.datetime.now()\n",
    "bo_utils = get_util(bo_pol, test_envs, parallel=Parallel(n_jobs=100),return_mean=False)\n",
    "t = datetime.datetime.now() - a"
   ]
  },
  {
   "cell_type": "code",
   "execution_count": 97,
   "metadata": {
    "scrolled": true
   },
   "outputs": [
    {
     "data": {
      "text/plain": [
       "0.14169658196955048"
      ]
     },
     "execution_count": 97,
     "metadata": {},
     "output_type": "execute_result"
    }
   ],
   "source": [
    "np.mean(bo_utils)"
   ]
  },
  {
   "cell_type": "code",
   "execution_count": 98,
   "metadata": {
    "collapsed": true
   },
   "outputs": [],
   "source": [
    "mg_pol = LiederPolicy([1, 1, 0, 0, 1])\n",
    "a = datetime.datetime.now()\n",
    "mg_utils = get_util(mg_pol, test_envs, parallel=Parallel(n_jobs=100),return_mean=False)\n",
    "t = datetime.datetime.now() - a"
   ]
  },
  {
   "cell_type": "code",
   "execution_count": 99,
   "metadata": {},
   "outputs": [
    {
     "data": {
      "text/plain": [
       "0.14241048998277861"
      ]
     },
     "execution_count": 99,
     "metadata": {},
     "output_type": "execute_result"
    }
   ],
   "source": [
    "np.mean(mg_utils)"
   ]
  },
  {
   "cell_type": "code",
   "execution_count": 100,
   "metadata": {},
   "outputs": [
    {
     "data": {
      "text/plain": [
       "Ttest_indResult(statistic=-0.3804105282777559, pvalue=0.70372164993800035)"
      ]
     },
     "execution_count": 100,
     "metadata": {},
     "output_type": "execute_result"
    }
   ],
   "source": [
    "from scipy.stats import ttest_ind\n",
    "ttest_ind(bo_utils,mg_utils)"
   ]
  },
  {
   "cell_type": "code",
   "execution_count": 101,
   "metadata": {},
   "outputs": [
    {
     "data": {
      "text/plain": [
       "Ttest_relResult(statistic=-0.59531649292444955, pvalue=0.55190181269268335)"
      ]
     },
     "execution_count": 101,
     "metadata": {},
     "output_type": "execute_result"
    }
   ],
   "source": [
    "from scipy.stats import ttest_rel\n",
    "ttest_rel(bo_utils,mg_utils)"
   ]
  },
  {
   "cell_type": "code",
   "execution_count": 102,
   "metadata": {
    "collapsed": true
   },
   "outputs": [],
   "source": [
    "no_pol = FixedPlanPolicy([term_action])\n",
    "a = datetime.datetime.now()\n",
    "no_utils = get_util(no_pol, test_envs, parallel=Parallel(n_jobs=100),return_mean=False)\n",
    "t = datetime.datetime.now() - a"
   ]
  },
  {
   "cell_type": "code",
   "execution_count": 103,
   "metadata": {
    "scrolled": true
   },
   "outputs": [
    {
     "data": {
      "text/plain": [
       "0.12999999999999998"
      ]
     },
     "execution_count": 103,
     "metadata": {},
     "output_type": "execute_result"
    }
   ],
   "source": [
    "np.mean(no_utils)"
   ]
  },
  {
   "cell_type": "code",
   "execution_count": 104,
   "metadata": {
    "collapsed": true
   },
   "outputs": [],
   "source": [
    "fo_pol = FixedPlanPolicy(range(term_action+1))\n",
    "a = datetime.datetime.now()\n",
    "fo_utils = get_util(fo_pol, test_envs, parallel=Parallel(n_jobs=100),return_mean=False)\n",
    "t = datetime.datetime.now() - a"
   ]
  },
  {
   "cell_type": "code",
   "execution_count": 105,
   "metadata": {},
   "outputs": [
    {
     "data": {
      "text/plain": [
       "-0.096061964254237783"
      ]
     },
     "execution_count": 105,
     "metadata": {},
     "output_type": "execute_result"
    }
   ],
   "source": [
    "np.mean(fo_utils)"
   ]
  },
  {
   "cell_type": "code",
   "execution_count": 106,
   "metadata": {
    "collapsed": true
   },
   "outputs": [],
   "source": [
    "utils = [bo_utils,mg_utils,no_utils,fo_utils]\n",
    "policies = ['bo','metagreedy','none','full-obs']\n",
    "d_list = []\n",
    "for u,p in zip(utils,policies):\n",
    "    for result in u:\n",
    "        d_list.append({'util':result,'stakes':'low','cost':cost,'policy':p})"
   ]
  },
  {
   "cell_type": "code",
   "execution_count": 107,
   "metadata": {},
   "outputs": [
    {
     "data": {
      "text/html": [
       "<div>\n",
       "<table border=\"1\" class=\"dataframe\">\n",
       "  <thead>\n",
       "    <tr style=\"text-align: right;\">\n",
       "      <th></th>\n",
       "      <th>cost</th>\n",
       "      <th>policy</th>\n",
       "      <th>stakes</th>\n",
       "      <th>util</th>\n",
       "    </tr>\n",
       "  </thead>\n",
       "  <tbody>\n",
       "    <tr>\n",
       "      <th>0</th>\n",
       "      <td>0.01</td>\n",
       "      <td>bo</td>\n",
       "      <td>low</td>\n",
       "      <td>0.098143</td>\n",
       "    </tr>\n",
       "    <tr>\n",
       "      <th>1</th>\n",
       "      <td>0.01</td>\n",
       "      <td>bo</td>\n",
       "      <td>low</td>\n",
       "      <td>0.099230</td>\n",
       "    </tr>\n",
       "    <tr>\n",
       "      <th>2</th>\n",
       "      <td>0.01</td>\n",
       "      <td>bo</td>\n",
       "      <td>low</td>\n",
       "      <td>0.105363</td>\n",
       "    </tr>\n",
       "    <tr>\n",
       "      <th>3</th>\n",
       "      <td>0.01</td>\n",
       "      <td>bo</td>\n",
       "      <td>low</td>\n",
       "      <td>0.133515</td>\n",
       "    </tr>\n",
       "    <tr>\n",
       "      <th>4</th>\n",
       "      <td>0.01</td>\n",
       "      <td>bo</td>\n",
       "      <td>low</td>\n",
       "      <td>0.197038</td>\n",
       "    </tr>\n",
       "    <tr>\n",
       "      <th>5</th>\n",
       "      <td>0.01</td>\n",
       "      <td>bo</td>\n",
       "      <td>low</td>\n",
       "      <td>0.203924</td>\n",
       "    </tr>\n",
       "    <tr>\n",
       "      <th>6</th>\n",
       "      <td>0.01</td>\n",
       "      <td>bo</td>\n",
       "      <td>low</td>\n",
       "      <td>0.142094</td>\n",
       "    </tr>\n",
       "    <tr>\n",
       "      <th>7</th>\n",
       "      <td>0.01</td>\n",
       "      <td>bo</td>\n",
       "      <td>low</td>\n",
       "      <td>0.128683</td>\n",
       "    </tr>\n",
       "    <tr>\n",
       "      <th>8</th>\n",
       "      <td>0.01</td>\n",
       "      <td>bo</td>\n",
       "      <td>low</td>\n",
       "      <td>0.168572</td>\n",
       "    </tr>\n",
       "    <tr>\n",
       "      <th>9</th>\n",
       "      <td>0.01</td>\n",
       "      <td>bo</td>\n",
       "      <td>low</td>\n",
       "      <td>0.080000</td>\n",
       "    </tr>\n",
       "    <tr>\n",
       "      <th>10</th>\n",
       "      <td>0.01</td>\n",
       "      <td>bo</td>\n",
       "      <td>low</td>\n",
       "      <td>0.179445</td>\n",
       "    </tr>\n",
       "    <tr>\n",
       "      <th>11</th>\n",
       "      <td>0.01</td>\n",
       "      <td>bo</td>\n",
       "      <td>low</td>\n",
       "      <td>0.093369</td>\n",
       "    </tr>\n",
       "    <tr>\n",
       "      <th>12</th>\n",
       "      <td>0.01</td>\n",
       "      <td>bo</td>\n",
       "      <td>low</td>\n",
       "      <td>0.214322</td>\n",
       "    </tr>\n",
       "    <tr>\n",
       "      <th>13</th>\n",
       "      <td>0.01</td>\n",
       "      <td>bo</td>\n",
       "      <td>low</td>\n",
       "      <td>0.119211</td>\n",
       "    </tr>\n",
       "    <tr>\n",
       "      <th>14</th>\n",
       "      <td>0.01</td>\n",
       "      <td>bo</td>\n",
       "      <td>low</td>\n",
       "      <td>0.137761</td>\n",
       "    </tr>\n",
       "    <tr>\n",
       "      <th>15</th>\n",
       "      <td>0.01</td>\n",
       "      <td>bo</td>\n",
       "      <td>low</td>\n",
       "      <td>0.207722</td>\n",
       "    </tr>\n",
       "    <tr>\n",
       "      <th>16</th>\n",
       "      <td>0.01</td>\n",
       "      <td>bo</td>\n",
       "      <td>low</td>\n",
       "      <td>0.129093</td>\n",
       "    </tr>\n",
       "    <tr>\n",
       "      <th>17</th>\n",
       "      <td>0.01</td>\n",
       "      <td>bo</td>\n",
       "      <td>low</td>\n",
       "      <td>0.195643</td>\n",
       "    </tr>\n",
       "    <tr>\n",
       "      <th>18</th>\n",
       "      <td>0.01</td>\n",
       "      <td>bo</td>\n",
       "      <td>low</td>\n",
       "      <td>0.180858</td>\n",
       "    </tr>\n",
       "    <tr>\n",
       "      <th>19</th>\n",
       "      <td>0.01</td>\n",
       "      <td>bo</td>\n",
       "      <td>low</td>\n",
       "      <td>0.113142</td>\n",
       "    </tr>\n",
       "    <tr>\n",
       "      <th>20</th>\n",
       "      <td>0.01</td>\n",
       "      <td>bo</td>\n",
       "      <td>low</td>\n",
       "      <td>0.197591</td>\n",
       "    </tr>\n",
       "    <tr>\n",
       "      <th>21</th>\n",
       "      <td>0.01</td>\n",
       "      <td>bo</td>\n",
       "      <td>low</td>\n",
       "      <td>0.149454</td>\n",
       "    </tr>\n",
       "    <tr>\n",
       "      <th>22</th>\n",
       "      <td>0.01</td>\n",
       "      <td>bo</td>\n",
       "      <td>low</td>\n",
       "      <td>0.129301</td>\n",
       "    </tr>\n",
       "    <tr>\n",
       "      <th>23</th>\n",
       "      <td>0.01</td>\n",
       "      <td>bo</td>\n",
       "      <td>low</td>\n",
       "      <td>0.129976</td>\n",
       "    </tr>\n",
       "    <tr>\n",
       "      <th>24</th>\n",
       "      <td>0.01</td>\n",
       "      <td>bo</td>\n",
       "      <td>low</td>\n",
       "      <td>0.129598</td>\n",
       "    </tr>\n",
       "    <tr>\n",
       "      <th>25</th>\n",
       "      <td>0.01</td>\n",
       "      <td>bo</td>\n",
       "      <td>low</td>\n",
       "      <td>0.173316</td>\n",
       "    </tr>\n",
       "    <tr>\n",
       "      <th>26</th>\n",
       "      <td>0.01</td>\n",
       "      <td>bo</td>\n",
       "      <td>low</td>\n",
       "      <td>0.167613</td>\n",
       "    </tr>\n",
       "    <tr>\n",
       "      <th>27</th>\n",
       "      <td>0.01</td>\n",
       "      <td>bo</td>\n",
       "      <td>low</td>\n",
       "      <td>0.092203</td>\n",
       "    </tr>\n",
       "    <tr>\n",
       "      <th>28</th>\n",
       "      <td>0.01</td>\n",
       "      <td>bo</td>\n",
       "      <td>low</td>\n",
       "      <td>0.179529</td>\n",
       "    </tr>\n",
       "    <tr>\n",
       "      <th>29</th>\n",
       "      <td>0.01</td>\n",
       "      <td>bo</td>\n",
       "      <td>low</td>\n",
       "      <td>0.177619</td>\n",
       "    </tr>\n",
       "    <tr>\n",
       "      <th>...</th>\n",
       "      <td>...</td>\n",
       "      <td>...</td>\n",
       "      <td>...</td>\n",
       "      <td>...</td>\n",
       "    </tr>\n",
       "    <tr>\n",
       "      <th>1970</th>\n",
       "      <td>0.01</td>\n",
       "      <td>full-obs</td>\n",
       "      <td>low</td>\n",
       "      <td>-0.116642</td>\n",
       "    </tr>\n",
       "    <tr>\n",
       "      <th>1971</th>\n",
       "      <td>0.01</td>\n",
       "      <td>full-obs</td>\n",
       "      <td>low</td>\n",
       "      <td>-0.113954</td>\n",
       "    </tr>\n",
       "    <tr>\n",
       "      <th>1972</th>\n",
       "      <td>0.01</td>\n",
       "      <td>full-obs</td>\n",
       "      <td>low</td>\n",
       "      <td>-0.141848</td>\n",
       "    </tr>\n",
       "    <tr>\n",
       "      <th>1973</th>\n",
       "      <td>0.01</td>\n",
       "      <td>full-obs</td>\n",
       "      <td>low</td>\n",
       "      <td>-0.113657</td>\n",
       "    </tr>\n",
       "    <tr>\n",
       "      <th>1974</th>\n",
       "      <td>0.01</td>\n",
       "      <td>full-obs</td>\n",
       "      <td>low</td>\n",
       "      <td>-0.122507</td>\n",
       "    </tr>\n",
       "    <tr>\n",
       "      <th>1975</th>\n",
       "      <td>0.01</td>\n",
       "      <td>full-obs</td>\n",
       "      <td>low</td>\n",
       "      <td>-0.098940</td>\n",
       "    </tr>\n",
       "    <tr>\n",
       "      <th>1976</th>\n",
       "      <td>0.01</td>\n",
       "      <td>full-obs</td>\n",
       "      <td>low</td>\n",
       "      <td>-0.096534</td>\n",
       "    </tr>\n",
       "    <tr>\n",
       "      <th>1977</th>\n",
       "      <td>0.01</td>\n",
       "      <td>full-obs</td>\n",
       "      <td>low</td>\n",
       "      <td>-0.121890</td>\n",
       "    </tr>\n",
       "    <tr>\n",
       "      <th>1978</th>\n",
       "      <td>0.01</td>\n",
       "      <td>full-obs</td>\n",
       "      <td>low</td>\n",
       "      <td>-0.086954</td>\n",
       "    </tr>\n",
       "    <tr>\n",
       "      <th>1979</th>\n",
       "      <td>0.01</td>\n",
       "      <td>full-obs</td>\n",
       "      <td>low</td>\n",
       "      <td>-0.114757</td>\n",
       "    </tr>\n",
       "    <tr>\n",
       "      <th>1980</th>\n",
       "      <td>0.01</td>\n",
       "      <td>full-obs</td>\n",
       "      <td>low</td>\n",
       "      <td>-0.098694</td>\n",
       "    </tr>\n",
       "    <tr>\n",
       "      <th>1981</th>\n",
       "      <td>0.01</td>\n",
       "      <td>full-obs</td>\n",
       "      <td>low</td>\n",
       "      <td>-0.114475</td>\n",
       "    </tr>\n",
       "    <tr>\n",
       "      <th>1982</th>\n",
       "      <td>0.01</td>\n",
       "      <td>full-obs</td>\n",
       "      <td>low</td>\n",
       "      <td>-0.138285</td>\n",
       "    </tr>\n",
       "    <tr>\n",
       "      <th>1983</th>\n",
       "      <td>0.01</td>\n",
       "      <td>full-obs</td>\n",
       "      <td>low</td>\n",
       "      <td>-0.093620</td>\n",
       "    </tr>\n",
       "    <tr>\n",
       "      <th>1984</th>\n",
       "      <td>0.01</td>\n",
       "      <td>full-obs</td>\n",
       "      <td>low</td>\n",
       "      <td>-0.090125</td>\n",
       "    </tr>\n",
       "    <tr>\n",
       "      <th>1985</th>\n",
       "      <td>0.01</td>\n",
       "      <td>full-obs</td>\n",
       "      <td>low</td>\n",
       "      <td>-0.119952</td>\n",
       "    </tr>\n",
       "    <tr>\n",
       "      <th>1986</th>\n",
       "      <td>0.01</td>\n",
       "      <td>full-obs</td>\n",
       "      <td>low</td>\n",
       "      <td>-0.108028</td>\n",
       "    </tr>\n",
       "    <tr>\n",
       "      <th>1987</th>\n",
       "      <td>0.01</td>\n",
       "      <td>full-obs</td>\n",
       "      <td>low</td>\n",
       "      <td>-0.066141</td>\n",
       "    </tr>\n",
       "    <tr>\n",
       "      <th>1988</th>\n",
       "      <td>0.01</td>\n",
       "      <td>full-obs</td>\n",
       "      <td>low</td>\n",
       "      <td>-0.107095</td>\n",
       "    </tr>\n",
       "    <tr>\n",
       "      <th>1989</th>\n",
       "      <td>0.01</td>\n",
       "      <td>full-obs</td>\n",
       "      <td>low</td>\n",
       "      <td>-0.095667</td>\n",
       "    </tr>\n",
       "    <tr>\n",
       "      <th>1990</th>\n",
       "      <td>0.01</td>\n",
       "      <td>full-obs</td>\n",
       "      <td>low</td>\n",
       "      <td>-0.131628</td>\n",
       "    </tr>\n",
       "    <tr>\n",
       "      <th>1991</th>\n",
       "      <td>0.01</td>\n",
       "      <td>full-obs</td>\n",
       "      <td>low</td>\n",
       "      <td>-0.128461</td>\n",
       "    </tr>\n",
       "    <tr>\n",
       "      <th>1992</th>\n",
       "      <td>0.01</td>\n",
       "      <td>full-obs</td>\n",
       "      <td>low</td>\n",
       "      <td>-0.108204</td>\n",
       "    </tr>\n",
       "    <tr>\n",
       "      <th>1993</th>\n",
       "      <td>0.01</td>\n",
       "      <td>full-obs</td>\n",
       "      <td>low</td>\n",
       "      <td>-0.087889</td>\n",
       "    </tr>\n",
       "    <tr>\n",
       "      <th>1994</th>\n",
       "      <td>0.01</td>\n",
       "      <td>full-obs</td>\n",
       "      <td>low</td>\n",
       "      <td>-0.105174</td>\n",
       "    </tr>\n",
       "    <tr>\n",
       "      <th>1995</th>\n",
       "      <td>0.01</td>\n",
       "      <td>full-obs</td>\n",
       "      <td>low</td>\n",
       "      <td>-0.049895</td>\n",
       "    </tr>\n",
       "    <tr>\n",
       "      <th>1996</th>\n",
       "      <td>0.01</td>\n",
       "      <td>full-obs</td>\n",
       "      <td>low</td>\n",
       "      <td>-0.097568</td>\n",
       "    </tr>\n",
       "    <tr>\n",
       "      <th>1997</th>\n",
       "      <td>0.01</td>\n",
       "      <td>full-obs</td>\n",
       "      <td>low</td>\n",
       "      <td>-0.139646</td>\n",
       "    </tr>\n",
       "    <tr>\n",
       "      <th>1998</th>\n",
       "      <td>0.01</td>\n",
       "      <td>full-obs</td>\n",
       "      <td>low</td>\n",
       "      <td>-0.167519</td>\n",
       "    </tr>\n",
       "    <tr>\n",
       "      <th>1999</th>\n",
       "      <td>0.01</td>\n",
       "      <td>full-obs</td>\n",
       "      <td>low</td>\n",
       "      <td>-0.131405</td>\n",
       "    </tr>\n",
       "  </tbody>\n",
       "</table>\n",
       "<p>2000 rows × 4 columns</p>\n",
       "</div>"
      ],
      "text/plain": [
       "      cost    policy stakes      util\n",
       "0     0.01        bo    low  0.098143\n",
       "1     0.01        bo    low  0.099230\n",
       "2     0.01        bo    low  0.105363\n",
       "3     0.01        bo    low  0.133515\n",
       "4     0.01        bo    low  0.197038\n",
       "5     0.01        bo    low  0.203924\n",
       "6     0.01        bo    low  0.142094\n",
       "7     0.01        bo    low  0.128683\n",
       "8     0.01        bo    low  0.168572\n",
       "9     0.01        bo    low  0.080000\n",
       "10    0.01        bo    low  0.179445\n",
       "11    0.01        bo    low  0.093369\n",
       "12    0.01        bo    low  0.214322\n",
       "13    0.01        bo    low  0.119211\n",
       "14    0.01        bo    low  0.137761\n",
       "15    0.01        bo    low  0.207722\n",
       "16    0.01        bo    low  0.129093\n",
       "17    0.01        bo    low  0.195643\n",
       "18    0.01        bo    low  0.180858\n",
       "19    0.01        bo    low  0.113142\n",
       "20    0.01        bo    low  0.197591\n",
       "21    0.01        bo    low  0.149454\n",
       "22    0.01        bo    low  0.129301\n",
       "23    0.01        bo    low  0.129976\n",
       "24    0.01        bo    low  0.129598\n",
       "25    0.01        bo    low  0.173316\n",
       "26    0.01        bo    low  0.167613\n",
       "27    0.01        bo    low  0.092203\n",
       "28    0.01        bo    low  0.179529\n",
       "29    0.01        bo    low  0.177619\n",
       "...    ...       ...    ...       ...\n",
       "1970  0.01  full-obs    low -0.116642\n",
       "1971  0.01  full-obs    low -0.113954\n",
       "1972  0.01  full-obs    low -0.141848\n",
       "1973  0.01  full-obs    low -0.113657\n",
       "1974  0.01  full-obs    low -0.122507\n",
       "1975  0.01  full-obs    low -0.098940\n",
       "1976  0.01  full-obs    low -0.096534\n",
       "1977  0.01  full-obs    low -0.121890\n",
       "1978  0.01  full-obs    low -0.086954\n",
       "1979  0.01  full-obs    low -0.114757\n",
       "1980  0.01  full-obs    low -0.098694\n",
       "1981  0.01  full-obs    low -0.114475\n",
       "1982  0.01  full-obs    low -0.138285\n",
       "1983  0.01  full-obs    low -0.093620\n",
       "1984  0.01  full-obs    low -0.090125\n",
       "1985  0.01  full-obs    low -0.119952\n",
       "1986  0.01  full-obs    low -0.108028\n",
       "1987  0.01  full-obs    low -0.066141\n",
       "1988  0.01  full-obs    low -0.107095\n",
       "1989  0.01  full-obs    low -0.095667\n",
       "1990  0.01  full-obs    low -0.131628\n",
       "1991  0.01  full-obs    low -0.128461\n",
       "1992  0.01  full-obs    low -0.108204\n",
       "1993  0.01  full-obs    low -0.087889\n",
       "1994  0.01  full-obs    low -0.105174\n",
       "1995  0.01  full-obs    low -0.049895\n",
       "1996  0.01  full-obs    low -0.097568\n",
       "1997  0.01  full-obs    low -0.139646\n",
       "1998  0.01  full-obs    low -0.167519\n",
       "1999  0.01  full-obs    low -0.131405\n",
       "\n",
       "[2000 rows x 4 columns]"
      ]
     },
     "execution_count": 107,
     "metadata": {},
     "output_type": "execute_result"
    }
   ],
   "source": [
    "df = pd.DataFrame(d_list)\n",
    "df"
   ]
  },
  {
   "cell_type": "code",
   "execution_count": 108,
   "metadata": {},
   "outputs": [
    {
     "data": {
      "text/plain": [
       "0.14241048998277894"
      ]
     },
     "execution_count": 108,
     "metadata": {},
     "output_type": "execute_result"
    }
   ],
   "source": [
    "df[df['policy'] == 'metagreedy'].util.mean()"
   ]
  },
  {
   "cell_type": "code",
   "execution_count": 109,
   "metadata": {
    "collapsed": true
   },
   "outputs": [],
   "source": [
    "df.to_hdf('data/low_stakes_trunc_1cents_results-6','results')"
   ]
  },
  {
   "cell_type": "code",
   "execution_count": 110,
   "metadata": {
    "collapsed": true
   },
   "outputs": [],
   "source": [
    "df2 = pd.read_hdf('data/low_stakes_trunc_1cents_results-6','results')"
   ]
  },
  {
   "cell_type": "code",
   "execution_count": 111,
   "metadata": {
    "scrolled": true
   },
   "outputs": [
    {
     "data": {
      "text/plain": [
       "0.141696581969551"
      ]
     },
     "execution_count": 111,
     "metadata": {},
     "output_type": "execute_result"
    }
   ],
   "source": [
    "df2[df2['policy']=='bo'].util.mean()"
   ]
  },
  {
   "cell_type": "code",
   "execution_count": 112,
   "metadata": {},
   "outputs": [
    {
     "data": {
      "text/plain": [
       "array([ 4.071,  0.339,  0.133,  0.528,  1.   ])"
      ]
     },
     "execution_count": 112,
     "metadata": {},
     "output_type": "execute_result"
    }
   ],
   "source": [
    "theta= np.load('data/low_stakes_trunc_1cents-6.npy')\n",
    "theta"
   ]
  },
  {
   "cell_type": "markdown",
   "metadata": {},
   "source": [
    "## Validation"
   ]
  },
  {
   "cell_type": "code",
   "execution_count": 69,
   "metadata": {
    "collapsed": true
   },
   "outputs": [],
   "source": [
    "filenames = ['low_stakes_1cents-previous.npy', 'low_stakes_1cents.npy', 'low_stakes_trunc_1cents.npy', 'low_stakes_trunc_1cents-2.npy', 'low_stakes_trunc_1cents-3.npy', 'low_stakes_trunc_1cents-4.npy', 'low_stakes_trunc_1cents-5.npy']\n",
    "low_stakes = TruncatedNormal((0.25+0.01)/2, 0.3*(0.25-0.01),0.01,0.25)\n",
    "reward = low_stakes\n",
    "test_envs_hd =  [OldMouselabEnv(gambles, hd_dist(attributes), reward, cost) for _ in range(n_train*4)]\n",
    "test_envs_ld = [OldMouselabEnv(gambles, ld_dist(attributes), reward, cost) for _ in range(n_train*4)]"
   ]
  },
  {
   "cell_type": "code",
   "execution_count": 70,
   "metadata": {},
   "outputs": [
    {
     "name": "stdout",
     "output_type": "stream",
     "text": [
      "[ 1.  1.  0.  0.  1.]\n"
     ]
    },
    {
     "name": "stderr",
     "output_type": "stream",
     "text": [
      "/global/software/sl-7.x86_64/modules/langs/python/3.6/lib/python3.6/site-packages/scipy/integrate/quadpack.py:356: IntegrationWarning: The integral is probably divergent, or slowly convergent.\n",
      "  warnings.warn(msg, IntegrationWarning)\n"
     ]
    },
    {
     "name": "stdout",
     "output_type": "stream",
     "text": [
      "0.155880241941\n",
      "0.129594881144\n",
      "[ 1.124  0.623  0.318  0.059  1.   ]\n"
     ]
    },
    {
     "name": "stderr",
     "output_type": "stream",
     "text": [
      "/global/software/sl-7.x86_64/modules/langs/python/3.6/lib/python3.6/site-packages/scipy/integrate/quadpack.py:356: IntegrationWarning: The integral is probably divergent, or slowly convergent.\n",
      "  warnings.warn(msg, IntegrationWarning)\n"
     ]
    },
    {
     "name": "stdout",
     "output_type": "stream",
     "text": [
      "0.156111542019\n",
      "0.125401986779\n",
      "[ 1.328  0.828  0.167  0.005  1.   ]\n",
      "0.156784734111\n",
      "0.13\n",
      "[ 4.071  0.339  0.133  0.528  1.   ]\n"
     ]
    },
    {
     "name": "stderr",
     "output_type": "stream",
     "text": [
      "/global/software/sl-7.x86_64/modules/langs/python/3.6/lib/python3.6/site-packages/scipy/integrate/quadpack.py:356: IntegrationWarning: The integral is probably divergent, or slowly convergent.\n",
      "  warnings.warn(msg, IntegrationWarning)\n"
     ]
    },
    {
     "name": "stdout",
     "output_type": "stream",
     "text": [
      "0.155046458244\n",
      "0.13\n",
      "[ 4.071  0.339  0.133  0.528  1.   ]\n"
     ]
    },
    {
     "name": "stderr",
     "output_type": "stream",
     "text": [
      "/global/software/sl-7.x86_64/modules/langs/python/3.6/lib/python3.6/site-packages/scipy/integrate/quadpack.py:356: IntegrationWarning: The integral is probably divergent, or slowly convergent.\n",
      "  warnings.warn(msg, IntegrationWarning)\n"
     ]
    },
    {
     "name": "stdout",
     "output_type": "stream",
     "text": [
      "0.155025520291\n",
      "0.13\n",
      "[ 1.  1.  0.  0.  1.]\n"
     ]
    },
    {
     "name": "stderr",
     "output_type": "stream",
     "text": [
      "/global/software/sl-7.x86_64/modules/langs/python/3.6/lib/python3.6/site-packages/scipy/integrate/quadpack.py:356: IntegrationWarning: The integral is probably divergent, or slowly convergent.\n",
      "  warnings.warn(msg, IntegrationWarning)\n"
     ]
    },
    {
     "name": "stdout",
     "output_type": "stream",
     "text": [
      "0.155880241941\n",
      "0.129594881144\n",
      "[ 1.  1.  0.  0.  1.]\n"
     ]
    },
    {
     "name": "stderr",
     "output_type": "stream",
     "text": [
      "/global/software/sl-7.x86_64/modules/langs/python/3.6/lib/python3.6/site-packages/scipy/integrate/quadpack.py:356: IntegrationWarning: The integral is probably divergent, or slowly convergent.\n",
      "  warnings.warn(msg, IntegrationWarning)\n"
     ]
    },
    {
     "name": "stdout",
     "output_type": "stream",
     "text": [
      "0.155880241941\n",
      "0.129594881144\n"
     ]
    }
   ],
   "source": [
    "val_util = []\n",
    "d_list = []\n",
    "for polfil in filenames:\n",
    "    bo_pol_theta = np.load('data/'+polfil)\n",
    "    print(bo_pol_theta)\n",
    "    bo_pol = LiederPolicy(list(bo_pol_theta))\n",
    "    \n",
    "    polutil_hd = get_util(bo_pol, test_envs_hd, parallel=Parallel(n_jobs=100),return_mean=False)\n",
    "    print(np.mean(polutil_hd))\n",
    "    for result in polutil_hd:\n",
    "        d_list.append({'util':result,'disp':'hd','policy':polfil})\n",
    "        \n",
    "    polutil_ld = get_util(bo_pol, test_envs_ld, parallel=Parallel(n_jobs=100),return_mean=False)\n",
    "    print(np.mean(polutil_ld))\n",
    "    for result in polutil_ld:\n",
    "        d_list.append({'util':result,'disp':'ld','policy':polfil})\n",
    "        \n",
    "    val_util.append(np.mean(polutil_hd))\n",
    "    val_util.append(np.mean(polutil_ld))\n",
    "df = pd.DataFrame(d_list)\n",
    "df.to_hdf('data/low_stakes_val_1cents_results','results')"
   ]
  },
  {
   "cell_type": "code",
   "execution_count": 72,
   "metadata": {
    "collapsed": true
   },
   "outputs": [],
   "source": [
    "ordered = np.array(filenames)[np.argsort(np.mean(np.array(val_util).reshape(7,2),1))][::-1]"
   ]
  },
  {
   "cell_type": "code",
   "execution_count": 73,
   "metadata": {},
   "outputs": [
    {
     "data": {
      "text/plain": [
       "[('low_stakes_trunc_1cents.npy', 0.14339236705541725),\n",
       " ('low_stakes_trunc_1cents-5.npy', 0.14273756154257727),\n",
       " ('low_stakes_trunc_1cents-4.npy', 0.14273756154257727),\n",
       " ('low_stakes_1cents-previous.npy', 0.14273756154257727),\n",
       " ('low_stakes_trunc_1cents-2.npy', 0.14252322912178234),\n",
       " ('low_stakes_trunc_1cents-3.npy', 0.14251276014574243),\n",
       " ('low_stakes_1cents.npy', 0.1407567643988934)]"
      ]
     },
     "execution_count": 73,
     "metadata": {},
     "output_type": "execute_result"
    }
   ],
   "source": [
    "list(zip(ordered,np.sort(np.mean(np.array(val_util).reshape(7,2),1))[::-1]))"
   ]
  },
  {
   "cell_type": "code",
   "execution_count": 81,
   "metadata": {
    "collapsed": true
   },
   "outputs": [],
   "source": [
    "std_errs = [df[df['policy'] == polfil].util.std()*1.96/np.sqrt(2000) for polfil in filenames]"
   ]
  },
  {
   "cell_type": "code",
   "execution_count": 82,
   "metadata": {
    "scrolled": true
   },
   "outputs": [
    {
     "data": {
      "text/plain": [
       "[0.0013710719779671753,\n",
       " 0.0014960608335911835,\n",
       " 0.0012415434671854111,\n",
       " 0.0011881177476536732,\n",
       " 0.0011991098599670768,\n",
       " 0.0013710719779671753,\n",
       " 0.0013710719779671753]"
      ]
     },
     "execution_count": 82,
     "metadata": {},
     "output_type": "execute_result"
    }
   ],
   "source": [
    "std_errs"
   ]
  },
  {
   "cell_type": "code",
   "execution_count": 85,
   "metadata": {
    "collapsed": true
   },
   "outputs": [],
   "source": [
    "mg_utils = list(df[df['policy'] == 'low_stakes_1cents-previous.npy'].util)\n",
    "bo_utils = list(df[df['policy'] == 'low_stakes_trunc_1cents.npy'].util)"
   ]
  },
  {
   "cell_type": "code",
   "execution_count": 88,
   "metadata": {},
   "outputs": [
    {
     "data": {
      "text/plain": [
       "Ttest_indResult(statistic=0.69386473571108442, pvalue=0.4878073523947164)"
      ]
     },
     "execution_count": 88,
     "metadata": {},
     "output_type": "execute_result"
    }
   ],
   "source": [
    "from scipy.stats import ttest_ind\n",
    "ttest_ind(bo_utils,mg_utils)\n"
   ]
  },
  {
   "cell_type": "markdown",
   "metadata": {},
   "source": [
    "# Result fixing"
   ]
  },
  {
   "cell_type": "code",
   "execution_count": 14,
   "metadata": {},
   "outputs": [
    {
     "data": {
      "text/plain": [
       "policy\n",
       "comb_1cents.npy                   3.645836\n",
       "high_stakes_1cents-prev.npy       3.648174\n",
       "high_stakes_1cents.npy            3.640578\n",
       "high_stakes_trunc_1cents-2.npy    3.643652\n",
       "high_stakes_trunc_1cents-3.npy    3.640808\n",
       "high_stakes_trunc_1cents-4.npy    3.647734\n",
       "high_stakes_trunc_1cents-5.npy    3.640774\n",
       "high_stakes_trunc_1cents.npy      3.643476\n",
       "hs_ld_1cents-2.npy                3.643588\n",
       "low_stakes_1cents-previous.npy    3.649938\n",
       "low_stakes_1cents.npy             3.648834\n",
       "low_stakes_trunc_1cents-2.npy     3.646879\n",
       "low_stakes_trunc_1cents-3.npy     3.649111\n",
       "low_stakes_trunc_1cents.npy       3.651658\n",
       "ls_hd_1cents-2.npy                3.647104\n",
       "ls_ld_1cents-2.npy                3.631423\n",
       "Name: util, dtype: float64"
      ]
     },
     "execution_count": 14,
     "metadata": {},
     "output_type": "execute_result"
    }
   ],
   "source": [
    "df = pd.read_hdf('data/comb_val_1cents_results-2','results')\n",
    "df.groupby('policy').util.mean()"
   ]
  },
  {
   "cell_type": "code",
   "execution_count": 15,
   "metadata": {},
   "outputs": [
    {
     "data": {
      "text/html": [
       "<div>\n",
       "<style>\n",
       "    .dataframe thead tr:only-child th {\n",
       "        text-align: right;\n",
       "    }\n",
       "\n",
       "    .dataframe thead th {\n",
       "        text-align: left;\n",
       "    }\n",
       "\n",
       "    .dataframe tbody tr th {\n",
       "        vertical-align: top;\n",
       "    }\n",
       "</style>\n",
       "<table border=\"1\" class=\"dataframe\">\n",
       "  <thead>\n",
       "    <tr style=\"text-align: right;\">\n",
       "      <th></th>\n",
       "      <th>disp</th>\n",
       "      <th>env_id</th>\n",
       "      <th>policy</th>\n",
       "      <th>stake</th>\n",
       "      <th>util</th>\n",
       "    </tr>\n",
       "  </thead>\n",
       "  <tbody>\n",
       "    <tr>\n",
       "      <th>0</th>\n",
       "      <td>high</td>\n",
       "      <td>0</td>\n",
       "      <td>high_stakes_1cents.npy</td>\n",
       "      <td>high</td>\n",
       "      <td>5.999691</td>\n",
       "    </tr>\n",
       "    <tr>\n",
       "      <th>1</th>\n",
       "      <td>high</td>\n",
       "      <td>1</td>\n",
       "      <td>high_stakes_1cents.npy</td>\n",
       "      <td>high</td>\n",
       "      <td>9.630031</td>\n",
       "    </tr>\n",
       "    <tr>\n",
       "      <th>2</th>\n",
       "      <td>high</td>\n",
       "      <td>2</td>\n",
       "      <td>high_stakes_1cents.npy</td>\n",
       "      <td>high</td>\n",
       "      <td>7.737362</td>\n",
       "    </tr>\n",
       "    <tr>\n",
       "      <th>3</th>\n",
       "      <td>high</td>\n",
       "      <td>3</td>\n",
       "      <td>high_stakes_1cents.npy</td>\n",
       "      <td>high</td>\n",
       "      <td>8.431396</td>\n",
       "    </tr>\n",
       "    <tr>\n",
       "      <th>4</th>\n",
       "      <td>high</td>\n",
       "      <td>4</td>\n",
       "      <td>high_stakes_1cents.npy</td>\n",
       "      <td>high</td>\n",
       "      <td>6.989854</td>\n",
       "    </tr>\n",
       "    <tr>\n",
       "      <th>5</th>\n",
       "      <td>high</td>\n",
       "      <td>5</td>\n",
       "      <td>high_stakes_1cents.npy</td>\n",
       "      <td>high</td>\n",
       "      <td>8.513090</td>\n",
       "    </tr>\n",
       "    <tr>\n",
       "      <th>6</th>\n",
       "      <td>high</td>\n",
       "      <td>6</td>\n",
       "      <td>high_stakes_1cents.npy</td>\n",
       "      <td>high</td>\n",
       "      <td>8.076591</td>\n",
       "    </tr>\n",
       "    <tr>\n",
       "      <th>7</th>\n",
       "      <td>high</td>\n",
       "      <td>7</td>\n",
       "      <td>high_stakes_1cents.npy</td>\n",
       "      <td>high</td>\n",
       "      <td>7.065786</td>\n",
       "    </tr>\n",
       "    <tr>\n",
       "      <th>8</th>\n",
       "      <td>high</td>\n",
       "      <td>8</td>\n",
       "      <td>high_stakes_1cents.npy</td>\n",
       "      <td>high</td>\n",
       "      <td>8.801727</td>\n",
       "    </tr>\n",
       "    <tr>\n",
       "      <th>9</th>\n",
       "      <td>high</td>\n",
       "      <td>9</td>\n",
       "      <td>high_stakes_1cents.npy</td>\n",
       "      <td>high</td>\n",
       "      <td>6.278555</td>\n",
       "    </tr>\n",
       "  </tbody>\n",
       "</table>\n",
       "</div>"
      ],
      "text/plain": [
       "   disp  env_id                  policy stake      util\n",
       "0  high       0  high_stakes_1cents.npy  high  5.999691\n",
       "1  high       1  high_stakes_1cents.npy  high  9.630031\n",
       "2  high       2  high_stakes_1cents.npy  high  7.737362\n",
       "3  high       3  high_stakes_1cents.npy  high  8.431396\n",
       "4  high       4  high_stakes_1cents.npy  high  6.989854\n",
       "5  high       5  high_stakes_1cents.npy  high  8.513090\n",
       "6  high       6  high_stakes_1cents.npy  high  8.076591\n",
       "7  high       7  high_stakes_1cents.npy  high  7.065786\n",
       "8  high       8  high_stakes_1cents.npy  high  8.801727\n",
       "9  high       9  high_stakes_1cents.npy  high  6.278555"
      ]
     },
     "execution_count": 15,
     "metadata": {},
     "output_type": "execute_result"
    }
   ],
   "source": [
    "df[:10]"
   ]
  },
  {
   "cell_type": "code",
   "execution_count": 19,
   "metadata": {},
   "outputs": [
    {
     "name": "stderr",
     "output_type": "stream",
     "text": [
      "/Users/sayangul/anaconda/lib/python3.6/site-packages/ipykernel_launcher.py:1: UserWarning: Boolean Series key will be reindexed to match DataFrame index.\n",
      "  \"\"\"Entry point for launching an IPython kernel.\n"
     ]
    },
    {
     "data": {
      "text/plain": [
       "policy\n",
       "comb_1cents.npy                   6.459792\n",
       "high_stakes_1cents-prev.npy       6.458588\n",
       "high_stakes_1cents.npy            6.452250\n",
       "high_stakes_trunc_1cents-2.npy    6.471901\n",
       "high_stakes_trunc_1cents-3.npy    6.460570\n",
       "high_stakes_trunc_1cents-4.npy    6.466308\n",
       "high_stakes_trunc_1cents-5.npy    6.458887\n",
       "high_stakes_trunc_1cents.npy      6.470717\n",
       "hs_ld_1cents-2.npy                6.471879\n",
       "low_stakes_1cents-previous.npy    6.470943\n",
       "low_stakes_1cents.npy             6.469036\n",
       "low_stakes_trunc_1cents-2.npy     6.459526\n",
       "low_stakes_trunc_1cents-3.npy     6.467650\n",
       "low_stakes_trunc_1cents.npy       6.473890\n",
       "ls_hd_1cents-2.npy                6.464633\n",
       "ls_ld_1cents-2.npy                6.426627\n",
       "Name: util, dtype: float64"
      ]
     },
     "execution_count": 19,
     "metadata": {},
     "output_type": "execute_result"
    }
   ],
   "source": [
    "df[df['stake']=='high'][df['disp']=='low'].groupby('policy').util.mean()"
   ]
  },
  {
   "cell_type": "code",
   "execution_count": 17,
   "metadata": {
    "scrolled": true
   },
   "outputs": [
    {
     "name": "stderr",
     "output_type": "stream",
     "text": [
      "/Users/sayangul/anaconda/lib/python3.6/site-packages/ipykernel_launcher.py:1: UserWarning: Boolean Series key will be reindexed to match DataFrame index.\n",
      "  \"\"\"Entry point for launching an IPython kernel.\n"
     ]
    },
    {
     "data": {
      "text/plain": [
       "policy\n",
       "comb_1cents.npy                   7.842801\n",
       "high_stakes_1cents-prev.npy       7.844545\n",
       "high_stakes_1cents.npy            7.843455\n",
       "high_stakes_trunc_1cents-2.npy    7.842706\n",
       "high_stakes_trunc_1cents-3.npy    7.842660\n",
       "high_stakes_trunc_1cents-4.npy    7.842756\n",
       "high_stakes_trunc_1cents-5.npy    7.844211\n",
       "high_stakes_trunc_1cents.npy      7.843188\n",
       "hs_ld_1cents-2.npy                7.842474\n",
       "low_stakes_1cents-previous.npy    7.843247\n",
       "low_stakes_1cents.npy             7.843721\n",
       "low_stakes_trunc_1cents-2.npy     7.843095\n",
       "low_stakes_trunc_1cents-3.npy     7.842580\n",
       "low_stakes_trunc_1cents.npy       7.844729\n",
       "ls_hd_1cents-2.npy                7.842675\n",
       "ls_ld_1cents-2.npy                7.839063\n",
       "Name: util, dtype: float64"
      ]
     },
     "execution_count": 17,
     "metadata": {},
     "output_type": "execute_result"
    }
   ],
   "source": [
    "df[df['stake']=='high'][df['disp']=='high'].groupby('policy').util.mean()"
   ]
  },
  {
   "cell_type": "code",
   "execution_count": 18,
   "metadata": {},
   "outputs": [
    {
     "name": "stderr",
     "output_type": "stream",
     "text": [
      "/Users/sayangul/anaconda/lib/python3.6/site-packages/ipykernel_launcher.py:1: UserWarning: Boolean Series key will be reindexed to match DataFrame index.\n",
      "  \"\"\"Entry point for launching an IPython kernel.\n"
     ]
    },
    {
     "data": {
      "text/plain": [
       "policy\n",
       "comb_1cents.npy                   0.155913\n",
       "high_stakes_1cents-prev.npy       0.159859\n",
       "high_stakes_1cents.npy            0.152682\n",
       "high_stakes_trunc_1cents-2.npy    0.130000\n",
       "high_stakes_trunc_1cents-3.npy    0.130000\n",
       "high_stakes_trunc_1cents-4.npy    0.155922\n",
       "high_stakes_trunc_1cents-5.npy    0.130000\n",
       "high_stakes_trunc_1cents.npy      0.130000\n",
       "hs_ld_1cents-2.npy                0.130000\n",
       "low_stakes_1cents-previous.npy    0.156031\n",
       "low_stakes_1cents.npy             0.157207\n",
       "low_stakes_trunc_1cents-2.npy     0.154894\n",
       "low_stakes_trunc_1cents-3.npy     0.156214\n",
       "low_stakes_trunc_1cents.npy       0.158012\n",
       "ls_hd_1cents-2.npy                0.155913\n",
       "ls_ld_1cents-2.npy                0.130000\n",
       "Name: util, dtype: float64"
      ]
     },
     "execution_count": 18,
     "metadata": {},
     "output_type": "execute_result"
    }
   ],
   "source": [
    "df[df['stake']=='low'][df['disp']=='high'].groupby('policy').util.mean()"
   ]
  },
  {
   "cell_type": "code",
   "execution_count": 20,
   "metadata": {},
   "outputs": [
    {
     "name": "stderr",
     "output_type": "stream",
     "text": [
      "/Users/sayangul/anaconda/lib/python3.6/site-packages/ipykernel_launcher.py:1: UserWarning: Boolean Series key will be reindexed to match DataFrame index.\n",
      "  \"\"\"Entry point for launching an IPython kernel.\n"
     ]
    },
    {
     "data": {
      "text/plain": [
       "policy\n",
       "comb_1cents.npy                   0.124837\n",
       "high_stakes_1cents-prev.npy       0.129703\n",
       "high_stakes_1cents.npy            0.113925\n",
       "high_stakes_trunc_1cents-2.npy    0.130000\n",
       "high_stakes_trunc_1cents-3.npy    0.130000\n",
       "high_stakes_trunc_1cents-4.npy    0.125950\n",
       "high_stakes_trunc_1cents-5.npy    0.130000\n",
       "high_stakes_trunc_1cents.npy      0.130000\n",
       "hs_ld_1cents-2.npy                0.130000\n",
       "low_stakes_1cents-previous.npy    0.129531\n",
       "low_stakes_1cents.npy             0.125373\n",
       "low_stakes_trunc_1cents-2.npy     0.130000\n",
       "low_stakes_trunc_1cents-3.npy     0.130000\n",
       "low_stakes_trunc_1cents.npy       0.130000\n",
       "ls_hd_1cents-2.npy                0.125195\n",
       "ls_ld_1cents-2.npy                0.130000\n",
       "Name: util, dtype: float64"
      ]
     },
     "execution_count": 20,
     "metadata": {},
     "output_type": "execute_result"
    }
   ],
   "source": [
    "df[df['stake']=='low'][df['disp']=='low'].groupby('policy').util.mean()"
   ]
  },
  {
   "cell_type": "code",
   "execution_count": 43,
   "metadata": {
    "collapsed": true
   },
   "outputs": [],
   "source": [
    "def read_ombo_policy(reward_mu, reward_sigma, outcome_probs, cost=0.01):\n",
    "    \"\"\"Returns optimized policy for the given environment parameters\"\"\"\n",
    "    stakes = 'hs' if reward_mu == 5.0 else 'ls'\n",
    "    disp = 'hd' if np.max(outcome_probs) >= 0.85 else 'ld'\n",
    "    cents = str(int(100*cost))\n",
    "    polfil = 'data/om_bmps_pols/best/'+stakes+'_'+disp+'_'+cents+'cents.npy'\n",
    "#     print(polfil)\n",
    "    bo_pol_theta = np.load(polfil)\n",
    "#     print(bo_pol_theta)\n",
    "    return LiederPolicy(list(bo_pol_theta))"
   ]
  },
  {
   "cell_type": "code",
   "execution_count": 48,
   "metadata": {},
   "outputs": [
    {
     "name": "stdout",
     "output_type": "stream",
     "text": [
      "data/om_bmps_pols/best/ls_hd_1cents.npy\n",
      "[ 1.328  0.828  0.167  0.005  1.   ]\n"
     ]
    },
    {
     "data": {
      "text/plain": [
       "<policies.LiederPolicy at 0x10ff30898>"
      ]
     },
     "execution_count": 48,
     "metadata": {},
     "output_type": "execute_result"
    }
   ],
   "source": [
    "read_ombo_policy(0.3,20,[0.86,0.19])"
   ]
  },
  {
   "cell_type": "markdown",
   "metadata": {},
   "source": [
    "# Scratch"
   ]
  },
  {
   "cell_type": "markdown",
   "metadata": {},
   "source": [
    "## Old"
   ]
  },
  {
   "cell_type": "code",
   "execution_count": 159,
   "metadata": {
    "collapsed": true
   },
   "outputs": [],
   "source": [
    "# def run_params(gambles = 3, attributes = [0.25,0.74,0.01], reward = Normal(2,1), max_obs=30, cost=.01):\n",
    "#     print(str(gambles)+' gambles, probs: '+ str(attributes) + ', cost:' + str(cost))\n",
    "#     env = OldMouselabEnv(gambles, attributes,reward,cost)\n",
    "#     train_envs = [env] * 100\n",
    "#     term_action = train_envs[0].term_action\n",
    "#     policies = {\n",
    "# #         'BO': bo_policy(train_envs, max_cost=30, n_jobs=5, n_calls=250, \n",
    "# #                         verbose=0, normalize_voi=False),\n",
    "#         'BO': bo_policy(train_envs, max_cost=max_obs, n_calls=10),\n",
    "# #         'BO_unnorm': bo_policy(train_envs, max_cost=max_obs, normalize_voi=False, n_calls=350),\n",
    "#         'meta-greedy': LiederPolicy([1, 1, 0, 0, 1]),\n",
    "# #         'blinkered': blinkered_policy(env),\n",
    "# #         'optimal': optimal_policy(env),\n",
    "#         'full-observation': LiederPolicy([-100, 0.5, 0.5, 0, 1]),\n",
    "#         'none': FixedPlanPolicy([term_action])\n",
    "#     }\n",
    "#     np.save('data/bo'+str(cost)+str(gambles), policies['BO'].theta)\n",
    "    \n",
    "#     def test():    \n",
    "#         for name, policy in policies.items():\n",
    "#             df = evaluate(policy, envs=test_envs)\n",
    "#             df['agent'] = name\n",
    "#             df['gambles'] = gambles\n",
    "#             df['attr'] = str(attributes)\n",
    "#             df['cost'] = cost\n",
    "#             yield df\n",
    "#     return pd.concat(test())"
   ]
  },
  {
   "cell_type": "code",
   "execution_count": 281,
   "metadata": {
    "collapsed": true
   },
   "outputs": [],
   "source": [
    "# policies = {\n",
    "# #   'BO': bo_policy(train_envs, max_cost=30, n_jobs=5, n_calls=250, \n",
    "# #                         verbose=0, normalize_voi=False),\n",
    "# #     'BO': bo_policy(train_envs, max_cost=max_obs, n_calls=10),\n",
    "#     'meta-greedy': LiederPolicy([1, 1, 0, 0, 1]),\n",
    "#     'full-observation': FixedPlanPolicy(range(term_action)),\n",
    "#     'none': FixedPlanPolicy([term_action])\n",
    "# }\n",
    "# # np.save('data/bo'+str(cost)+str(gambles), policies['BO'].theta)\n",
    "    \n",
    "# def test(policies):   \n",
    "#     test_envs = [env] * 20\n",
    "#     for name, policy in policies.items():\n",
    "#         df = evaluate(policy, envs=test_envs)\n",
    "#         df['agent'] = name\n",
    "#         df['gambles'] = gambles\n",
    "#         df['attr'] = str(attributes)\n",
    "#         df['cost'] = cost\n",
    "#         return df\n",
    "# df = pd.concat(test())"
   ]
  },
  {
   "cell_type": "code",
   "execution_count": 53,
   "metadata": {
    "scrolled": true
   },
   "outputs": [
    {
     "name": "stdout",
     "output_type": "stream",
     "text": [
      "3 gambles, probs: [0.25, 0.74, 0.01], cost:0.0001\n",
      "3 gambles, probs: [0.25, 0.74, 0.01], cost:0.00056234132519\n",
      "3 gambles, probs: [0.25, 0.74, 0.01], cost:0.0177827941004\n",
      "3 gambles, probs: [0.25, 0.74, 0.01], cost:0.00316227766017\n",
      "3 gambles, probs: [0.25, 0.74, 0.01], cost:0.1\n",
      "BO: [ 1.     0.389  0.214  0.397  1.   ] -> 2.492 in 2494 sec\n",
      "BO: [ 3.498  0.57   0.43   0.     1.   ] -> 2.723 in 3319 sec\n",
      "BO: [ 19.083   0.52    0.403   0.077   1.   ] -> 2.801 in 3842 sec\n",
      "BO: [ 1.004  0.379  0.343  0.278  1.   ] -> 2.808 in 4446 sec\n",
      "BO: [ 14.735   0.4     0.26    0.339   1.   ] -> 2.793 in 4769 sec\n"
     ]
    }
   ],
   "source": [
    "data = Parallel(n_jobs=20)(delayed(run_params)(cost=cost) for cost in np.logspace(-4, -1, 5))\n",
    "store = pd.HDFStore('second_try.h5')\n",
    "store['data'] = pd.concat(data)\n",
    "store.close()"
   ]
  },
  {
   "cell_type": "code",
   "execution_count": 54,
   "metadata": {
    "collapsed": true
   },
   "outputs": [],
   "source": [
    "# df = pd.concat(data)\n",
    "df = pd.read_hdf('second_try.h5','data')"
   ]
  },
  {
   "cell_type": "code",
   "execution_count": 55,
   "metadata": {},
   "outputs": [
    {
     "data": {
      "text/plain": [
       "cost      agent           \n",
       "0.000100  BO                  2.526308\n",
       "          full-observation    2.736442\n",
       "          meta-greedy         2.765520\n",
       "          none                2.000000\n",
       "0.000562  BO                  2.660385\n",
       "          full-observation    2.868553\n",
       "          meta-greedy         2.639586\n",
       "          none                2.000000\n",
       "0.003162  BO                  2.565508\n",
       "          full-observation    2.473717\n",
       "          meta-greedy         2.524450\n",
       "          none                2.000000\n",
       "0.017783  BO                  2.557559\n",
       "          full-observation    2.429334\n",
       "          meta-greedy         2.651951\n",
       "          none                2.000000\n",
       "0.100000  BO                  2.536742\n",
       "          full-observation    1.985387\n",
       "          meta-greedy         2.468443\n",
       "          none                2.000000\n",
       "Name: util, dtype: float64"
      ]
     },
     "execution_count": 55,
     "metadata": {},
     "output_type": "execute_result"
    }
   ],
   "source": [
    "df.groupby('cost agent'.split()).util.mean()"
   ]
  },
  {
   "cell_type": "code",
   "execution_count": 56,
   "metadata": {
    "scrolled": true
   },
   "outputs": [
    {
     "data": {
      "text/plain": [
       "<matplotlib.text.Text at 0x2b66265e8208>"
      ]
     },
     "execution_count": 56,
     "metadata": {},
     "output_type": "execute_result"
    },
    {
     "name": "stderr",
     "output_type": "stream",
     "text": [
      "/global/software/sl-7.x86_64/modules/langs/python/3.6/lib/python3.6/site-packages/matplotlib/font_manager.py:1297: UserWarning: findfont: Font family ['sans-serif'] not found. Falling back to DejaVu Sans\n",
      "  (prop.get_family(), self.defaultFamily[fontext]))\n"
     ]
    },
    {
     "data": {
      "image/png": "[encoded data removed]",
      "text/plain": [
       "<matplotlib.figure.Figure at 0x2b6625fd2f28>"
      ]
     },
     "metadata": {},
     "output_type": "display_data"
    }
   ],
   "source": [
    "error = df.groupby('cost agent'.split()).util.std().unstack()*1.96/np.sqrt(1000)\n",
    "(df\n",
    " .groupby('cost agent'.split())\n",
    " .util.mean().unstack()\n",
    " .plot(logx=True, ls='--',yerr=error, by='n_arm'))\n",
    "# plt.xlim(10**-4.05,10**-0.95)\n",
    "plt.ylabel('Metareasoning Performance')\n",
    "plt.xlabel('Cost')\n",
    "plt.title('3 Gambles, 3 Attributes. Dist: [0.25,0.75,0]')"
   ]
  },
  {
   "cell_type": "code",
   "execution_count": 58,
   "metadata": {},
   "outputs": [
    {
     "name": "stdout",
     "output_type": "stream",
     "text": [
      "3 gambles, probs: [0.25, 0.74, 0.01], cost:0.0001\n",
      "3 gambles, probs: [0.25, 0.74, 0.01], cost:0.00056234132519\n",
      "3 gambles, probs: [0.25, 0.74, 0.01], cost:0.00316227766017\n",
      "3 gambles, probs: [0.25, 0.74, 0.01], cost:0.0177827941004\n",
      "3 gambles, probs: [0.25, 0.74, 0.01], cost:0.1\n",
      "BO: [ 4.071  0.339  0.133  0.528  1.   ] -> 2.241 in 397 sec\n",
      "BO: [ 7.28   0.222  0.532  0.246  1.   ] -> 2.577 in 800 sec\n",
      "BO: [ 19.083   0.52    0.403   0.077   1.   ] -> 2.801 in 1044 sec\n",
      "BO: [ 12.391   0.459   0.185   0.356   1.   ] -> 2.728 in 1183 sec\n",
      "BO: [ 14.735   0.4     0.26    0.339   1.   ] -> 2.793 in 1406 sec\n"
     ]
    }
   ],
   "source": [
    "data = Parallel(n_jobs=20)(delayed(run_params)(cost=cost) for cost in np.logspace(-4, -1, 5))\n",
    "store = pd.HDFStore('second_try.h5')\n",
    "store['data'] = pd.concat(data)\n",
    "store.close()"
   ]
  },
  {
   "cell_type": "code",
   "execution_count": 65,
   "metadata": {},
   "outputs": [
    {
     "data": {
      "text/plain": [
       "<matplotlib.text.Text at 0x2b663c303be0>"
      ]
     },
     "execution_count": 65,
     "metadata": {},
     "output_type": "execute_result"
    },
    {
     "name": "stderr",
     "output_type": "stream",
     "text": [
      "/global/software/sl-7.x86_64/modules/langs/python/3.6/lib/python3.6/site-packages/matplotlib/font_manager.py:1297: UserWarning: findfont: Font family ['sans-serif'] not found. Falling back to DejaVu Sans\n",
      "  (prop.get_family(), self.defaultFamily[fontext]))\n"
     ]
    },
    {
     "data": {
      "image/png": "[encoded data removed]",
      "text/plain": [
       "<matplotlib.figure.Figure at 0x2b663bfd0da0>"
      ]
     },
     "metadata": {},
     "output_type": "display_data"
    }
   ],
   "source": [
    "# df = pd.concat(data)\n",
    "df = pd.read_hdf('second_try.h5','data')\n",
    "error = df.groupby('cost agent'.split()).util.std().unstack()*1.96/np.sqrt(20)\n",
    "(df\n",
    " .groupby('cost agent'.split())\n",
    " .util.mean().unstack()\n",
    " .plot(logx=True, ls='--',yerr=error, by='n_arm'))\n",
    "# plt.xlim(10**-4.05,10**-0.95)\n",
    "plt.ylabel('Metareasoning Performance')\n",
    "plt.xlabel('Cost')\n",
    "plt.title('3 Gambles, 3 Attributes. Dist: [0.25,0.74,0.01], 10 iterations')"
   ]
  },
  {
   "cell_type": "markdown",
   "metadata": {},
   "source": [
    "## Unit Testing for Mouselab Environment"
   ]
  },
  {
   "cell_type": "code",
   "execution_count": 168,
   "metadata": {},
   "outputs": [
    {
     "data": {
      "text/plain": [
       "array([Norm(2.00, 1.00), Norm(2.00, 1.00), Norm(2.00, 1.00), Norm(2.00, 1.00), Norm(2.00, 1.00), Norm(2.00, 1.00), Norm(2.00, 1.00), Norm(2.00, 1.00), Norm(2.00, 1.00), Norm(2.00, 1.00),\n",
       "       Norm(2.00, 1.00), Norm(2.00, 1.00), Norm(2.00, 1.00), Norm(2.00, 1.00), Norm(2.00, 1.00), Norm(2.00, 1.00)], dtype=object)"
      ]
     },
     "execution_count": 168,
     "metadata": {},
     "output_type": "execute_result"
    }
   ],
   "source": [
    "gambles = 4\n",
    "attributes = [0.25,0.75,0,0]\n",
    "reward = Normal(2,1)\n",
    "env = OldMouselabEnv(gambles, attributes,reward)\n",
    "env.reset()"
   ]
  },
  {
   "cell_type": "code",
   "execution_count": 169,
   "metadata": {},
   "outputs": [
    {
     "data": {
      "text/plain": [
       "array([ 0.625,  0.625,  0.625,  0.625])"
      ]
     },
     "execution_count": 169,
     "metadata": {},
     "output_type": "execute_result"
    }
   ],
   "source": [
    "env.vars"
   ]
  },
  {
   "cell_type": "code",
   "execution_count": 170,
   "metadata": {},
   "outputs": [
    {
     "data": {
      "text/plain": [
       "[2.0, 2.0, 2.0, 2.0]"
      ]
     },
     "execution_count": 170,
     "metadata": {},
     "output_type": "execute_result"
    }
   ],
   "source": [
    "env.mus"
   ]
  },
  {
   "cell_type": "code",
   "execution_count": 171,
   "metadata": {},
   "outputs": [
    {
     "name": "stdout",
     "output_type": "stream",
     "text": [
      "step 1\n",
      "obs 1\n",
      "step 5\n",
      "obs 5\n",
      "step 4\n",
      "obs 4\n",
      "step 4\n"
     ]
    },
    {
     "data": {
      "text/plain": [
       "((Norm(2.00, 1.00),\n",
       "  1.0387309172247476,\n",
       "  Norm(2.00, 1.00),\n",
       "  Norm(2.00, 1.00),\n",
       "  1.925737927437906,\n",
       "  1.2992395552812623,\n",
       "  Norm(2.00, 1.00),\n",
       "  Norm(2.00, 1.00),\n",
       "  Norm(2.00, 1.00),\n",
       "  Norm(2.00, 1.00),\n",
       "  Norm(2.00, 1.00),\n",
       "  Norm(2.00, 1.00),\n",
       "  Norm(2.00, 1.00),\n",
       "  Norm(2.00, 1.00),\n",
       "  Norm(2.00, 1.00),\n",
       "  Norm(2.00, 1.00)),\n",
       " 0,\n",
       " False,\n",
       " {})"
      ]
     },
     "execution_count": 171,
     "metadata": {},
     "output_type": "execute_result"
    }
   ],
   "source": [
    "env.step(1)\n",
    "env.step(5)\n",
    "env.step(4)\n",
    "env.step(4)"
   ]
  },
  {
   "cell_type": "code",
   "execution_count": 172,
   "metadata": {
    "scrolled": true
   },
   "outputs": [
    {
     "name": "stdout",
     "output_type": "stream",
     "text": [
      "[Norm(1.28, 0.06) Norm(1.46, 0.00) Norm(2.00, 0.57) Norm(2.00, 0.57)]\n"
     ]
    },
    {
     "data": {
      "text/plain": [
       "0.32968609849781005"
      ]
     },
     "execution_count": 172,
     "metadata": {},
     "output_type": "execute_result"
    }
   ],
   "source": [
    "env.vpi()"
   ]
  },
  {
   "cell_type": "code",
   "execution_count": 173,
   "metadata": {},
   "outputs": [
    {
     "name": "stdout",
     "output_type": "stream",
     "text": [
      "bg [Norm(0.50, 0.06) Norm(1.50, 0.56) Norm(0.00, 0.00) Norm(0.00, 0.00)]\n"
     ]
    },
    {
     "data": {
      "text/plain": [
       "2.0"
      ]
     },
     "execution_count": 173,
     "metadata": {},
     "output_type": "execute_result"
    }
   ],
   "source": [
    "env.expected_term_reward()"
   ]
  },
  {
   "cell_type": "code",
   "execution_count": 174,
   "metadata": {},
   "outputs": [
    {
     "data": {
      "text/plain": [
       "2.0"
      ]
     },
     "execution_count": 174,
     "metadata": {},
     "output_type": "execute_result"
    }
   ],
   "source": [
    "np.max(env.mus)"
   ]
  },
  {
   "cell_type": "code",
   "execution_count": 175,
   "metadata": {},
   "outputs": [
    {
     "name": "stdout",
     "output_type": "stream",
     "text": [
      "[[Norm(2.00, 1.00) 1.0387309172247476 Norm(2.00, 1.00) Norm(2.00, 1.00)]\n",
      " [1.925737927437906 1.2992395552812623 Norm(2.00, 1.00) Norm(2.00, 1.00)]\n",
      " [Norm(2.00, 1.00) Norm(2.00, 1.00) Norm(2.00, 1.00) Norm(2.00, 1.00)]\n",
      " [Norm(2.00, 1.00) Norm(2.00, 1.00) Norm(2.00, 1.00) Norm(2.00, 1.00)]]\n",
      "[1.2790481879185607, 1.4558641483204231, 2.0, 2.0]\n",
      "[ 0.062  0.     0.625  0.625]\n"
     ]
    }
   ],
   "source": [
    "grid = np.array(env._state).reshape(env.gambles,env.outcomes)\n",
    "print(grid)\n",
    "print(env.mus)\n",
    "print(env.vars)"
   ]
  },
  {
   "cell_type": "code",
   "execution_count": 176,
   "metadata": {},
   "outputs": [
    {
     "data": {
      "text/plain": [
       "array([ 0.25,  0.75,  0.  ,  0.  ])"
      ]
     },
     "execution_count": 176,
     "metadata": {},
     "output_type": "execute_result"
    }
   ],
   "source": [
    "env.dist"
   ]
  },
  {
   "cell_type": "code",
   "execution_count": 177,
   "metadata": {},
   "outputs": [
    {
     "data": {
      "text/plain": [
       "array([[Norm(2.00, 1.00), 1.0387309172247476, Norm(2.00, 1.00), Norm(2.00, 1.00)],\n",
       "       [1.925737927437906, 1.2992395552812623, Norm(2.00, 1.00), Norm(2.00, 1.00)],\n",
       "       [Norm(2.00, 1.00), Norm(2.00, 1.00), Norm(2.00, 1.00), Norm(2.00, 1.00)],\n",
       "       [Norm(2.00, 1.00), Norm(2.00, 1.00), Norm(2.00, 1.00), Norm(2.00, 1.00)]], dtype=object)"
      ]
     },
     "execution_count": 177,
     "metadata": {},
     "output_type": "execute_result"
    }
   ],
   "source": [
    "grid"
   ]
  },
  {
   "cell_type": "code",
   "execution_count": 178,
   "metadata": {},
   "outputs": [
    {
     "data": {
      "text/plain": [
       "Norm(1.46, 0.00)"
      ]
     },
     "execution_count": 178,
     "metadata": {},
     "output_type": "execute_result"
    }
   ],
   "source": [
    "np.sum(grid[1] * env.dist)"
   ]
  },
  {
   "cell_type": "code",
   "execution_count": 179,
   "metadata": {
    "collapsed": true
   },
   "outputs": [],
   "source": [
    "gambles = grid.dot(env.dist)\n",
    "samples_max = np.amax([[gambles[i].sample() for i in range(env.gambles)] for _ in range(2500)],1)"
   ]
  },
  {
   "cell_type": "code",
   "execution_count": 180,
   "metadata": {},
   "outputs": [
    {
     "data": {
      "text/plain": [
       "array([Norm(1.28, 0.06), Norm(1.46, 0.00), Norm(2.00, 0.57), Norm(2.00, 0.57)], dtype=object)"
      ]
     },
     "execution_count": 180,
     "metadata": {},
     "output_type": "execute_result"
    }
   ],
   "source": [
    "gambles"
   ]
  },
  {
   "cell_type": "code",
   "execution_count": 181,
   "metadata": {},
   "outputs": [
    {
     "data": {
      "text/plain": [
       "4"
      ]
     },
     "execution_count": 181,
     "metadata": {},
     "output_type": "execute_result"
    }
   ],
   "source": [
    "env.gambles"
   ]
  },
  {
   "cell_type": "code",
   "execution_count": 182,
   "metadata": {
    "collapsed": true
   },
   "outputs": [],
   "source": [
    "import datetime"
   ]
  },
  {
   "cell_type": "code",
   "execution_count": 183,
   "metadata": {
    "scrolled": true
   },
   "outputs": [
    {
     "name": "stdout",
     "output_type": "stream",
     "text": [
      "2.32407956312\n"
     ]
    }
   ],
   "source": [
    "a = datetime.datetime.now()\n",
    "means = []\n",
    "for i in range(100):\n",
    "    samples = [np.max([gambles[i].sample() for i in range(env.gambles)]) for i in range(2500)]\n",
    "    means.append(np.mean(samples))\n",
    "t = datetime.datetime.now() - a\n",
    "print(np.mean(means))"
   ]
  },
  {
   "cell_type": "code",
   "execution_count": 184,
   "metadata": {},
   "outputs": [
    {
     "name": "stdout",
     "output_type": "stream",
     "text": [
      "0:00:05.027743\n"
     ]
    }
   ],
   "source": [
    "print(t)"
   ]
  },
  {
   "cell_type": "code",
   "execution_count": 185,
   "metadata": {
    "scrolled": true
   },
   "outputs": [
    {
     "name": "stdout",
     "output_type": "stream",
     "text": [
      "2.32389103332\n"
     ]
    }
   ],
   "source": [
    "a = datetime.datetime.now()\n",
    "means = []\n",
    "for i in range(100):\n",
    "    samples = np.amax([[gambles[i].sample() for i in range(env.gambles)] for _ in range(2500)],1)\n",
    "    means.append(np.mean(samples))\n",
    "t = datetime.datetime.now() - a\n",
    "print(np.mean(means))"
   ]
  },
  {
   "cell_type": "code",
   "execution_count": 186,
   "metadata": {},
   "outputs": [
    {
     "name": "stdout",
     "output_type": "stream",
     "text": [
      "0:00:01.232662\n"
     ]
    }
   ],
   "source": [
    "print(t)"
   ]
  },
  {
   "cell_type": "code",
   "execution_count": 187,
   "metadata": {},
   "outputs": [
    {
     "data": {
      "text/plain": [
       "1.4558641483204233"
      ]
     },
     "execution_count": 187,
     "metadata": {},
     "output_type": "execute_result"
    }
   ],
   "source": [
    "gambles[1].sample()"
   ]
  },
  {
   "cell_type": "code",
   "execution_count": 188,
   "metadata": {},
   "outputs": [
    {
     "data": {
      "text/plain": [
       "array([0.4814344818594765, 0.9744296664609468, Norm(0.00, 0.00), Norm(0.00, 0.00)], dtype=object)"
      ]
     },
     "execution_count": 188,
     "metadata": {},
     "output_type": "execute_result"
    }
   ],
   "source": [
    "env.dist * grid[1]"
   ]
  },
  {
   "cell_type": "code",
   "execution_count": 189,
   "metadata": {},
   "outputs": [
    {
     "data": {
      "text/plain": [
       "array([Norm(0.50, 0.06), Norm(1.50, 0.56), Norm(0.00, 0.00), Norm(0.00, 0.00)], dtype=object)"
      ]
     },
     "execution_count": 189,
     "metadata": {},
     "output_type": "execute_result"
    }
   ],
   "source": [
    "env.reset()\n",
    "grid = np.array(env._state).reshape(env.gambles,env.outcomes)\n",
    "env.dist * grid[1]"
   ]
  },
  {
   "cell_type": "code",
   "execution_count": 190,
   "metadata": {},
   "outputs": [
    {
     "data": {
      "text/plain": [
       "[2.0, 2.0, 2.0, 2.0]"
      ]
     },
     "execution_count": 190,
     "metadata": {},
     "output_type": "execute_result"
    }
   ],
   "source": [
    "[expectation(np.sum(env.dist*grid[g])) for g in range(env.gambles)]"
   ]
  },
  {
   "cell_type": "code",
   "execution_count": 191,
   "metadata": {
    "collapsed": true
   },
   "outputs": [],
   "source": [
    "best_gamble = env.best_gamble()"
   ]
  },
  {
   "cell_type": "code",
   "execution_count": 192,
   "metadata": {},
   "outputs": [
    {
     "data": {
      "text/plain": [
       "Norm(2.00, 1.00)"
      ]
     },
     "execution_count": 192,
     "metadata": {},
     "output_type": "execute_result"
    }
   ],
   "source": [
    "best_gamble[3]"
   ]
  },
  {
   "cell_type": "code",
   "execution_count": 193,
   "metadata": {},
   "outputs": [
    {
     "data": {
      "text/plain": [
       "9.594203092044886"
      ]
     },
     "execution_count": 193,
     "metadata": {},
     "output_type": "execute_result"
    }
   ],
   "source": [
    "np.sum(best_gamble).sample()"
   ]
  },
  {
   "cell_type": "code",
   "execution_count": 194,
   "metadata": {},
   "outputs": [
    {
     "data": {
      "text/plain": [
       "array([Norm(0.50, 0.06), Norm(1.50, 0.56), Norm(0.00, 0.00), Norm(0.00, 0.00)], dtype=object)"
      ]
     },
     "execution_count": 194,
     "metadata": {},
     "output_type": "execute_result"
    }
   ],
   "source": [
    "env.dist*grid[1]"
   ]
  },
  {
   "cell_type": "code",
   "execution_count": 195,
   "metadata": {},
   "outputs": [
    {
     "name": "stdout",
     "output_type": "stream",
     "text": [
      "bg [Norm(0.50, 0.06) Norm(1.50, 0.56) Norm(0.00, 0.00) Norm(0.00, 0.00)]\n"
     ]
    },
    {
     "data": {
      "text/plain": [
       "2.0"
      ]
     },
     "execution_count": 195,
     "metadata": {},
     "output_type": "execute_result"
    }
   ],
   "source": [
    "env.expected_term_reward()"
   ]
  },
  {
   "cell_type": "markdown",
   "metadata": {},
   "source": [
    "## Training Trials"
   ]
  },
  {
   "cell_type": "code",
   "execution_count": 210,
   "metadata": {
    "collapsed": true
   },
   "outputs": [],
   "source": [
    "gambles = 4\n",
    "attributes = [0.25,0.75,0,0]\n",
    "reward = Normal(2,1)\n",
    "env = OldMouselabEnv(gambles, attributes,reward)"
   ]
  },
  {
   "cell_type": "code",
   "execution_count": 211,
   "metadata": {},
   "outputs": [
    {
     "data": {
      "text/plain": [
       "16"
      ]
     },
     "execution_count": 211,
     "metadata": {},
     "output_type": "execute_result"
    }
   ],
   "source": [
    "len(env._state)"
   ]
  },
  {
   "cell_type": "code",
   "execution_count": 212,
   "metadata": {
    "collapsed": true
   },
   "outputs": [],
   "source": [
    "pol = LiederPolicy([1, 1, 0, 0, 1])"
   ]
  },
  {
   "cell_type": "code",
   "execution_count": 213,
   "metadata": {},
   "outputs": [
    {
     "data": {
      "text/plain": [
       "17"
      ]
     },
     "execution_count": 213,
     "metadata": {},
     "output_type": "execute_result"
    }
   ],
   "source": [
    "len(list(env.actions()))"
   ]
  },
  {
   "cell_type": "code",
   "execution_count": 214,
   "metadata": {},
   "outputs": [
    {
     "data": {
      "text/plain": [
       "<__main__.OldMouselabEnv at 0x2b7b51ff0898>"
      ]
     },
     "execution_count": 214,
     "metadata": {},
     "output_type": "execute_result"
    }
   ],
   "source": [
    "env"
   ]
  },
  {
   "cell_type": "code",
   "execution_count": 215,
   "metadata": {},
   "outputs": [
    {
     "name": "stderr",
     "output_type": "stream",
     "text": [
      "/global/software/sl-6.x86_64/modules/langs/python/3.5.1/lib/python3.5/site-packages/scipy/stats/_distn_infrastructure.py:1645: RuntimeWarning: divide by zero encountered in double_scalars\n",
      "  x = np.asarray((x - loc)/scale, dtype=dtyp)\n",
      "/global/software/sl-6.x86_64/modules/langs/python/3.5.1/lib/python3.5/site-packages/scipy/integrate/quadpack.py:356: IntegrationWarning: The occurrence of roundoff error is detected, which prevents \n",
      "  the requested tolerance from being achieved.  The error may be \n",
      "  underestimated.\n",
      "  warnings.warn(msg, IntegrationWarning)\n",
      "/global/software/sl-6.x86_64/modules/langs/python/3.5.1/lib/python3.5/site-packages/scipy/stats/_distn_infrastructure.py:1728: RuntimeWarning: divide by zero encountered in double_scalars\n",
      "  x = np.asarray((x - loc)/scale, dtype=dtyp)\n"
     ]
    },
    {
     "data": {
      "text/plain": [
       "{'observations': 16, 'util': 3.225274770852804}"
      ]
     },
     "execution_count": 215,
     "metadata": {},
     "output_type": "execute_result"
    }
   ],
   "source": [
    "agent = Agent()\n",
    "def run_env(policy, env):\n",
    "    agent.register(env)\n",
    "    agent.register(policy)\n",
    "    tr = agent.run_episode()\n",
    "    return {'util': tr['return'],\n",
    "            'observations': len(tr['actions']) - 1}\n",
    "run_env(pol, env) "
   ]
  },
  {
   "cell_type": "code",
   "execution_count": 216,
   "metadata": {
    "collapsed": true
   },
   "outputs": [],
   "source": [
    "def run_params(gambles = 3, attributes = [0.25,0.75,0], reward = Normal(2,1), max_obs=30, cost=.01):\n",
    "    print(str(gambles)+' gambles, probs: '+ str(attributes) + ', cost:' + str(cost))\n",
    "    env = OldMouselabEnv(gambles, attributes,reward)\n",
    "    train_envs = [env] * 1\n",
    "    term_action = train_envs[0].term_action\n",
    "    policies = {\n",
    "#         'BO': bo_policy(train_envs, max_cost=30, n_jobs=5, n_calls=250, \n",
    "#                         verbose=0, normalize_voi=False),\n",
    "#         'BO': bo_policy(train_envs, max_cost=max_obs, n_calls=150),\n",
    "#         'BO_unnorm': bo_policy(train_envs, max_cost=max_obs, normalize_voi=False, n_calls=350),\n",
    "        'meta-greedy': LiederPolicy([1, 1, 0, 0, 1]),\n",
    "#         'blinkered': blinkered_policy(env),\n",
    "#         'optimal': optimal_policy(env),\n",
    "        'full-observation': LiederPolicy([-100, 0.5, 0.5, 0, 1]),\n",
    "        'none': FixedPlanPolicy([term_action])\n",
    "    }\n",
    "    test_envs = [env] * 20\n",
    "    def test():    \n",
    "        for name, policy in policies.items()\n",
    "            df = evaluate(policy, envs=test_envs)\n",
    "            df['agent'] = name\n",
    "            df['gambles'] = gambles\n",
    "            df['attr'] = str(attributes)\n",
    "            df['cost'] = cost\n",
    "            yield df\n",
    "    return pd.concat(test())"
   ]
  },
  {
   "cell_type": "code",
   "execution_count": 219,
   "metadata": {
    "scrolled": false
   },
   "outputs": [
    {
     "name": "stdout",
     "output_type": "stream",
     "text": [
      "3 gambles. probs: [0.25, 0.75, 0]\n",
      "3 gambles. probs: [0.25, 0.75, 0]\n",
      "3 gambles. probs: [0.25, 0.75, 0]\n",
      "3 gambles. probs: [0.25, 0.75, 0]\n",
      "3 gambles. probs: [0.25, 0.75, 0]\n",
      "3 gambles. probs: [0.25, 0.75, 0]\n",
      "3 gambles. probs: [0.25, 0.75, 0]\n"
     ]
    },
    {
     "name": "stderr",
     "output_type": "stream",
     "text": [
      "/global/software/sl-6.x86_64/modules/langs/python/3.5.1/lib/python3.5/site-packages/scipy/stats/_distn_infrastructure.py:1645: RuntimeWarning: divide by zero encountered in double_scalars\n",
      "  x = np.asarray((x - loc)/scale, dtype=dtyp)\n",
      "/global/software/sl-6.x86_64/modules/langs/python/3.5.1/lib/python3.5/site-packages/scipy/stats/_distn_infrastructure.py:1645: RuntimeWarning: divide by zero encountered in double_scalars\n",
      "  x = np.asarray((x - loc)/scale, dtype=dtyp)\n",
      "/global/software/sl-6.x86_64/modules/langs/python/3.5.1/lib/python3.5/site-packages/scipy/stats/_distn_infrastructure.py:1645: RuntimeWarning: divide by zero encountered in double_scalars\n",
      "  x = np.asarray((x - loc)/scale, dtype=dtyp)\n",
      "/global/software/sl-6.x86_64/modules/langs/python/3.5.1/lib/python3.5/site-packages/scipy/integrate/quadpack.py:356: IntegrationWarning: The occurrence of roundoff error is detected, which prevents \n",
      "  the requested tolerance from being achieved.  The error may be \n",
      "  underestimated.\n",
      "  warnings.warn(msg, IntegrationWarning)\n",
      "/global/software/sl-6.x86_64/modules/langs/python/3.5.1/lib/python3.5/site-packages/scipy/stats/_distn_infrastructure.py:1728: RuntimeWarning: divide by zero encountered in double_scalars\n",
      "  x = np.asarray((x - loc)/scale, dtype=dtyp)\n",
      "/global/software/sl-6.x86_64/modules/langs/python/3.5.1/lib/python3.5/site-packages/scipy/integrate/quadpack.py:356: IntegrationWarning: The occurrence of roundoff error is detected, which prevents \n",
      "  the requested tolerance from being achieved.  The error may be \n",
      "  underestimated.\n",
      "  warnings.warn(msg, IntegrationWarning)\n",
      "/global/software/sl-6.x86_64/modules/langs/python/3.5.1/lib/python3.5/site-packages/scipy/stats/_distn_infrastructure.py:1728: RuntimeWarning: divide by zero encountered in double_scalars\n",
      "  x = np.asarray((x - loc)/scale, dtype=dtyp)\n",
      "/global/software/sl-6.x86_64/modules/langs/python/3.5.1/lib/python3.5/site-packages/scipy/integrate/quadpack.py:356: IntegrationWarning: The occurrence of roundoff error is detected, which prevents \n",
      "  the requested tolerance from being achieved.  The error may be \n",
      "  underestimated.\n",
      "  warnings.warn(msg, IntegrationWarning)\n",
      "/global/software/sl-6.x86_64/modules/langs/python/3.5.1/lib/python3.5/site-packages/scipy/stats/_distn_infrastructure.py:1728: RuntimeWarning: divide by zero encountered in double_scalars\n",
      "  x = np.asarray((x - loc)/scale, dtype=dtyp)\n",
      "/global/software/sl-6.x86_64/modules/langs/python/3.5.1/lib/python3.5/site-packages/scipy/stats/_distn_infrastructure.py:1645: RuntimeWarning: divide by zero encountered in double_scalars\n",
      "  x = np.asarray((x - loc)/scale, dtype=dtyp)\n",
      "/global/software/sl-6.x86_64/modules/langs/python/3.5.1/lib/python3.5/site-packages/scipy/stats/_distn_infrastructure.py:1645: RuntimeWarning: divide by zero encountered in double_scalars\n",
      "  x = np.asarray((x - loc)/scale, dtype=dtyp)\n",
      "/global/software/sl-6.x86_64/modules/langs/python/3.5.1/lib/python3.5/site-packages/scipy/stats/_distn_infrastructure.py:1645: RuntimeWarning: divide by zero encountered in double_scalars\n",
      "  x = np.asarray((x - loc)/scale, dtype=dtyp)\n",
      "/global/software/sl-6.x86_64/modules/langs/python/3.5.1/lib/python3.5/site-packages/scipy/stats/_distn_infrastructure.py:1645: RuntimeWarning: divide by zero encountered in double_scalars\n",
      "  x = np.asarray((x - loc)/scale, dtype=dtyp)\n",
      "/global/software/sl-6.x86_64/modules/langs/python/3.5.1/lib/python3.5/site-packages/scipy/integrate/quadpack.py:356: IntegrationWarning: The occurrence of roundoff error is detected, which prevents \n",
      "  the requested tolerance from being achieved.  The error may be \n",
      "  underestimated.\n",
      "  warnings.warn(msg, IntegrationWarning)\n",
      "/global/software/sl-6.x86_64/modules/langs/python/3.5.1/lib/python3.5/site-packages/scipy/stats/_distn_infrastructure.py:1728: RuntimeWarning: divide by zero encountered in double_scalars\n",
      "  x = np.asarray((x - loc)/scale, dtype=dtyp)\n",
      "/global/software/sl-6.x86_64/modules/langs/python/3.5.1/lib/python3.5/site-packages/scipy/integrate/quadpack.py:356: IntegrationWarning: The occurrence of roundoff error is detected, which prevents \n",
      "  the requested tolerance from being achieved.  The error may be \n",
      "  underestimated.\n",
      "  warnings.warn(msg, IntegrationWarning)\n",
      "/global/software/sl-6.x86_64/modules/langs/python/3.5.1/lib/python3.5/site-packages/scipy/stats/_distn_infrastructure.py:1728: RuntimeWarning: divide by zero encountered in double_scalars\n",
      "  x = np.asarray((x - loc)/scale, dtype=dtyp)\n",
      "/global/software/sl-6.x86_64/modules/langs/python/3.5.1/lib/python3.5/site-packages/scipy/integrate/quadpack.py:356: IntegrationWarning: The occurrence of roundoff error is detected, which prevents \n",
      "  the requested tolerance from being achieved.  The error may be \n",
      "  underestimated.\n",
      "  warnings.warn(msg, IntegrationWarning)\n",
      "/global/software/sl-6.x86_64/modules/langs/python/3.5.1/lib/python3.5/site-packages/scipy/stats/_distn_infrastructure.py:1728: RuntimeWarning: divide by zero encountered in double_scalars\n",
      "  x = np.asarray((x - loc)/scale, dtype=dtyp)\n",
      "/global/software/sl-6.x86_64/modules/langs/python/3.5.1/lib/python3.5/site-packages/scipy/integrate/quadpack.py:356: IntegrationWarning: The occurrence of roundoff error is detected, which prevents \n",
      "  the requested tolerance from being achieved.  The error may be \n",
      "  underestimated.\n",
      "  warnings.warn(msg, IntegrationWarning)\n",
      "/global/software/sl-6.x86_64/modules/langs/python/3.5.1/lib/python3.5/site-packages/scipy/stats/_distn_infrastructure.py:1728: RuntimeWarning: divide by zero encountered in double_scalars\n",
      "  x = np.asarray((x - loc)/scale, dtype=dtyp)\n"
     ]
    },
    {
     "ename": "KeyboardInterrupt",
     "evalue": "",
     "output_type": "error",
     "traceback": [
      "\u001b[0;31m---------------------------------------------------------------------------\u001b[0m",
      "\u001b[0;31mKeyboardInterrupt\u001b[0m                         Traceback (most recent call last)",
      "\u001b[0;32m<ipython-input-219-eca1995c7279>\u001b[0m in \u001b[0;36m<module>\u001b[0;34m()\u001b[0m\n\u001b[0;32m----> 1\u001b[0;31m \u001b[0mdata\u001b[0m \u001b[0;34m=\u001b[0m \u001b[0mParallel\u001b[0m\u001b[0;34m(\u001b[0m\u001b[0mn_jobs\u001b[0m\u001b[0;34m=\u001b[0m\u001b[0;36m7\u001b[0m\u001b[0;34m)\u001b[0m\u001b[0;34m(\u001b[0m\u001b[0mdelayed\u001b[0m\u001b[0;34m(\u001b[0m\u001b[0mrun_params\u001b[0m\u001b[0;34m)\u001b[0m\u001b[0;34m(\u001b[0m\u001b[0mcost\u001b[0m\u001b[0;34m=\u001b[0m\u001b[0mcost\u001b[0m\u001b[0;34m)\u001b[0m \u001b[0;32mfor\u001b[0m \u001b[0mcost\u001b[0m \u001b[0;32min\u001b[0m \u001b[0mnp\u001b[0m\u001b[0;34m.\u001b[0m\u001b[0mlogspace\u001b[0m\u001b[0;34m(\u001b[0m\u001b[0;34m-\u001b[0m\u001b[0;36m4\u001b[0m\u001b[0;34m,\u001b[0m \u001b[0;34m-\u001b[0m\u001b[0;36m1\u001b[0m\u001b[0;34m,\u001b[0m \u001b[0;36m7\u001b[0m\u001b[0;34m)\u001b[0m\u001b[0;34m)\u001b[0m\u001b[0;34m\u001b[0m\u001b[0m\n\u001b[0m\u001b[1;32m      2\u001b[0m \u001b[0mstore\u001b[0m \u001b[0;34m=\u001b[0m \u001b[0mpd\u001b[0m\u001b[0;34m.\u001b[0m\u001b[0mHDFStore\u001b[0m\u001b[0;34m(\u001b[0m\u001b[0;34m'first_try.h5'\u001b[0m\u001b[0;34m)\u001b[0m\u001b[0;34m\u001b[0m\u001b[0m\n\u001b[1;32m      3\u001b[0m \u001b[0mstore\u001b[0m\u001b[0;34m[\u001b[0m\u001b[0;34m'data'\u001b[0m\u001b[0;34m]\u001b[0m \u001b[0;34m=\u001b[0m \u001b[0mpd\u001b[0m\u001b[0;34m.\u001b[0m\u001b[0mconcat\u001b[0m\u001b[0;34m(\u001b[0m\u001b[0mdata\u001b[0m\u001b[0;34m)\u001b[0m\u001b[0;34m\u001b[0m\u001b[0m\n\u001b[1;32m      4\u001b[0m \u001b[0mstore\u001b[0m\u001b[0;34m.\u001b[0m\u001b[0mclose\u001b[0m\u001b[0;34m(\u001b[0m\u001b[0;34m)\u001b[0m\u001b[0;34m\u001b[0m\u001b[0m\n",
      "\u001b[0;32m/global/home/users/sayangul/.local/lib/python3.5/site-packages/joblib/parallel.py\u001b[0m in \u001b[0;36m__call__\u001b[0;34m(self, iterable)\u001b[0m\n\u001b[1;32m    787\u001b[0m                 \u001b[0;31m# consumption.\u001b[0m\u001b[0;34m\u001b[0m\u001b[0;34m\u001b[0m\u001b[0m\n\u001b[1;32m    788\u001b[0m                 \u001b[0mself\u001b[0m\u001b[0;34m.\u001b[0m\u001b[0m_iterating\u001b[0m \u001b[0;34m=\u001b[0m \u001b[0;32mFalse\u001b[0m\u001b[0;34m\u001b[0m\u001b[0m\n\u001b[0;32m--> 789\u001b[0;31m             \u001b[0mself\u001b[0m\u001b[0;34m.\u001b[0m\u001b[0mretrieve\u001b[0m\u001b[0;34m(\u001b[0m\u001b[0;34m)\u001b[0m\u001b[0;34m\u001b[0m\u001b[0m\n\u001b[0m\u001b[1;32m    790\u001b[0m             \u001b[0;31m# Make sure that we get a last message telling us we are done\u001b[0m\u001b[0;34m\u001b[0m\u001b[0;34m\u001b[0m\u001b[0m\n\u001b[1;32m    791\u001b[0m             \u001b[0melapsed_time\u001b[0m \u001b[0;34m=\u001b[0m \u001b[0mtime\u001b[0m\u001b[0;34m.\u001b[0m\u001b[0mtime\u001b[0m\u001b[0;34m(\u001b[0m\u001b[0;34m)\u001b[0m \u001b[0;34m-\u001b[0m \u001b[0mself\u001b[0m\u001b[0;34m.\u001b[0m\u001b[0m_start_time\u001b[0m\u001b[0;34m\u001b[0m\u001b[0m\n",
      "\u001b[0;32m/global/home/users/sayangul/.local/lib/python3.5/site-packages/joblib/parallel.py\u001b[0m in \u001b[0;36mretrieve\u001b[0;34m(self)\u001b[0m\n\u001b[1;32m    697\u001b[0m             \u001b[0;32mtry\u001b[0m\u001b[0;34m:\u001b[0m\u001b[0;34m\u001b[0m\u001b[0m\n\u001b[1;32m    698\u001b[0m                 \u001b[0;32mif\u001b[0m \u001b[0mgetattr\u001b[0m\u001b[0;34m(\u001b[0m\u001b[0mself\u001b[0m\u001b[0;34m.\u001b[0m\u001b[0m_backend\u001b[0m\u001b[0;34m,\u001b[0m \u001b[0;34m'supports_timeout'\u001b[0m\u001b[0;34m,\u001b[0m \u001b[0;32mFalse\u001b[0m\u001b[0;34m)\u001b[0m\u001b[0;34m:\u001b[0m\u001b[0;34m\u001b[0m\u001b[0m\n\u001b[0;32m--> 699\u001b[0;31m                     \u001b[0mself\u001b[0m\u001b[0;34m.\u001b[0m\u001b[0m_output\u001b[0m\u001b[0;34m.\u001b[0m\u001b[0mextend\u001b[0m\u001b[0;34m(\u001b[0m\u001b[0mjob\u001b[0m\u001b[0;34m.\u001b[0m\u001b[0mget\u001b[0m\u001b[0;34m(\u001b[0m\u001b[0mtimeout\u001b[0m\u001b[0;34m=\u001b[0m\u001b[0mself\u001b[0m\u001b[0;34m.\u001b[0m\u001b[0mtimeout\u001b[0m\u001b[0;34m)\u001b[0m\u001b[0;34m)\u001b[0m\u001b[0;34m\u001b[0m\u001b[0m\n\u001b[0m\u001b[1;32m    700\u001b[0m                 \u001b[0;32melse\u001b[0m\u001b[0;34m:\u001b[0m\u001b[0;34m\u001b[0m\u001b[0m\n\u001b[1;32m    701\u001b[0m                     \u001b[0mself\u001b[0m\u001b[0;34m.\u001b[0m\u001b[0m_output\u001b[0m\u001b[0;34m.\u001b[0m\u001b[0mextend\u001b[0m\u001b[0;34m(\u001b[0m\u001b[0mjob\u001b[0m\u001b[0;34m.\u001b[0m\u001b[0mget\u001b[0m\u001b[0;34m(\u001b[0m\u001b[0;34m)\u001b[0m\u001b[0;34m)\u001b[0m\u001b[0;34m\u001b[0m\u001b[0m\n",
      "\u001b[0;32m/global/software/sl-6.x86_64/modules/langs/python/3.5.1/lib/python3.5/multiprocessing/pool.py\u001b[0m in \u001b[0;36mget\u001b[0;34m(self, timeout)\u001b[0m\n\u001b[1;32m    600\u001b[0m \u001b[0;34m\u001b[0m\u001b[0m\n\u001b[1;32m    601\u001b[0m     \u001b[0;32mdef\u001b[0m \u001b[0mget\u001b[0m\u001b[0;34m(\u001b[0m\u001b[0mself\u001b[0m\u001b[0;34m,\u001b[0m \u001b[0mtimeout\u001b[0m\u001b[0;34m=\u001b[0m\u001b[0;32mNone\u001b[0m\u001b[0;34m)\u001b[0m\u001b[0;34m:\u001b[0m\u001b[0;34m\u001b[0m\u001b[0m\n\u001b[0;32m--> 602\u001b[0;31m         \u001b[0mself\u001b[0m\u001b[0;34m.\u001b[0m\u001b[0mwait\u001b[0m\u001b[0;34m(\u001b[0m\u001b[0mtimeout\u001b[0m\u001b[0;34m)\u001b[0m\u001b[0;34m\u001b[0m\u001b[0m\n\u001b[0m\u001b[1;32m    603\u001b[0m         \u001b[0;32mif\u001b[0m \u001b[0;32mnot\u001b[0m \u001b[0mself\u001b[0m\u001b[0;34m.\u001b[0m\u001b[0mready\u001b[0m\u001b[0;34m(\u001b[0m\u001b[0;34m)\u001b[0m\u001b[0;34m:\u001b[0m\u001b[0;34m\u001b[0m\u001b[0m\n\u001b[1;32m    604\u001b[0m             \u001b[0;32mraise\u001b[0m \u001b[0mTimeoutError\u001b[0m\u001b[0;34m\u001b[0m\u001b[0m\n",
      "\u001b[0;32m/global/software/sl-6.x86_64/modules/langs/python/3.5.1/lib/python3.5/multiprocessing/pool.py\u001b[0m in \u001b[0;36mwait\u001b[0;34m(self, timeout)\u001b[0m\n\u001b[1;32m    597\u001b[0m \u001b[0;34m\u001b[0m\u001b[0m\n\u001b[1;32m    598\u001b[0m     \u001b[0;32mdef\u001b[0m \u001b[0mwait\u001b[0m\u001b[0;34m(\u001b[0m\u001b[0mself\u001b[0m\u001b[0;34m,\u001b[0m \u001b[0mtimeout\u001b[0m\u001b[0;34m=\u001b[0m\u001b[0;32mNone\u001b[0m\u001b[0;34m)\u001b[0m\u001b[0;34m:\u001b[0m\u001b[0;34m\u001b[0m\u001b[0m\n\u001b[0;32m--> 599\u001b[0;31m         \u001b[0mself\u001b[0m\u001b[0;34m.\u001b[0m\u001b[0m_event\u001b[0m\u001b[0;34m.\u001b[0m\u001b[0mwait\u001b[0m\u001b[0;34m(\u001b[0m\u001b[0mtimeout\u001b[0m\u001b[0;34m)\u001b[0m\u001b[0;34m\u001b[0m\u001b[0m\n\u001b[0m\u001b[1;32m    600\u001b[0m \u001b[0;34m\u001b[0m\u001b[0m\n\u001b[1;32m    601\u001b[0m     \u001b[0;32mdef\u001b[0m \u001b[0mget\u001b[0m\u001b[0;34m(\u001b[0m\u001b[0mself\u001b[0m\u001b[0;34m,\u001b[0m \u001b[0mtimeout\u001b[0m\u001b[0;34m=\u001b[0m\u001b[0;32mNone\u001b[0m\u001b[0;34m)\u001b[0m\u001b[0;34m:\u001b[0m\u001b[0;34m\u001b[0m\u001b[0m\n",
      "\u001b[0;32m/global/software/sl-6.x86_64/modules/langs/python/3.5.1/lib/python3.5/threading.py\u001b[0m in \u001b[0;36mwait\u001b[0;34m(self, timeout)\u001b[0m\n\u001b[1;32m    547\u001b[0m             \u001b[0msignaled\u001b[0m \u001b[0;34m=\u001b[0m \u001b[0mself\u001b[0m\u001b[0;34m.\u001b[0m\u001b[0m_flag\u001b[0m\u001b[0;34m\u001b[0m\u001b[0m\n\u001b[1;32m    548\u001b[0m             \u001b[0;32mif\u001b[0m \u001b[0;32mnot\u001b[0m \u001b[0msignaled\u001b[0m\u001b[0;34m:\u001b[0m\u001b[0;34m\u001b[0m\u001b[0m\n\u001b[0;32m--> 549\u001b[0;31m                 \u001b[0msignaled\u001b[0m \u001b[0;34m=\u001b[0m \u001b[0mself\u001b[0m\u001b[0;34m.\u001b[0m\u001b[0m_cond\u001b[0m\u001b[0;34m.\u001b[0m\u001b[0mwait\u001b[0m\u001b[0;34m(\u001b[0m\u001b[0mtimeout\u001b[0m\u001b[0;34m)\u001b[0m\u001b[0;34m\u001b[0m\u001b[0m\n\u001b[0m\u001b[1;32m    550\u001b[0m             \u001b[0;32mreturn\u001b[0m \u001b[0msignaled\u001b[0m\u001b[0;34m\u001b[0m\u001b[0m\n\u001b[1;32m    551\u001b[0m \u001b[0;34m\u001b[0m\u001b[0m\n",
      "\u001b[0;32m/global/software/sl-6.x86_64/modules/langs/python/3.5.1/lib/python3.5/threading.py\u001b[0m in \u001b[0;36mwait\u001b[0;34m(self, timeout)\u001b[0m\n\u001b[1;32m    291\u001b[0m         \u001b[0;32mtry\u001b[0m\u001b[0;34m:\u001b[0m    \u001b[0;31m# restore state no matter what (e.g., KeyboardInterrupt)\u001b[0m\u001b[0;34m\u001b[0m\u001b[0m\n\u001b[1;32m    292\u001b[0m             \u001b[0;32mif\u001b[0m \u001b[0mtimeout\u001b[0m \u001b[0;32mis\u001b[0m \u001b[0;32mNone\u001b[0m\u001b[0;34m:\u001b[0m\u001b[0;34m\u001b[0m\u001b[0m\n\u001b[0;32m--> 293\u001b[0;31m                 \u001b[0mwaiter\u001b[0m\u001b[0;34m.\u001b[0m\u001b[0macquire\u001b[0m\u001b[0;34m(\u001b[0m\u001b[0;34m)\u001b[0m\u001b[0;34m\u001b[0m\u001b[0m\n\u001b[0m\u001b[1;32m    294\u001b[0m                 \u001b[0mgotit\u001b[0m \u001b[0;34m=\u001b[0m \u001b[0;32mTrue\u001b[0m\u001b[0;34m\u001b[0m\u001b[0m\n\u001b[1;32m    295\u001b[0m             \u001b[0;32melse\u001b[0m\u001b[0;34m:\u001b[0m\u001b[0;34m\u001b[0m\u001b[0m\n",
      "\u001b[0;31mKeyboardInterrupt\u001b[0m: "
     ]
    }
   ],
   "source": [
    "data = Parallel(n_jobs=7)(delayed(run_params)(cost=cost) for cost in np.logspace(-4, -1, 7))\n",
    "store = pd.HDFStore('first_try.h5')\n",
    "store['data'] = pd.concat(data)\n",
    "store.close()"
   ]
  },
  {
   "cell_type": "code",
   "execution_count": null,
   "metadata": {
    "collapsed": true
   },
   "outputs": [],
   "source": []
  }
 ],
 "metadata": {
  "kernelspec": {
   "display_name": "Python 3",
   "language": "python",
   "name": "python3"
  },
  "language_info": {
   "codemirror_mode": {
    "name": "ipython",
    "version": 3
   },
   "file_extension": ".py",
   "mimetype": "text/x-python",
   "name": "python",
   "nbconvert_exporter": "python",
   "pygments_lexer": "ipython3",
   "version": "3.6.2"
  }
 },
 "nbformat": 4,
 "nbformat_minor": 2
}
